{
 "cells": [
  {
   "cell_type": "code",
   "execution_count": 1,
   "metadata": {},
   "outputs": [],
   "source": [
    "import numpy as np\n",
    "import matplotlib.pyplot as plt\n",
    "import numpy.matlib\n",
    "%matplotlib inline\n",
    "import quantecon as qe\n",
    "import scipy.optimize as optimize\n",
    "import scipy.sparse as sparse\n",
    "from quantecon import compute_fixed_point\n",
    "from quantecon.markov import DiscreteDP\n",
    "import copy\n",
    "from Leapfrogging import leapfrogging\n",
    "lf = leapfrogging()\n",
    "from RLS import rls_class\n",
    "rls = rls_class()"
   ]
  },
  {
   "cell_type": "code",
   "execution_count": 2,
   "metadata": {},
   "outputs": [],
   "source": [
    "ss = lf.cSS(lf.nC)\n",
    "ESS = lf.cESS(lf.nC)\n",
    "Gtau= lambda ss, ESS, tau: lf.state_recursion(ss,ESS, tau)  "
   ]
  },
  {
   "cell_type": "code",
   "execution_count": 3,
   "metadata": {},
   "outputs": [
    {
     "name": "stdout",
     "output_type": "stream",
     "text": [
      "tau in state_recursion: 10\n",
      "bases in state_recusion: [1 1 1 1 1 1 1 1 1 1 1 1 1 1 1 1 1 1 1 1 1 1 1 1 1 1 1 1 1 1]\n",
      "g1_ccc 0.0\n",
      "pstar2 variables: (92.7646853428259, -80.11333399696639, -4.351351345859497)\n",
      "we made it into if supersset\n",
      "[0, 1, -0.05127109637602403, 0.9148899800157999]\n",
      "[0, 1, -0.05127109637602403, 0.9148899800157999]\n",
      "variables: (1, 1, 0, 0) \n",
      " total:0 \n",
      "into the superset^2\n",
      "we made it into if supersset\n",
      "[0, 1, -0.05127109637602403, 0.9148899800157999]\n",
      "[0, 1, -0.05127109637602403, 0.9148899800157999]\n",
      "variables: (0, 1, 0, 1) \n",
      " total:1 \n",
      "we made it into if supersset\n",
      "[0, 1, -0.05127109637602403, 0.9148899800157999]\n",
      "[0, 1, -0.05127109637602403, 0.9148899800157999]\n",
      "variables: (1, -0.05127109637602403, 1, 0) \n",
      " total:1.0512710963760241 \n",
      "we made it into if supersset\n",
      "[0, 1, -0.05127109637602403, 0.9148899800157999]\n",
      "[0, 1, -0.05127109637602403, 0.9148899800157999]\n",
      "variables: (0, -0.05127109637602403, 1, 1) \n",
      " total:0.05127109637602403 \n",
      " count in last_interior: 2 \n",
      "pstar2 variables: (61.84312356188393, -50.77715459019229, -2.76596897169164)\n",
      "we made it into if supersset\n",
      "[0, 1, -0.03264563152053968, 0.9133548806189905]\n",
      "[0, 1, -0.051271096376024033, 0.8723349700237002]\n",
      "variables: (1, 1, 0, 0) \n",
      " total:0 \n",
      "into the superset^2\n",
      "we made it into if supersset\n",
      "[0, 1, -0.03264563152053968, 0.9133548806189905]\n",
      "[0, 1, -0.051271096376024033, 0.8723349700237002]\n",
      "variables: (0, 1, 0, 1) \n",
      " total:1 \n",
      "we made it into if supersset\n",
      "[0, 1, -0.03264563152053968, 0.9133548806189905]\n",
      "[0, 1, -0.051271096376024033, 0.8723349700237002]\n",
      "variables: (1, -0.03264563152053968, 1, 0) \n",
      " total:1.0326456315205397 \n",
      "we made it into if supersset\n",
      "[0, 1, -0.03264563152053968, 0.9133548806189905]\n",
      "[0, 1, -0.051271096376024033, 0.8723349700237002]\n",
      "variables: (0, -0.03264563152053968, 1, 1) \n",
      " total:0.03264563152053968 \n",
      " count in last_interior: 2 \n",
      "pstar2 variables: (30.921561780941964, -21.440975183418182, -1.180586597523783)\n",
      "we made it into if supersset\n",
      "[0, 1, -0.01395839821879068, 0.9117580127759162]\n",
      "[0, 1, -0.051271096376024033, 0.7446699400474004]\n",
      "variables: (1, 1, 0, 0) \n",
      " total:0 \n",
      "into the superset^2\n",
      "we made it into if supersset\n",
      "[0, 1, -0.01395839821879068, 0.9117580127759162]\n",
      "[0, 1, -0.051271096376024033, 0.7446699400474004]\n",
      "variables: (0, 1, 0, 1) \n",
      " total:1 \n",
      "we made it into if supersset\n",
      "[0, 1, -0.01395839821879068, 0.9117580127759162]\n",
      "[0, 1, -0.051271096376024033, 0.7446699400474004]\n",
      "variables: (1, -0.01395839821879068, 0, 0) \n",
      " total:1.0139583982187907 \n",
      "we made it into if supersset\n",
      "[0, 1, -0.01395839821879068, 0.9117580127759162]\n",
      "[0, 1, -0.051271096376024033, 0.7446699400474004]\n",
      "variables: (0, -0.01395839821879068, 0, 1) \n",
      " total:0.01395839821879068 \n",
      " count in last_interior: 2 \n",
      "pstar2 variables: (92.7646853428259, -81.69871637113425, -2.765968971691639)\n",
      "we made it into if supersset\n",
      "[0, 1, -0.051271096376024033, 0.8723349700237002]\n",
      "[0, 1, -0.03264563152053968, 0.9133548806189905]\n",
      "variables: (1, 1, 0, 0) \n",
      " total:0 \n",
      "into the superset^2\n",
      "we made it into if supersset\n",
      "[0, 1, -0.051271096376024033, 0.8723349700237002]\n",
      "[0, 1, -0.03264563152053968, 0.9133548806189905]\n",
      "variables: (0, 1, 0, 1) \n",
      " total:1 \n",
      "we made it into if supersset\n",
      "[0, 1, -0.051271096376024033, 0.8723349700237002]\n",
      "[0, 1, -0.03264563152053968, 0.9133548806189905]\n",
      "variables: (1, -0.051271096376024033, 0, 0) \n",
      " total:1.0512710963760241 \n",
      "we made it into if supersset\n",
      "[0, 1, -0.051271096376024033, 0.8723349700237002]\n",
      "[0, 1, -0.03264563152053968, 0.9133548806189905]\n",
      "variables: (0, -0.051271096376024033, 0, 1) \n",
      " total:0.051271096376024033 \n",
      " count in last_interior: 2 \n",
      "pstar2 variables: (61.84312356188393, -50.77715459019229, -2.76596897169164)\n",
      "we made it into if supersset\n",
      "[0, 1, -0.051271096376024033, 0.8723349700237002]\n",
      "[0, 1, -0.051271096376024033, 0.8723349700237002]\n",
      "variables: (1, 1, 0, 0) \n",
      " total:0 \n",
      "into the superset^2\n",
      "we made it into if supersset\n",
      "[0, 1, -0.051271096376024033, 0.8723349700237002]\n",
      "[0, 1, -0.051271096376024033, 0.8723349700237002]\n",
      "variables: (0, 1, 0, 1) \n",
      " total:1 \n",
      "we made it into if supersset\n",
      "[0, 1, -0.051271096376024033, 0.8723349700237002]\n",
      "[0, 1, -0.051271096376024033, 0.8723349700237002]\n",
      "variables: (1, -0.051271096376024033, 0, 0) \n",
      " total:1.0512710963760241 \n",
      "we made it into if supersset\n",
      "[0, 1, -0.051271096376024033, 0.8723349700237002]\n",
      "[0, 1, -0.051271096376024033, 0.8723349700237002]\n",
      "variables: (0, -0.051271096376024033, 0, 1) \n",
      " total:0.051271096376024033 \n",
      " count in last_interior: 2 \n",
      "pstar2 variables: (30.921561780941964, -21.440975183418182, -1.180586597523783)\n",
      "we made it into if supersset\n",
      "[0, 1, -0.02197601242010923, 0.8686754342557974]\n",
      "[0, 1, -0.051271096376024033, 0.7446699400474004]\n",
      "variables: (1, 1, 0, 0) \n",
      " total:0 \n",
      "into the superset^2\n",
      "we made it into if supersset\n",
      "[0, 1, -0.02197601242010923, 0.8686754342557974]\n",
      "[0, 1, -0.051271096376024033, 0.7446699400474004]\n",
      "variables: (0, 1, 0, 1) \n",
      " total:1 \n",
      "we made it into if supersset\n",
      "[0, 1, -0.02197601242010923, 0.8686754342557974]\n",
      "[0, 1, -0.051271096376024033, 0.7446699400474004]\n",
      "variables: (1, -0.02197601242010923, 0, 0) \n",
      " total:1.0219760124201092 \n",
      "we made it into if supersset\n",
      "[0, 1, -0.02197601242010923, 0.8686754342557974]\n",
      "[0, 1, -0.051271096376024033, 0.7446699400474004]\n",
      "variables: (0, -0.02197601242010923, 0, 1) \n",
      " total:0.02197601242010923 \n",
      " count in last_interior: 2 \n",
      "pstar2 variables: (92.7646853428259, -83.28409874530212, -1.1805865975237828)\n",
      "we made it into if supersset\n",
      "[0, 1, -0.051271096376024033, 0.7446699400474004]\n",
      "[0, 1, -0.01395839821879068, 0.9117580127759162]\n",
      "variables: (1, 1, 0, 0) \n",
      " total:0 \n",
      "into the superset^2\n",
      "we made it into if supersset\n",
      "[0, 1, -0.051271096376024033, 0.7446699400474004]\n",
      "[0, 1, -0.01395839821879068, 0.9117580127759162]\n",
      "variables: (0, 1, 0, 1) \n",
      " total:1 \n",
      "we made it into if supersset\n",
      "[0, 1, -0.051271096376024033, 0.7446699400474004]\n",
      "[0, 1, -0.01395839821879068, 0.9117580127759162]\n",
      "variables: (1, -0.051271096376024033, 0, 0) \n",
      " total:1.0512710963760241 \n",
      "we made it into if supersset\n",
      "[0, 1, -0.051271096376024033, 0.7446699400474004]\n",
      "[0, 1, -0.01395839821879068, 0.9117580127759162]\n",
      "variables: (0, -0.051271096376024033, 0, 1) \n",
      " total:0.051271096376024033 \n",
      " count in last_interior: 2 \n",
      "pstar2 variables: (61.84312356188393, -52.362536964360146, -1.1805865975237833)\n",
      "we made it into if supersset\n",
      "[0, 1, -0.051271096376024033, 0.7446699400474004]\n",
      "[0, 1, -0.02197601242010923, 0.8686754342557974]\n",
      "variables: (1, 1, 0, 0) \n",
      " total:0 \n",
      "into the superset^2\n",
      "we made it into if supersset\n",
      "[0, 1, -0.051271096376024033, 0.7446699400474004]\n",
      "[0, 1, -0.02197601242010923, 0.8686754342557974]\n",
      "variables: (0, 1, 0, 1) \n",
      " total:1 \n",
      "we made it into if supersset\n",
      "[0, 1, -0.051271096376024033, 0.7446699400474004]\n",
      "[0, 1, -0.02197601242010923, 0.8686754342557974]\n",
      "variables: (1, -0.051271096376024033, 0, 0) \n",
      " total:1.0512710963760241 \n",
      "we made it into if supersset\n",
      "[0, 1, -0.051271096376024033, 0.7446699400474004]\n",
      "[0, 1, -0.02197601242010923, 0.8686754342557974]\n",
      "variables: (0, -0.051271096376024033, 0, 1) \n",
      " total:0.051271096376024033 \n",
      " count in last_interior: 2 \n",
      "pstar2 variables: (30.921561780941964, -21.440975183418182, -1.180586597523783)\n",
      "we made it into if supersset\n",
      "[0, 1, -0.051271096376024033, 0.7446699400474004]\n",
      "[0, 1, -0.051271096376024033, 0.7446699400474004]\n",
      "variables: (1, 1, 0, 0) \n",
      " total:0 \n",
      "into the superset^2\n",
      "we made it into if supersset\n",
      "[0, 1, -0.051271096376024033, 0.7446699400474004]\n",
      "[0, 1, -0.051271096376024033, 0.7446699400474004]\n",
      "variables: (0, 1, 0, 1) \n",
      " total:1 \n",
      "we made it into if supersset\n",
      "[0, 1, -0.051271096376024033, 0.7446699400474004]\n",
      "[0, 1, -0.051271096376024033, 0.7446699400474004]\n",
      "variables: (1, -0.051271096376024033, 0, 0) \n",
      " total:1.0512710963760241 \n",
      "we made it into if supersset\n",
      "[0, 1, -0.051271096376024033, 0.7446699400474004]\n",
      "[0, 1, -0.051271096376024033, 0.7446699400474004]\n",
      "variables: (0, -0.051271096376024033, 0, 1) \n",
      " total:0.051271096376024033 \n",
      " count in last_interior: 2 \n",
      "bases after T,-1,-2: [1 1 1 1 1 1 1 2 2 2 2 2 2 2 2 2 1 1 1 1 1 1 1 1 1 1 1 1 1 1]\n",
      "ESR[0]['esr']  :\n",
      "[0 0 0 0 0 0 0 0 0 0 0 0 0 0 0 0 0 0 0 0 0 0 0 0 0 0 0 0 0 0]\n",
      "ESR[0]['bases']:\n",
      "[1 1 1 1 1 1 1 1 1 1 1 1 1 1 1 1 1 1 1 1 1 1 1 1 1 1 1 1 1 1]\n",
      "ESS+1.esr [0. 0. 0. 0. 0. 0. 0. 0. 0. 0. 0. 0. 0. 0. 0. 0. 0. 0. 0. 0. 0. 0. 0. 0.\n",
      " 0. 0. 0. 0. 0. 0.] \n",
      "ESS.esr [0 0 0 0 0 0 0 0 0 0 0 0 0 0 0 0 0 0 0 0 0 0 0 0 0 0 0 0 0 0] \n"
     ]
    },
    {
     "ename": "ValueError",
     "evalue": "min() arg is an empty sequence",
     "output_type": "error",
     "traceback": [
      "\u001b[1;31m---------------------------------------------------------------------------\u001b[0m",
      "\u001b[1;31mValueError\u001b[0m                                Traceback (most recent call last)",
      "\u001b[1;32mc:\\Users\\Jonat\\Documents\\Polit\\Dynamic programing\\Term paper\\Github\\Dynamic-Programming-Leapfrogging\\Solve.ipynb Cell 3'\u001b[0m in \u001b[0;36m<cell line: 1>\u001b[1;34m()\u001b[0m\n\u001b[1;32m----> <a href='vscode-notebook-cell:/c%3A/Users/Jonat/Documents/Polit/Dynamic%20programing/Term%20paper/Github/Dynamic-Programming-Leapfrogging/Solve.ipynb#ch0000002?line=0'>1</a>\u001b[0m ESS, TAU, out\u001b[39m=\u001b[39mrls\u001b[39m.\u001b[39;49msolve(Gtau,ss\u001b[39m.\u001b[39;49mcopy(),ESS\u001b[39m.\u001b[39;49mcopy(),lf\u001b[39m.\u001b[39;49mstage_index)\n",
      "File \u001b[1;32mc:\\Users\\Jonat\\Documents\\Polit\\Dynamic programing\\Term paper\\Github\\Dynamic-Programming-Leapfrogging\\RLS.py:52\u001b[0m, in \u001b[0;36mrls_class.solve\u001b[1;34m(self, G, ss, ESS0, stage_index)\u001b[0m\n\u001b[0;32m     <a href='file:///c%3A/Users/Jonat/Documents/Polit/Dynamic%20programing/Term%20paper/Github/Dynamic-Programming-Leapfrogging/RLS.py?line=49'>50</a>\u001b[0m \u001b[39mprint\u001b[39m(\u001b[39mf\u001b[39m\u001b[39m\"\u001b[39m\u001b[39mESS.esr \u001b[39m\u001b[39m{\u001b[39;00mESS[iEQ][\u001b[39m'\u001b[39m\u001b[39mesr\u001b[39m\u001b[39m'\u001b[39m]\u001b[39m}\u001b[39;00m\u001b[39m \u001b[39m\u001b[39m\"\u001b[39m)\n\u001b[0;32m     <a href='file:///c%3A/Users/Jonat/Documents/Polit/Dynamic%20programing/Term%20paper/Github/Dynamic-Programming-Leapfrogging/RLS.py?line=50'>51</a>\u001b[0m changeindex_temp \u001b[39m=\u001b[39m np\u001b[39m.\u001b[39mnonzero((ESS[iEQ\u001b[39m+\u001b[39m\u001b[39m1\u001b[39m][\u001b[39m'\u001b[39m\u001b[39mesr\u001b[39m\u001b[39m'\u001b[39m]\u001b[39m-\u001b[39mESS[iEQ][\u001b[39m'\u001b[39m\u001b[39mesr\u001b[39m\u001b[39m'\u001b[39m])\u001b[39m!=\u001b[39m\u001b[39m0\u001b[39m)[\u001b[39m0\u001b[39m]\n\u001b[1;32m---> <a href='file:///c%3A/Users/Jonat/Documents/Polit/Dynamic%20programing/Term%20paper/Github/Dynamic-Programming-Leapfrogging/RLS.py?line=51'>52</a>\u001b[0m changeindex \u001b[39m=\u001b[39m \u001b[39mmin\u001b[39;49m(changeindex_temp)\n\u001b[0;32m     <a href='file:///c%3A/Users/Jonat/Documents/Polit/Dynamic%20programing/Term%20paper/Github/Dynamic-Programming-Leapfrogging/RLS.py?line=52'>53</a>\u001b[0m \u001b[39mprint\u001b[39m(\u001b[39mf\u001b[39m\u001b[39m'\u001b[39m\u001b[39mchange index: \u001b[39m\u001b[39m{\u001b[39;00mchangeindex\u001b[39m}\u001b[39;00m\u001b[39m'\u001b[39m)\n\u001b[0;32m     <a href='file:///c%3A/Users/Jonat/Documents/Polit/Dynamic%20programing/Term%20paper/Github/Dynamic-Programming-Leapfrogging/RLS.py?line=53'>54</a>\u001b[0m count_index \u001b[39m=\u001b[39m \u001b[39m0\u001b[39m\n",
      "\u001b[1;31mValueError\u001b[0m: min() arg is an empty sequence"
     ]
    }
   ],
   "source": [
    "ESS, TAU, out=rls.solve(Gtau,ss.copy(),ESS.copy(),lf.stage_index)"
   ]
  },
  {
   "cell_type": "code",
   "execution_count": 4,
   "metadata": {},
   "outputs": [
    {
     "name": "stdout",
     "output_type": "stream",
     "text": [
      "not\n"
     ]
    }
   ],
   "source": [
    "if 3:\n",
    "    print('not')\n",
    "else:\n",
    "    print('ok')"
   ]
  },
  {
   "cell_type": "code",
   "execution_count": 12,
   "metadata": {},
   "outputs": [
    {
     "name": "stdout",
     "output_type": "stream",
     "text": [
      "[1]\n"
     ]
    },
    {
     "ename": "SyntaxError",
     "evalue": "cannot assign to literal (<string>, line 1)",
     "output_type": "error",
     "traceback": [
      "Traceback \u001b[1;36m(most recent call last)\u001b[0m:\n",
      "  File \u001b[0;32mc:\\Users\\Jonat\\AppData\\Local\\Programs\\Python\\Python38\\lib\\site-packages\\IPython\\core\\interactiveshell.py:3397\u001b[0m in \u001b[0;35mrun_code\u001b[0m\n    exec(code_obj, self.user_global_ns, self.user_ns)\n",
      "\u001b[1;36m  Input \u001b[1;32mIn [12]\u001b[1;36m in \u001b[1;35m<cell line: 3>\u001b[1;36m\u001b[0m\n\u001b[1;33m    exec(f'{v} = {v[0]}')\u001b[0m\n",
      "\u001b[1;36m  File \u001b[1;32m<string>:1\u001b[1;36m\u001b[0m\n\u001b[1;31mSyntaxError\u001b[0m\u001b[1;31m:\u001b[0m cannot assign to literal\n"
     ]
    }
   ],
   "source": [
    "P1,vN1,vI1,P2,vN2,vI2 = [1], 2, [3], 4, 5, 6\n",
    "\n",
    "for v in [P1,vN1,vI1,P2,vN2,vI2]:\n",
    "    if isinstance(v,list):\n",
    "        print(v)\n",
    "        exec(f'{v} = {v[0]}')\n",
    "        print(v)\n",
    "eq = {'P1':P1, 'vN1':vN1, 'vI1':vI1, 'P2':P2, 'vN2':vN2, 'vI2':vI2}\n",
    "print(eq)"
   ]
  },
  {
   "cell_type": "code",
   "execution_count": 9,
   "metadata": {},
   "outputs": [
    {
     "data": {
      "text/plain": [
       "array([0, 0, 0, 0, 0, 0, 0, 0, 0, 0, 0, 0, 0, 0, 0, 0, 0, 0, 0, 0, 0, 0,\n",
       "       0, 0, 0, 0, 0, 0, 0, 0, 0, 0, 0, 0, 0, 0, 0, 0, 0, 0, 0, 0, 0, 0,\n",
       "       0, 0, 0, 0, 0, 0, 0, 0, 0, 0, 0])"
      ]
     },
     "execution_count": 9,
     "metadata": {},
     "output_type": "execute_result"
    }
   ],
   "source": [
    "np.zeros(int(N*(N+1)*(2*N+1)/6),dtype=int)"
   ]
  },
  {
   "cell_type": "code",
   "execution_count": 10,
   "metadata": {},
   "outputs": [
    {
     "data": {
      "text/plain": [
       "array([[0, 0, 0, 0, 0, 0, 0, 0, 0, 0, 0, 0, 0, 0, 0, 0, 0, 0, 0, 0, 0, 0,\n",
       "        0, 0, 0, 0, 0, 0, 0, 0, 0, 0, 0, 0, 0, 0, 0, 0, 0, 0, 0, 0, 0, 0,\n",
       "        0, 0, 0, 0, 0, 0, 0, 0, 0, 0, 0]])"
      ]
     },
     "execution_count": 10,
     "metadata": {},
     "output_type": "execute_result"
    }
   ],
   "source": [
    "np.zeros((1,int(N*(N+1)*(2*N+1)/6)),dtype=int)"
   ]
  },
  {
   "cell_type": "code",
   "execution_count": 10,
   "metadata": {},
   "outputs": [
    {
     "data": {
      "text/plain": [
       "[0, 0, 0, 0, 0, 1]"
      ]
     },
     "execution_count": 10,
     "metadata": {},
     "output_type": "execute_result"
    }
   ],
   "source": [
    "testESS[1]"
   ]
  },
  {
   "cell_type": "code",
   "execution_count": 22,
   "metadata": {},
   "outputs": [
    {
     "data": {
      "text/plain": [
       "tuple"
      ]
     },
     "execution_count": 22,
     "metadata": {},
     "output_type": "execute_result"
    }
   ],
   "source": [
    "type(np.nonzero((ESS['esr'][0]-ESS['esr'][0])!=0))"
   ]
  },
  {
   "cell_type": "code",
   "execution_count": 8,
   "metadata": {},
   "outputs": [
    {
     "data": {
      "text/plain": [
       "{'index': array([[[29, 28, 21, 7],\n",
       "         [None, 26, 23, 10],\n",
       "         [None, None, 17, 13],\n",
       "         [None, None, None, 1]],\n",
       " \n",
       "        [[None, 27, 22, 8],\n",
       "         [None, 25, 24, 11],\n",
       "         [None, None, 18, 14],\n",
       "         [None, None, None, 2]],\n",
       " \n",
       "        [[None, None, 19, 9],\n",
       "         [None, None, 20, 12],\n",
       "         [None, None, 16, 15],\n",
       "         [None, None, None, 3]],\n",
       " \n",
       "        [[None, None, None, 4],\n",
       "         [None, None, None, 5],\n",
       "         [None, None, None, 6],\n",
       "         [None, None, None, 0]]], dtype=object),\n",
       " 'esr': array([-1., -1., -1., -1., -1., -1., -1., -1., -1., -1., -1., -1., -1.,\n",
       "        -1., -1., -1., -1., -1., -1., -1., -1., -1., -1., -1., -1., -1.,\n",
       "        -1., -1., -1., -1.]),\n",
       " 'bases': array([[1, 1, 1, 1, 1, 1, 1, 1, 1, 1, 1, 0, 1, 1, 1, 1, 1, 1, 1, 1, 1, 1,\n",
       "         1, 1, 1, 1, 1, 1, 1, 1]])}"
      ]
     },
     "execution_count": 8,
     "metadata": {},
     "output_type": "execute_result"
    }
   ],
   "source": [
    "ESS"
   ]
  },
  {
   "cell_type": "code",
   "execution_count": null,
   "metadata": {},
   "outputs": [],
   "source": []
  }
 ],
 "metadata": {
  "interpreter": {
   "hash": "5ba1f6d498b622a33175926a1e2f90b1391313a70e628ffc805e7aeb04ddd433"
  },
  "kernelspec": {
   "display_name": "Python 3.8.9 64-bit",
   "language": "python",
   "name": "python3"
  },
  "language_info": {
   "codemirror_mode": {
    "name": "ipython",
    "version": 3
   },
   "file_extension": ".py",
   "mimetype": "text/x-python",
   "name": "python",
   "nbconvert_exporter": "python",
   "pygments_lexer": "ipython3",
   "version": "3.8.9"
  },
  "orig_nbformat": 4
 },
 "nbformat": 4,
 "nbformat_minor": 2
}
