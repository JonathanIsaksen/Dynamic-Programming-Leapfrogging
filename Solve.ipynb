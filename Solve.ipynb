{
 "cells": [
  {
   "cell_type": "code",
   "execution_count": 1,
   "metadata": {},
   "outputs": [],
   "source": [
    "import numpy as np\n",
    "import matplotlib.pyplot as plt\n",
    "import numpy.matlib\n",
    "%matplotlib inline\n",
    "import quantecon as qe\n",
    "import scipy.optimize as optimize\n",
    "import scipy.sparse as sparse\n",
    "from quantecon import compute_fixed_point\n",
    "from quantecon.markov import DiscreteDP\n",
    "import copy\n",
    "from Leapfrogging import leapfrogging\n",
    "lf = leapfrogging()\n",
    "from RLS import rls_class\n",
    "rls = rls_class()"
   ]
  },
  {
   "cell_type": "code",
   "execution_count": 2,
   "metadata": {},
   "outputs": [
    {
     "name": "stdout",
     "output_type": "stream",
     "text": [
      "tau in state_recursion: 10\n",
      "in T\n",
      "after:\n",
      "[0 0 0 0 0 0 0 0 0 0 0 0 0 0 0 0 0 0 0 0 0 0 0 0 0 0 0 0 0 0]\n",
      "in T-1\n",
      "after:\n",
      "[0 0 0 0 0 0 0 0 0 0 0 0 0 0 0 0 0 0 0 0 0 0 0 0 0 0 0 0 0 0]\n",
      "in T-2\n",
      "in last_interior\n",
      "after:\n",
      "[0 0 0 0 0 0 0 2 2 2 2 2 2 2 2 2 0 0 0 0 0 0 0 0 0 0 0 0 0 0]\n",
      "in mod==1\n",
      "after:\n",
      "[0 0 0 0 0 0 0 2 2 2 2 2 2 2 2 2 0 0 0 0 0 0 0 0 0 0 0 0 0 0]\n",
      "{'P1': 0, 'vN1': 0, 'vI1': 0, 'P2': 0, 'vN2': 0, 'vI2': 0}\n",
      "in mod==0\n",
      "c,p,ic: (1.6666666666666665, 1.0, 2) \n",
      " in ic1: 0 \n",
      "{'P1': 0, 'vN1': 0, 'vI1': -3.1125000000000003, 'P2': 0, 'vN2': 91.37357920113901, 'vI2': 88.26107920113901}\n",
      " in ic1: 1 \n",
      "{'P1': 0, 'vN1': 0, 'vI1': -3.1125000000000003, 'P2': 0, 'vN2': 57.199968379362524, 'vI2': 54.08746837936253}\n",
      " in ic2: 0 \n",
      "parts of H2:\n",
      "[[     29 4849756 7340144 6488175]\n",
      " [7471207 6815860 7274600 6029410]\n",
      " [6488161 6488179 6881396 7536748]\n",
      " [7078005 7798829 3407926 5046318]]\n",
      "-1\n",
      "{'P1': 0, 'vN1': 0, 'vI1': 0, 'P2': 0, 'vN2': 0, 'vI2': 0}\n",
      "variables: \n",
      "0.0\n",
      "3.1125000000000003\n",
      "0.0\n",
      "{'P1': 0, 'vN1': 6.5040980816690475, 'vI1': 3.391598081669047, 'P2': 0, 'vN2': 23.02635755758604, 'vI2': -3.1125000000000003}\n",
      " in ic2: 1 \n",
      "parts of H2:\n",
      "[[     29 4849756 7340144 6488175]\n",
      " [7471207 6815860 7274600 6029410]\n",
      " [6488161 6488179 6881396 7536748]\n",
      " [7078005 7798829 3407926 5046318]]\n",
      "-1\n",
      "{'P1': 0, 'vN1': 0, 'vI1': 0, 'P2': 0, 'vN2': 0, 'vI2': 0}\n",
      "variables: \n",
      "0.0\n",
      "3.1125000000000003\n",
      "0.0\n",
      "{'P1': 0, 'vN1': 3.252049040834523, 'vI1': 0.13954904083452258, 'P2': 0, 'vN2': 23.02635755758604, 'vI2': -3.1125000000000003}\n",
      "after:\n",
      "[0 0 0 0 0 0 0 2 2 2 2 2 2 2 2 2 0 0 0 0 0 0 0 0 0 0 0 0 0 0]\n",
      "in mod==2\n",
      "after:\n",
      "[0 0 0 0 0 0 0 2 2 2 2 2 2 2 2 2 0 0 0 0 0 1 1 0 0 0 0 0 0 0]\n",
      "in mod==1\n",
      "after:\n",
      "[0 0 0 0 0 0 0 2 2 2 2 2 2 2 2 2 0 0 0 0 0 1 1 0 0 0 0 0 0 0]\n",
      "{'P1': 0, 'vN1': 0, 'vI1': 0, 'P2': 0, 'vN2': 0, 'vI2': 0}\n",
      "in mod==0\n",
      "c,p,ic: (3.333333333333333, 1.0, 1) \n",
      " in ic1: 0 \n",
      "{'P1': 0, 'vN1': 0, 'vI1': -1.9153846153846157, 'P2': 0, 'vN2': 82.96958093813892, 'vI2': 81.05419632275431}\n",
      " in ic2: 0 \n",
      "parts of H2:\n",
      "[[     29 4849756 7340144 6488175]\n",
      " [7471207 6815860 7274600 6029410]\n",
      " [6488161 6488179 6881396 7536748]\n",
      " [7078005 7798829 3407926 5046318]]\n",
      "-1\n",
      "{'P1': 0, 'vN1': 0, 'vI1': 0, 'P2': 0, 'vN2': 0, 'vI2': 0}\n",
      "variables: \n",
      "0.0\n",
      "1.9153846153846157\n",
      "0.0\n",
      "{'P1': 0, 'vN1': 3.2520490408345237, 'vI1': 1.336664425449908, 'P2': 0, 'vN2': 48.79597011636245, 'vI2': -1.9153846153846157}\n",
      "after:\n",
      "[0 0 0 0 0 0 0 2 2 2 2 2 2 2 2 2 0 0 0 0 0 1 1 0 0 0 0 0 0 0]\n",
      "in mod==2\n",
      "after:\n",
      "[0 0 0 0 0 0 0 2 2 2 2 2 2 2 2 2 0 0 0 0 0 1 1 0 0 0 0 0 1 0]\n",
      "in mod==1\n",
      "ESR[0]['esr']  :\n",
      "[-1 -1 -1 -1 -1 -1 -1 -1 -1 -1 -1 -1 -1 -1 -1 -1 -1 -1 -1 -1 -1 -1 -1 -1\n",
      " -1 -1 -1 -1 -1 -1]\n",
      "ESR[0]['bases']:\n",
      "[0 0 0 0 0 0 0 0 0 0 0 0 0 0 0 0 0 0 0 0 0 0 0 0 0 0 0 0 0 0]\n",
      "tau in state_recursion: 9\n",
      "in T-1\n",
      "after:\n",
      "[0 0 0 0 0 0 0 2 2 2 2 2 2 2 2 2 0 0 0 0 0 1 1 0 0 0 0 0 1 0]\n",
      "in T-2\n",
      "in last_interior\n",
      "after:\n",
      "[0 0 0 0 0 0 0 0 0 0 0 0 0 0 0 0 0 0 0 0 0 1 1 0 0 0 0 0 1 0]\n",
      "in mod==1\n",
      "after:\n",
      "[0 0 0 0 0 0 0 0 0 0 0 0 0 0 0 0 0 0 0 0 0 1 1 0 0 0 0 0 1 0]\n",
      "{'P1': 0, 'vN1': 0, 'vI1': -3.1125000000000003, 'P2': 0, 'vN2': 0, 'vI2': -3.1125000000000003}\n",
      "in mod==0\n",
      "c,p,ic: (1.6666666666666665, 1.0, 2) \n",
      " in ic1: 0 \n",
      "{'P1': 0, 'vN1': 23.02635755758604, 'vI1': 19.913857557586038, 'P2': 0, 'vN2': 6.5040980816690475, 'vI2': 3.391598081669047}\n",
      " in ic1: 1 \n",
      "{'P1': 0, 'vN1': 23.02635755758604, 'vI1': 19.913857557586038, 'P2': 0, 'vN2': 3.252049040834523, 'vI2': 0.13954904083452258}\n",
      " in ic2: 0 \n",
      "parts of H2:\n",
      "[[     29 4849756 7340144 6488175]\n",
      " [7471207 6815860 7274600 6029410]\n",
      " [6488161 6488179 6881396 7536748]\n",
      " [7078005 7798829 3407926 5046318]]\n",
      "0\n",
      "{'P1': 0, 'vN1': 0, 'vI1': -3.1125000000000003, 'P2': 0, 'vN2': 0, 'vI2': -3.1125000000000003}\n",
      "variables: \n",
      "0.0\n",
      "3.1125000000000003\n",
      "0.0\n",
      "{'P1': 0, 'vN1': 91.37357920113901, 'vI1': 88.26107920113901, 'P2': 0, 'vN2': 0, 'vI2': -3.1125000000000003}\n",
      " in ic2: 1 \n",
      "parts of H2:\n",
      "[[     29 4849756 7340144 6488175]\n",
      " [7471207 6815860 7274600 6029410]\n",
      " [6488161 6488179 6881396 7536748]\n",
      " [7078005 7798829 3407926 5046318]]\n",
      "0\n",
      "{'P1': 0, 'vN1': 0, 'vI1': -3.1125000000000003, 'P2': 0, 'vN2': 0, 'vI2': -3.1125000000000003}\n",
      "variables: \n",
      "0.0\n",
      "3.1125000000000003\n",
      "0.0\n",
      "{'P1': 0, 'vN1': 57.199968379362524, 'vI1': 54.08746837936253, 'P2': 0, 'vN2': 0, 'vI2': -3.1125000000000003}\n",
      "after:\n",
      "[0 0 0 0 0 0 0 0 0 0 0 0 0 0 0 0 0 0 0 0 0 1 1 0 0 0 0 0 1 0]\n",
      "in mod==2\n",
      "after:\n",
      "[0 0 0 0 0 0 0 0 0 0 0 0 0 0 0 0 0 0 0 0 0 1 0 0 0 0 0 0 1 0]\n",
      "in mod==1\n",
      "after:\n",
      "[0 0 0 0 0 0 0 0 0 0 0 0 0 0 0 0 0 0 0 0 0 1 0 0 0 0 0 0 1 0]\n",
      "{'P1': 0, 'vN1': 0, 'vI1': -3.1125000000000003, 'P2': 0, 'vN2': 0, 'vI2': -3.1125000000000003}\n",
      "in mod==0\n",
      "c,p,ic: (3.333333333333333, 1.0, 1) \n",
      " in ic1: 0 \n",
      "{'P1': 0, 'vN1': 53.947919338528, 'vI1': 52.032534723143385, 'P2': 0, 'vN2': 3.2520490408345237, 'vI2': 1.336664425449908}\n",
      " in ic2: 0 \n",
      "parts of H2:\n",
      "[[     29 4849756 7340144 6488175]\n",
      " [7471207 6815860 7274600 6029410]\n",
      " [6488161 6488179 6881396 7536748]\n",
      " [7078005 7798829 3407926 5046318]]\n",
      "0\n",
      "{'P1': 0, 'vN1': 49.86420904503373, 'vI1': 47.948824429649115, 'P2': 0, 'vN2': 0, 'vI2': -1.9153846153846157}\n",
      "variables: \n",
      "0.0\n",
      "1.9153846153846157\n",
      "0.0\n",
      "{'P1': 0, 'vN1': 6.176498771946111, 'vI1': 4.261114156561495, 'P2': 0, 'vN2': 20.835109919178958, 'vI2': -1.9153846153846157}\n",
      "after:\n",
      "[0 0 0 0 0 0 0 0 0 0 0 0 0 0 0 0 0 0 0 0 0 1 0 0 0 0 0 0 1 0]\n",
      "in mod==2\n",
      "after:\n",
      "[0 0 0 0 0 0 0 0 0 0 0 0 0 0 0 0 0 0 0 0 0 1 0 0 0 0 0 0 0 0]\n",
      "in mod==1\n",
      "No more equilibria to check.\n"
     ]
    },
    {
     "name": "stderr",
     "output_type": "stream",
     "text": [
      "c:\\Users\\Jonat\\Documents\\Polit\\Dynamic programing\\Term paper\\Github\\Dynamic-Programming-Leapfrogging\\RLS.py:79: RuntimeWarning: divide by zero encountered in remainder\n",
      "  temp_xi = np.mod(addESS['esr'][i] + R,addESS['bases'][i])\n",
      "c:\\Users\\Jonat\\Documents\\Polit\\Dynamic programing\\Term paper\\Github\\Dynamic-Programming-Leapfrogging\\Leapfrogging.py:214: RuntimeWarning: invalid value encountered in long_scalars\n",
      "  out = np.floor(x/y) # xxx dot notation before: out=floor(x./y)\n",
      "c:\\Users\\Jonat\\Documents\\Polit\\Dynamic programing\\Term paper\\Github\\Dynamic-Programming-Leapfrogging\\RLS.py:79: RuntimeWarning: invalid value encountered in remainder\n",
      "  temp_xi = np.mod(addESS['esr'][i] + R,addESS['bases'][i])\n",
      "c:\\Users\\Jonat\\Documents\\Polit\\Dynamic programing\\Term paper\\Github\\Dynamic-Programming-Leapfrogging\\Leapfrogging.py:214: RuntimeWarning: divide by zero encountered in long_scalars\n",
      "  out = np.floor(x/y) # xxx dot notation before: out=floor(x./y)\n"
     ]
    }
   ],
   "source": [
    "ss = lf.cSS(lf.nC)\n",
    "ESS = lf.cESS(lf.nC)\n",
    "Gtau= lambda ss, ESS, tau: lf.state_recursion(ss,ESS, tau)  \n",
    "ESS, TAU, out=rls.solve(Gtau,ss.copy(),ESS.copy(),lf.stage_index)"
   ]
  },
  {
   "cell_type": "code",
   "execution_count": 5,
   "metadata": {},
   "outputs": [
    {
     "data": {
      "text/plain": [
       "array([0, 0, 0, 0, 0, 0, 0, 0, 0, 0, 0, 0, 0, 0, 0, 0, 0, 0, 0, 0, 0, 0,\n",
       "       0, 0, 0, 0, 0, 0, 0, 0])"
      ]
     },
     "execution_count": 5,
     "metadata": {},
     "output_type": "execute_result"
    }
   ],
   "source": [
    "N = 4\n",
    "np.zeros(int(N*(N+1)*(2*N+1)/6),dtype=int)\n"
   ]
  },
  {
   "cell_type": "code",
   "execution_count": 11,
   "metadata": {},
   "outputs": [
    {
     "data": {
      "text/plain": [
       "array([-1., -1., -1., -1., -1., -1., -1., -1., -1., -1., -1., -1., -1.,\n",
       "       -1., -1., -1., -1., -1., -1., -1., -1., -1., -1., -1., -1., -1.,\n",
       "       -1., -1., -1., -1.])"
      ]
     },
     "execution_count": 11,
     "metadata": {},
     "output_type": "execute_result"
    }
   ],
   "source": [
    "np.full((1, int(N*(N+1)*(2*N+1)/6)), -1.)[0]"
   ]
  },
  {
   "cell_type": "code",
   "execution_count": 12,
   "metadata": {},
   "outputs": [
    {
     "name": "stdout",
     "output_type": "stream",
     "text": [
      "[1]\n"
     ]
    },
    {
     "ename": "SyntaxError",
     "evalue": "cannot assign to literal (<string>, line 1)",
     "output_type": "error",
     "traceback": [
      "Traceback \u001b[1;36m(most recent call last)\u001b[0m:\n",
      "  File \u001b[0;32mc:\\Users\\Jonat\\AppData\\Local\\Programs\\Python\\Python38\\lib\\site-packages\\IPython\\core\\interactiveshell.py:3397\u001b[0m in \u001b[0;35mrun_code\u001b[0m\n    exec(code_obj, self.user_global_ns, self.user_ns)\n",
      "\u001b[1;36m  Input \u001b[1;32mIn [12]\u001b[1;36m in \u001b[1;35m<cell line: 3>\u001b[1;36m\u001b[0m\n\u001b[1;33m    exec(f'{v} = {v[0]}')\u001b[0m\n",
      "\u001b[1;36m  File \u001b[1;32m<string>:1\u001b[1;36m\u001b[0m\n\u001b[1;31mSyntaxError\u001b[0m\u001b[1;31m:\u001b[0m cannot assign to literal\n"
     ]
    }
   ],
   "source": [
    "P1,vN1,vI1,P2,vN2,vI2 = [1], 2, [3], 4, 5, 6\n",
    "\n",
    "for v in [P1,vN1,vI1,P2,vN2,vI2]:\n",
    "    if isinstance(v,list):\n",
    "        print(v)\n",
    "        exec(f'{v} = {v[0]}')\n",
    "        print(v)\n",
    "eq = {'P1':P1, 'vN1':vN1, 'vI1':vI1, 'P2':P2, 'vN2':vN2, 'vI2':vI2}\n",
    "print(eq)"
   ]
  },
  {
   "cell_type": "code",
   "execution_count": 9,
   "metadata": {},
   "outputs": [
    {
     "data": {
      "text/plain": [
       "array([0, 0, 0, 0, 0, 0, 0, 0, 0, 0, 0, 0, 0, 0, 0, 0, 0, 0, 0, 0, 0, 0,\n",
       "       0, 0, 0, 0, 0, 0, 0, 0, 0, 0, 0, 0, 0, 0, 0, 0, 0, 0, 0, 0, 0, 0,\n",
       "       0, 0, 0, 0, 0, 0, 0, 0, 0, 0, 0])"
      ]
     },
     "execution_count": 9,
     "metadata": {},
     "output_type": "execute_result"
    }
   ],
   "source": [
    "np.zeros(int(N*(N+1)*(2*N+1)/6),dtype=int)"
   ]
  },
  {
   "cell_type": "code",
   "execution_count": 10,
   "metadata": {},
   "outputs": [
    {
     "data": {
      "text/plain": [
       "array([0, 0, 0, 0, 0, 0, 0, 0, 0, 0, 0, 0, 0, 0, 0, 0, 0, 0, 0, 0, 0, 0,\n",
       "       0, 0, 0, 0, 0, 0, 0, 0])"
      ]
     },
     "execution_count": 10,
     "metadata": {},
     "output_type": "execute_result"
    }
   ],
   "source": [
    "np.full((2, 5), -1.)"
   ]
  },
  {
   "cell_type": "code",
   "execution_count": 10,
   "metadata": {},
   "outputs": [
    {
     "data": {
      "text/plain": [
       "[0, 0, 0, 0, 0, 1]"
      ]
     },
     "execution_count": 10,
     "metadata": {},
     "output_type": "execute_result"
    }
   ],
   "source": [
    "testESS[1]"
   ]
  },
  {
   "cell_type": "code",
   "execution_count": 22,
   "metadata": {},
   "outputs": [
    {
     "data": {
      "text/plain": [
       "tuple"
      ]
     },
     "execution_count": 22,
     "metadata": {},
     "output_type": "execute_result"
    }
   ],
   "source": [
    "type(np.nonzero((ESS['esr'][0]-ESS['esr'][0])!=0))"
   ]
  },
  {
   "cell_type": "code",
   "execution_count": 8,
   "metadata": {},
   "outputs": [
    {
     "data": {
      "text/plain": [
       "{'index': array([[[29, 28, 21, 7],\n",
       "         [None, 26, 23, 10],\n",
       "         [None, None, 17, 13],\n",
       "         [None, None, None, 1]],\n",
       " \n",
       "        [[None, 27, 22, 8],\n",
       "         [None, 25, 24, 11],\n",
       "         [None, None, 18, 14],\n",
       "         [None, None, None, 2]],\n",
       " \n",
       "        [[None, None, 19, 9],\n",
       "         [None, None, 20, 12],\n",
       "         [None, None, 16, 15],\n",
       "         [None, None, None, 3]],\n",
       " \n",
       "        [[None, None, None, 4],\n",
       "         [None, None, None, 5],\n",
       "         [None, None, None, 6],\n",
       "         [None, None, None, 0]]], dtype=object),\n",
       " 'esr': array([-1., -1., -1., -1., -1., -1., -1., -1., -1., -1., -1., -1., -1.,\n",
       "        -1., -1., -1., -1., -1., -1., -1., -1., -1., -1., -1., -1., -1.,\n",
       "        -1., -1., -1., -1.]),\n",
       " 'bases': array([[1, 1, 1, 1, 1, 1, 1, 1, 1, 1, 1, 0, 1, 1, 1, 1, 1, 1, 1, 1, 1, 1,\n",
       "         1, 1, 1, 1, 1, 1, 1, 1]])}"
      ]
     },
     "execution_count": 8,
     "metadata": {},
     "output_type": "execute_result"
    }
   ],
   "source": [
    "ESS"
   ]
  },
  {
   "cell_type": "code",
   "execution_count": null,
   "metadata": {},
   "outputs": [],
   "source": []
  }
 ],
 "metadata": {
  "interpreter": {
   "hash": "5ba1f6d498b622a33175926a1e2f90b1391313a70e628ffc805e7aeb04ddd433"
  },
  "kernelspec": {
   "display_name": "Python 3.8.9 64-bit",
   "language": "python",
   "name": "python3"
  },
  "language_info": {
   "codemirror_mode": {
    "name": "ipython",
    "version": 3
   },
   "file_extension": ".py",
   "mimetype": "text/x-python",
   "name": "python",
   "nbconvert_exporter": "python",
   "pygments_lexer": "ipython3",
   "version": "3.8.9"
  },
  "orig_nbformat": 4
 },
 "nbformat": 4,
 "nbformat_minor": 2
}
