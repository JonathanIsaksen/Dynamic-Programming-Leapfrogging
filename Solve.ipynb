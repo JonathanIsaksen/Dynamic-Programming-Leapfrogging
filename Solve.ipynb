{
 "cells": [
  {
   "cell_type": "code",
   "execution_count": 1,
   "metadata": {},
   "outputs": [],
   "source": [
    "import numpy as np\n",
    "import matplotlib.pyplot as plt\n",
    "import numpy.matlib\n",
    "%matplotlib inline\n",
    "import quantecon as qe\n",
    "import scipy.optimize as optimize\n",
    "import scipy.sparse as sparse\n",
    "from quantecon import compute_fixed_point\n",
    "from quantecon.markov import DiscreteDP\n",
    "import copy\n",
    "from Leapfrogging import leapfrogging\n",
    "lf = leapfrogging()\n",
    "from RLS import rls_class\n",
    "rls = rls_class()"
   ]
  },
  {
   "cell_type": "code",
   "execution_count": 2,
   "metadata": {},
   "outputs": [
    {
     "name": "stdout",
     "output_type": "stream",
     "text": [
      "ESR[0]['esr']  :\n",
      "[-1 -1 -1 -1 -1 -1 -1 -1 -1 -1 -1 -1 -1 -1 -1 -1 -1 -1 -1 -1 -1 -1 -1 -1\n",
      " -1 -1 -1 -1 -1 -1]\n",
      "ESR[0]['bases']:\n",
      "[0 0 0 0 0 0 0 0 0 0 0 0 0 0 0 0 0 0 0 0 0 0 0 0 0 0 0 0 0 0]\n"
     ]
    },
    {
     "name": "stderr",
     "output_type": "stream",
     "text": [
      "c:\\Users\\Jonat\\Documents\\Polit\\Dynamic programing\\Term paper\\Github\\Dynamic-Programming-Leapfrogging\\RLS.py:92: RuntimeWarning: divide by zero encountered in remainder\n",
      "  temp_xi = np.mod(addESS['esr'][i] + R,addESS['bases'][i])\n",
      "c:\\Users\\Jonat\\Documents\\Polit\\Dynamic programing\\Term paper\\Github\\Dynamic-Programming-Leapfrogging\\RLS.py:92: RuntimeWarning: invalid value encountered in remainder\n",
      "  temp_xi = np.mod(addESS['esr'][i] + R,addESS['bases'][i])\n"
     ]
    },
    {
     "name": "stdout",
     "output_type": "stream",
     "text": [
      "ESR[1000]['esr']  :\n",
      "[-1 -1 -1 -1 -1 -1 -1  0  0  0  0  0  0  0  0  0 -1 -1 -1 -1 -1  0 -1 -1\n",
      " -1 -1 -1 -1 -1 -1]\n",
      "ESR[1000]['bases']:\n",
      "[0 0 0 0 0 0 0 2 2 2 2 2 2 2 2 2 0 0 0 0 0 2 0 0 0 0 0 0 2 0]\n",
      "ESR[2000]['esr']  :\n",
      "[-1 -1 -1 -1 -1 -1 -1  0  0  0  0  0  0  0  0  0 -1 -1 -1 -1 -1  0 -1 -1\n",
      " -1 -1 -1 -1 -1 -1]\n",
      "ESR[2000]['bases']:\n",
      "[0 0 0 0 0 0 0 2 2 2 2 2 2 2 2 2 0 0 0 0 0 2 0 0 0 0 0 0 2 0]\n",
      "ESR[3000]['esr']  :\n",
      "[-1 -1 -1 -1 -1 -1 -1  0  0  0  0  0  0  0  0  0 -1 -1 -1 -1 -1  0 -1 -1\n",
      " -1 -1 -1 -1 -1 -1]\n",
      "ESR[3000]['bases']:\n",
      "[0 0 0 0 0 0 0 2 2 2 2 2 2 2 2 2 0 0 0 0 0 2 0 0 0 0 0 0 2 0]\n",
      "ESR[4000]['esr']  :\n",
      "[-1 -1 -1 -1 -1 -1 -1  0  0  0  0  0  0  0  0  0 -1 -1 -1 -1 -1  0 -1 -1\n",
      " -1 -1 -1 -1 -1 -1]\n",
      "ESR[4000]['bases']:\n",
      "[0 0 0 0 0 0 0 2 2 2 2 2 2 2 2 2 0 0 0 0 0 2 0 0 0 0 0 0 2 0]\n",
      "ESR[5000]['esr']  :\n",
      "[-1 -1 -1 -1 -1 -1 -1  0  0  0  0  0  0  0  0  0 -1 -1 -1 -1 -1  0 -1 -1\n",
      " -1 -1 -1 -1 -1 -1]\n",
      "ESR[5000]['bases']:\n",
      "[0 0 0 0 0 0 0 2 2 2 2 2 2 2 2 2 0 0 0 0 0 2 0 0 0 0 0 0 2 0]\n",
      "ESR[6000]['esr']  :\n",
      "[-1 -1 -1 -1 -1 -1 -1  0  0  0  0  0  0  0  0  0 -1 -1 -1 -1 -1  0 -1 -1\n",
      " -1 -1 -1 -1 -1 -1]\n",
      "ESR[6000]['bases']:\n",
      "[0 0 0 0 0 0 0 2 2 2 2 2 2 2 2 2 0 0 0 0 0 2 0 0 0 0 0 0 2 0]\n",
      "ESR[7000]['esr']  :\n",
      "[-1 -1 -1 -1 -1 -1 -1  0  0  0  0  0  0  0  0  0 -1 -1 -1 -1 -1  0 -1 -1\n",
      " -1 -1 -1 -1 -1 -1]\n",
      "ESR[7000]['bases']:\n",
      "[0 0 0 0 0 0 0 2 2 2 2 2 2 2 2 2 0 0 0 0 0 2 0 0 0 0 0 0 2 0]\n",
      "ESR[8000]['esr']  :\n",
      "[-1 -1 -1 -1 -1 -1 -1  0  0  0  0  0  0  0  0  0 -1 -1 -1 -1 -1  0 -1 -1\n",
      " -1 -1 -1 -1 -1 -1]\n",
      "ESR[8000]['bases']:\n",
      "[0 0 0 0 0 0 0 2 2 2 2 2 2 2 2 2 0 0 0 0 0 2 0 0 0 0 0 0 2 0]\n",
      "ESR[9000]['esr']  :\n",
      "[-1 -1 -1 -1 -1 -1 -1  0  0  0  0  0  0  0  0  0 -1 -1 -1 -1 -1  0 -1 -1\n",
      " -1 -1 -1 -1 -1 -1]\n",
      "ESR[9000]['bases']:\n",
      "[0 0 0 0 0 0 0 2 2 2 2 2 2 2 2 2 0 0 0 0 0 2 0 0 0 0 0 0 2 0]\n",
      "ESR[10000]['esr']  :\n",
      "[-1 -1 -1 -1 -1 -1 -1  0  0  0  0  0  0  0  0  0 -1 -1 -1 -1 -1  0 -1 -1\n",
      " -1 -1 -1 -1 -1 -1]\n",
      "ESR[10000]['bases']:\n",
      "[0 0 0 0 0 0 0 2 2 2 2 2 2 2 2 2 0 0 0 0 0 2 0 0 0 0 0 0 2 0]\n",
      "ESR[11000]['esr']  :\n",
      "[-1 -1 -1 -1 -1 -1 -1  0  0  0  0  0  0  0  0  0 -1 -1 -1 -1 -1  0 -1 -1\n",
      " -1 -1 -1 -1 -1 -1]\n",
      "ESR[11000]['bases']:\n",
      "[0 0 0 0 0 0 0 2 2 2 2 2 2 2 2 2 0 0 0 0 0 2 0 0 0 0 0 0 2 0]\n",
      "ESR[12000]['esr']  :\n",
      "[-1 -1 -1 -1 -1 -1 -1  0  0  0  0  0  0  0  0  0 -1 -1 -1 -1 -1  0 -1 -1\n",
      " -1 -1 -1 -1 -1 -1]\n",
      "ESR[12000]['bases']:\n",
      "[0 0 0 0 0 0 0 2 2 2 2 2 2 2 2 2 0 0 0 0 0 2 0 0 0 0 0 0 2 0]\n",
      "ESR[13000]['esr']  :\n",
      "[-1 -1 -1 -1 -1 -1 -1  0  0  0  0  0  0  0  0  0 -1 -1 -1 -1 -1  0 -1 -1\n",
      " -1 -1 -1 -1 -1 -1]\n",
      "ESR[13000]['bases']:\n",
      "[0 0 0 0 0 0 0 2 2 2 2 2 2 2 2 2 0 0 0 0 0 2 0 0 0 0 0 0 2 0]\n",
      "ESR[14000]['esr']  :\n",
      "[-1 -1 -1 -1 -1 -1 -1  0  0  0  0  0  0  0  0  0 -1 -1 -1 -1 -1  0 -1 -1\n",
      " -1 -1 -1 -1 -1 -1]\n",
      "ESR[14000]['bases']:\n",
      "[0 0 0 0 0 0 0 2 2 2 2 2 2 2 2 2 0 0 0 0 0 2 0 0 0 0 0 0 2 0]\n",
      "ESR[15000]['esr']  :\n",
      "[-1 -1 -1 -1 -1 -1 -1  0  0  0  0  0  0  0  0  0 -1 -1 -1 -1 -1  0 -1 -1\n",
      " -1 -1 -1 -1 -1 -1]\n",
      "ESR[15000]['bases']:\n",
      "[0 0 0 0 0 0 0 2 2 2 2 2 2 2 2 2 0 0 0 0 0 2 0 0 0 0 0 0 2 0]\n",
      "ESR[16000]['esr']  :\n",
      "[-1 -1 -1 -1 -1 -1 -1  0  0  0  0  0  0  0  0  0 -1 -1 -1 -1 -1  0 -1 -1\n",
      " -1 -1 -1 -1 -1 -1]\n",
      "ESR[16000]['bases']:\n",
      "[0 0 0 0 0 0 0 2 2 2 2 2 2 2 2 2 0 0 0 0 0 2 0 0 0 0 0 0 2 0]\n",
      "ESR[17000]['esr']  :\n",
      "[-1 -1 -1 -1 -1 -1 -1  0  0  0  0  0  0  0  0  0 -1 -1 -1 -1 -1  0 -1 -1\n",
      " -1 -1 -1 -1 -1 -1]\n",
      "ESR[17000]['bases']:\n",
      "[0 0 0 0 0 0 0 2 2 2 2 2 2 2 2 2 0 0 0 0 0 2 0 0 0 0 0 0 2 0]\n",
      "ESR[18000]['esr']  :\n",
      "[-1 -1 -1 -1 -1 -1 -1  0  0  0  0  0  0  0  0  0 -1 -1 -1 -1 -1  0 -1 -1\n",
      " -1 -1 -1 -1 -1 -1]\n",
      "ESR[18000]['bases']:\n",
      "[0 0 0 0 0 0 0 2 2 2 2 2 2 2 2 2 0 0 0 0 0 2 0 0 0 0 0 0 2 0]\n",
      "ESR[19000]['esr']  :\n",
      "[-1 -1 -1 -1 -1 -1 -1  0  0  0  0  0  0  0  0  0 -1 -1 -1 -1 -1  0 -1 -1\n",
      " -1 -1 -1 -1 -1 -1]\n",
      "ESR[19000]['bases']:\n",
      "[0 0 0 0 0 0 0 2 2 2 2 2 2 2 2 2 0 0 0 0 0 2 0 0 0 0 0 0 2 0]\n",
      "ESR[20000]['esr']  :\n",
      "[-1 -1 -1 -1 -1 -1 -1  0  0  0  0  0  0  0  0  0 -1 -1 -1 -1 -1  0 -1 -1\n",
      " -1 -1 -1 -1 -1 -1]\n",
      "ESR[20000]['bases']:\n",
      "[0 0 0 0 0 0 0 2 2 2 2 2 2 2 2 2 0 0 0 0 0 2 0 0 0 0 0 0 2 0]\n",
      "ESR[21000]['esr']  :\n",
      "[-1 -1 -1 -1 -1 -1 -1  0  0  0  0  0  0  0  0  0 -1 -1 -1 -1 -1  0 -1 -1\n",
      " -1 -1 -1 -1 -1 -1]\n",
      "ESR[21000]['bases']:\n",
      "[0 0 0 0 0 0 0 2 2 2 2 2 2 2 2 2 0 0 0 0 0 2 0 0 0 0 0 0 2 0]\n",
      "ESR[22000]['esr']  :\n",
      "[-1 -1 -1 -1 -1 -1 -1  0  0  0  0  0  0  0  0  0 -1 -1 -1 -1 -1  0 -1 -1\n",
      " -1 -1 -1 -1 -1 -1]\n",
      "ESR[22000]['bases']:\n",
      "[0 0 0 0 0 0 0 2 2 2 2 2 2 2 2 2 0 0 0 0 0 2 0 0 0 0 0 0 2 0]\n",
      "ESR[23000]['esr']  :\n",
      "[-1 -1 -1 -1 -1 -1 -1  0  0  0  0  0  0  0  0  0 -1 -1 -1 -1 -1  0 -1 -1\n",
      " -1 -1 -1 -1 -1 -1]\n",
      "ESR[23000]['bases']:\n",
      "[0 0 0 0 0 0 0 2 2 2 2 2 2 2 2 2 0 0 0 0 0 2 0 0 0 0 0 0 2 0]\n",
      "ESR[24000]['esr']  :\n",
      "[-1 -1 -1 -1 -1 -1 -1  0  0  0  0  0  0  0  0  0 -1 -1 -1 -1 -1  0 -1 -1\n",
      " -1 -1 -1 -1 -1 -1]\n",
      "ESR[24000]['bases']:\n",
      "[0 0 0 0 0 0 0 2 2 2 2 2 2 2 2 2 0 0 0 0 0 2 0 0 0 0 0 0 2 0]\n",
      "ESR[25000]['esr']  :\n",
      "[-1 -1 -1 -1 -1 -1 -1  0  0  0  0  0  0  0  0  0 -1 -1 -1 -1 -1  0 -1 -1\n",
      " -1 -1 -1 -1 -1 -1]\n",
      "ESR[25000]['bases']:\n",
      "[0 0 0 0 0 0 0 2 2 2 2 2 2 2 2 2 0 0 0 0 0 2 0 0 0 0 0 0 2 0]\n",
      "ESR[26000]['esr']  :\n",
      "[-1 -1 -1 -1 -1 -1 -1  0  0  0  0  0  0  0  0  0 -1 -1 -1 -1 -1  0 -1 -1\n",
      " -1 -1 -1 -1 -1 -1]\n",
      "ESR[26000]['bases']:\n",
      "[0 0 0 0 0 0 0 2 2 2 2 2 2 2 2 2 0 0 0 0 0 2 0 0 0 0 0 0 2 0]\n",
      "ESR[27000]['esr']  :\n",
      "[-1 -1 -1 -1 -1 -1 -1  0  0  0  0  0  0  0  0  0 -1 -1 -1 -1 -1  0 -1 -1\n",
      " -1 -1 -1 -1 -1 -1]\n",
      "ESR[27000]['bases']:\n",
      "[0 0 0 0 0 0 0 2 2 2 2 2 2 2 2 2 0 0 0 0 0 2 0 0 0 0 0 0 2 0]\n",
      "ESR[28000]['esr']  :\n",
      "[-1 -1 -1 -1 -1 -1 -1  0  0  0  0  0  0  0  0  0 -1 -1 -1 -1 -1  0 -1 -1\n",
      " -1 -1 -1 -1 -1 -1]\n",
      "ESR[28000]['bases']:\n",
      "[0 0 0 0 0 0 0 2 2 2 2 2 2 2 2 2 0 0 0 0 0 2 0 0 0 0 0 0 2 0]\n",
      "ESR[29000]['esr']  :\n",
      "[-1 -1 -1 -1 -1 -1 -1  0  0  0  0  0  0  0  0  0 -1 -1 -1 -1 -1  0 -1 -1\n",
      " -1 -1 -1 -1 -1 -1]\n",
      "ESR[29000]['bases']:\n",
      "[0 0 0 0 0 0 0 2 2 2 2 2 2 2 2 2 0 0 0 0 0 2 0 0 0 0 0 0 2 0]\n",
      "ESR[30000]['esr']  :\n",
      "[-1 -1 -1 -1 -1 -1 -1  0  0  0  0  0  0  0  0  0 -1 -1 -1 -1 -1  0 -1 -1\n",
      " -1 -1 -1 -1 -1 -1]\n",
      "ESR[30000]['bases']:\n",
      "[0 0 0 0 0 0 0 2 2 2 2 2 2 2 2 2 0 0 0 0 0 2 0 0 0 0 0 0 2 0]\n",
      "ESR[31000]['esr']  :\n",
      "[-1 -1 -1 -1 -1 -1 -1  0  0  0  0  0  0  0  0  0 -1 -1 -1 -1 -1  0 -1 -1\n",
      " -1 -1 -1 -1 -1 -1]\n",
      "ESR[31000]['bases']:\n",
      "[0 0 0 0 0 0 0 2 2 2 2 2 2 2 2 2 0 0 0 0 0 2 0 0 0 0 0 0 2 0]\n",
      "ESR[32000]['esr']  :\n",
      "[-1 -1 -1 -1 -1 -1 -1  0  0  0  0  0  0  0  0  0 -1 -1 -1 -1 -1  0 -1 -1\n",
      " -1 -1 -1 -1 -1 -1]\n",
      "ESR[32000]['bases']:\n",
      "[0 0 0 0 0 0 0 2 2 2 2 2 2 2 2 2 0 0 0 0 0 2 0 0 0 0 0 0 2 0]\n",
      "ESR[33000]['esr']  :\n",
      "[-1 -1 -1 -1 -1 -1 -1  0  0  0  0  0  0  0  0  0 -1 -1 -1 -1 -1  0 -1 -1\n",
      " -1 -1 -1 -1 -1 -1]\n",
      "ESR[33000]['bases']:\n",
      "[0 0 0 0 0 0 0 2 2 2 2 2 2 2 2 2 0 0 0 0 0 2 0 0 0 0 0 0 2 0]\n",
      "ESR[34000]['esr']  :\n",
      "[-1 -1 -1 -1 -1 -1 -1  0  0  0  0  0  0  0  0  0 -1 -1 -1 -1 -1  0 -1 -1\n",
      " -1 -1 -1 -1 -1 -1]\n",
      "ESR[34000]['bases']:\n",
      "[0 0 0 0 0 0 0 2 2 2 2 2 2 2 2 2 0 0 0 0 0 2 0 0 0 0 0 0 2 0]\n",
      "ESR[35000]['esr']  :\n",
      "[-1 -1 -1 -1 -1 -1 -1  0  0  0  0  0  0  0  0  0 -1 -1 -1 -1 -1  0 -1 -1\n",
      " -1 -1 -1 -1 -1 -1]\n",
      "ESR[35000]['bases']:\n",
      "[0 0 0 0 0 0 0 2 2 2 2 2 2 2 2 2 0 0 0 0 0 2 0 0 0 0 0 0 2 0]\n",
      "ESR[36000]['esr']  :\n",
      "[-1 -1 -1 -1 -1 -1 -1  0  0  0  0  0  0  0  0  0 -1 -1 -1 -1 -1  0 -1 -1\n",
      " -1 -1 -1 -1 -1 -1]\n",
      "ESR[36000]['bases']:\n",
      "[0 0 0 0 0 0 0 2 2 2 2 2 2 2 2 2 0 0 0 0 0 2 0 0 0 0 0 0 2 0]\n",
      "ESR[37000]['esr']  :\n",
      "[-1 -1 -1 -1 -1 -1 -1  0  0  0  0  0  0  0  0  0 -1 -1 -1 -1 -1  0 -1 -1\n",
      " -1 -1 -1 -1 -1 -1]\n",
      "ESR[37000]['bases']:\n",
      "[0 0 0 0 0 0 0 2 2 2 2 2 2 2 2 2 0 0 0 0 0 2 0 0 0 0 0 0 2 0]\n",
      "ESR[38000]['esr']  :\n",
      "[-1 -1 -1 -1 -1 -1 -1  0  0  0  0  0  0  0  0  0 -1 -1 -1 -1 -1  0 -1 -1\n",
      " -1 -1 -1 -1 -1 -1]\n",
      "ESR[38000]['bases']:\n",
      "[0 0 0 0 0 0 0 2 2 2 2 2 2 2 2 2 0 0 0 0 0 2 0 0 0 0 0 0 2 0]\n",
      "ESR[39000]['esr']  :\n",
      "[-1 -1 -1 -1 -1 -1 -1  0  0  0  0  0  0  0  0  0 -1 -1 -1 -1 -1  0 -1 -1\n",
      " -1 -1 -1 -1 -1 -1]\n",
      "ESR[39000]['bases']:\n",
      "[0 0 0 0 0 0 0 2 2 2 2 2 2 2 2 2 0 0 0 0 0 2 0 0 0 0 0 0 2 0]\n",
      "ESR[40000]['esr']  :\n",
      "[-1 -1 -1 -1 -1 -1 -1  0  0  0  0  0  0  0  0  0 -1 -1 -1 -1 -1  0 -1 -1\n",
      " -1 -1 -1 -1 -1 -1]\n",
      "ESR[40000]['bases']:\n",
      "[0 0 0 0 0 0 0 2 2 2 2 2 2 2 2 2 0 0 0 0 0 2 0 0 0 0 0 0 2 0]\n",
      "ESR[41000]['esr']  :\n",
      "[-1 -1 -1 -1 -1 -1 -1  0  0  0  0  0  0  0  0  0 -1 -1 -1 -1 -1  0 -1 -1\n",
      " -1 -1 -1 -1 -1 -1]\n",
      "ESR[41000]['bases']:\n",
      "[0 0 0 0 0 0 0 2 2 2 2 2 2 2 2 2 0 0 0 0 0 2 0 0 0 0 0 0 2 0]\n",
      "ESR[42000]['esr']  :\n",
      "[-1 -1 -1 -1 -1 -1 -1  0  0  0  0  0  0  0  0  0 -1 -1 -1 -1 -1  0 -1 -1\n",
      " -1 -1 -1 -1 -1 -1]\n",
      "ESR[42000]['bases']:\n",
      "[0 0 0 0 0 0 0 2 2 2 2 2 2 2 2 2 0 0 0 0 0 2 0 0 0 0 0 0 2 0]\n",
      "ESR[43000]['esr']  :\n",
      "[-1 -1 -1 -1 -1 -1 -1  0  0  0  0  0  0  0  0  0 -1 -1 -1 -1 -1  0 -1 -1\n",
      " -1 -1 -1 -1 -1 -1]\n",
      "ESR[43000]['bases']:\n",
      "[0 0 0 0 0 0 0 2 2 2 2 2 2 2 2 2 0 0 0 0 0 2 0 0 0 0 0 0 2 0]\n",
      "ESR[44000]['esr']  :\n",
      "[-1 -1 -1 -1 -1 -1 -1  0  0  0  0  0  0  0  0  0 -1 -1 -1 -1 -1  0 -1 -1\n",
      " -1 -1 -1 -1 -1 -1]\n",
      "ESR[44000]['bases']:\n",
      "[0 0 0 0 0 0 0 2 2 2 2 2 2 2 2 2 0 0 0 0 0 2 0 0 0 0 0 0 2 0]\n",
      "ESR[45000]['esr']  :\n",
      "[-1 -1 -1 -1 -1 -1 -1  0  0  0  0  0  0  0  0  0 -1 -1 -1 -1 -1  0 -1 -1\n",
      " -1 -1 -1 -1 -1 -1]\n",
      "ESR[45000]['bases']:\n",
      "[0 0 0 0 0 0 0 2 2 2 2 2 2 2 2 2 0 0 0 0 0 2 0 0 0 0 0 0 2 0]\n",
      "ESR[46000]['esr']  :\n",
      "[-1 -1 -1 -1 -1 -1 -1  0  0  0  0  0  0  0  0  0 -1 -1 -1 -1 -1  0 -1 -1\n",
      " -1 -1 -1 -1 -1 -1]\n",
      "ESR[46000]['bases']:\n",
      "[0 0 0 0 0 0 0 2 2 2 2 2 2 2 2 2 0 0 0 0 0 2 0 0 0 0 0 0 2 0]\n",
      "ESR[47000]['esr']  :\n",
      "[-1 -1 -1 -1 -1 -1 -1  0  0  0  0  0  0  0  0  0 -1 -1 -1 -1 -1  0 -1 -1\n",
      " -1 -1 -1 -1 -1 -1]\n",
      "ESR[47000]['bases']:\n",
      "[0 0 0 0 0 0 0 2 2 2 2 2 2 2 2 2 0 0 0 0 0 2 0 0 0 0 0 0 2 0]\n",
      "ESR[48000]['esr']  :\n",
      "[-1 -1 -1 -1 -1 -1 -1  0  0  0  0  0  0  0  0  0 -1 -1 -1 -1 -1  0 -1 -1\n",
      " -1 -1 -1 -1 -1 -1]\n",
      "ESR[48000]['bases']:\n",
      "[0 0 0 0 0 0 0 2 2 2 2 2 2 2 2 2 0 0 0 0 0 2 0 0 0 0 0 0 2 0]\n",
      "ESR[49000]['esr']  :\n",
      "[-1 -1 -1 -1 -1 -1 -1  0  0  0  0  0  0  0  0  0 -1 -1 -1 -1 -1  0 -1 -1\n",
      " -1 -1 -1 -1 -1 -1]\n",
      "ESR[49000]['bases']:\n",
      "[0 0 0 0 0 0 0 2 2 2 2 2 2 2 2 2 0 0 0 0 0 2 0 0 0 0 0 0 2 0]\n"
     ]
    }
   ],
   "source": [
    "ss1 = lf.cSS(lf.nC)\n",
    "ESS1 = lf.cESS(lf.nC)\n",
    "Gtau= lambda ss, ESS, tau: lf.state_recursion(ss,ESS, tau)  \n",
    "ESS, TAU, out=rls.solve(Gtau,ss1.copy(),ESS1.copy(),lf.stage_index)\n"
   ]
  },
  {
   "cell_type": "code",
   "execution_count": 4,
   "metadata": {},
   "outputs": [
    {
     "data": {
      "text/plain": [
       "array([], dtype=float64)"
      ]
     },
     "execution_count": 4,
     "metadata": {},
     "output_type": "execute_result"
    }
   ],
   "source": [
    "TAU"
   ]
  },
  {
   "cell_type": "code",
   "execution_count": 6,
   "metadata": {},
   "outputs": [
    {
     "name": "stdout",
     "output_type": "stream",
     "text": [
      "ok\n"
     ]
    }
   ],
   "source": [
    "for i in range(len(pstar1)):\n",
    "    for j in range(len(pstar2)):\n",
    "        if i > 1 and j > 1 and pstar1[i] >= 0 and pstar2[j] >= 0 and pstar1[i] <= 1 and pstar2[j] <= 1:\n",
    "            print('ok')"
   ]
  },
  {
   "cell_type": "code",
   "execution_count": 10,
   "metadata": {},
   "outputs": [
    {
     "name": "stdout",
     "output_type": "stream",
     "text": [
      "ok\n"
     ]
    }
   ],
   "source": [
    "if 2 > 1 and 2 > 1 and pstar1[2] >= 0 and pstar2[2] >= 0 and pstar1[2] <= 1 and pstar2[2] <= 1:\n",
    "    print('ok')"
   ]
  },
  {
   "cell_type": "code",
   "execution_count": 9,
   "metadata": {},
   "outputs": [],
   "source": [
    "tau[0] = {}\n",
    "tau[0]['EQs'] = EQs"
   ]
  },
  {
   "cell_type": "code",
   "execution_count": 10,
   "metadata": {},
   "outputs": [
    {
     "data": {
      "text/plain": [
       "array([{'EQs': array([[[None, None, None, None, None, None],\n",
       "        [None, None, None, None, None, None],\n",
       "        [None, None, None, None, None, None],\n",
       "        [None, None, None, None, None, None],\n",
       "        [None, None, None, None, None, None]],\n",
       "\n",
       "       [[None, None, None, None, None, None],\n",
       "        [None, None, None, None, None, None],\n",
       "        [None, None, None, None, None, None],\n",
       "        [None, None, None, None, None, None],\n",
       "        [None, None, None, None, None, None]],\n",
       "\n",
       "       [[None, None, None, None, None, None],\n",
       "        [None, None, None, None, None, None],\n",
       "        [None, None, None, None, None, None],\n",
       "        [None, None, None, None, None, None],\n",
       "        [None, None, None, None, None, None]],\n",
       "\n",
       "       [[None, None, None, None, None, None],\n",
       "        [None, None, None, None, None, None],\n",
       "        [None, None, None, None, None, None],\n",
       "        [None, None, None, None, None, None],\n",
       "        [None, None, None, None, None, None]],\n",
       "\n",
       "       [[None, None, None, None, None, None],\n",
       "        [None, None, None, None, None, None],\n",
       "        [None, None, None, None, None, None],\n",
       "        [None, None, None, None, None, None],\n",
       "        [None, None, None, None, None, None]]], dtype=object)},\n",
       "       None, None, None, None], dtype=object)"
      ]
     },
     "execution_count": 10,
     "metadata": {},
     "output_type": "execute_result"
    }
   ],
   "source": [
    "tau"
   ]
  },
  {
   "cell_type": "code",
   "execution_count": 12,
   "metadata": {},
   "outputs": [
    {
     "name": "stdout",
     "output_type": "stream",
     "text": [
      "[1]\n"
     ]
    },
    {
     "ename": "SyntaxError",
     "evalue": "cannot assign to literal (<string>, line 1)",
     "output_type": "error",
     "traceback": [
      "Traceback \u001b[1;36m(most recent call last)\u001b[0m:\n",
      "  File \u001b[0;32mc:\\Users\\Jonat\\AppData\\Local\\Programs\\Python\\Python38\\lib\\site-packages\\IPython\\core\\interactiveshell.py:3397\u001b[0m in \u001b[0;35mrun_code\u001b[0m\n    exec(code_obj, self.user_global_ns, self.user_ns)\n",
      "\u001b[1;36m  Input \u001b[1;32mIn [12]\u001b[1;36m in \u001b[1;35m<cell line: 3>\u001b[1;36m\u001b[0m\n\u001b[1;33m    exec(f'{v} = {v[0]}')\u001b[0m\n",
      "\u001b[1;36m  File \u001b[1;32m<string>:1\u001b[1;36m\u001b[0m\n\u001b[1;31mSyntaxError\u001b[0m\u001b[1;31m:\u001b[0m cannot assign to literal\n"
     ]
    }
   ],
   "source": [
    "P1,vN1,vI1,P2,vN2,vI2 = [1], 2, [3], 4, 5, 6\n",
    "\n",
    "for v in [P1,vN1,vI1,P2,vN2,vI2]:\n",
    "    if isinstance(v,list):\n",
    "        print(v)\n",
    "        exec(f'{v} = {v[0]}')\n",
    "        print(v)\n",
    "eq = {'P1':P1, 'vN1':vN1, 'vI1':vI1, 'P2':P2, 'vN2':vN2, 'vI2':vI2}\n",
    "print(eq)"
   ]
  },
  {
   "cell_type": "code",
   "execution_count": 9,
   "metadata": {},
   "outputs": [
    {
     "data": {
      "text/plain": [
       "array([0, 0, 0, 0, 0, 0, 0, 0, 0, 0, 0, 0, 0, 0, 0, 0, 0, 0, 0, 0, 0, 0,\n",
       "       0, 0, 0, 0, 0, 0, 0, 0, 0, 0, 0, 0, 0, 0, 0, 0, 0, 0, 0, 0, 0, 0,\n",
       "       0, 0, 0, 0, 0, 0, 0, 0, 0, 0, 0])"
      ]
     },
     "execution_count": 9,
     "metadata": {},
     "output_type": "execute_result"
    }
   ],
   "source": [
    "np.zeros(int(N*(N+1)*(2*N+1)/6),dtype=int)"
   ]
  },
  {
   "cell_type": "code",
   "execution_count": 10,
   "metadata": {},
   "outputs": [
    {
     "data": {
      "text/plain": [
       "array([0, 0, 0, 0, 0, 0, 0, 0, 0, 0, 0, 0, 0, 0, 0, 0, 0, 0, 0, 0, 0, 0,\n",
       "       0, 0, 0, 0, 0, 0, 0, 0])"
      ]
     },
     "execution_count": 10,
     "metadata": {},
     "output_type": "execute_result"
    }
   ],
   "source": [
    "np.full((2, 5), -1.)"
   ]
  },
  {
   "cell_type": "code",
   "execution_count": 10,
   "metadata": {},
   "outputs": [
    {
     "data": {
      "text/plain": [
       "[0, 0, 0, 0, 0, 1]"
      ]
     },
     "execution_count": 10,
     "metadata": {},
     "output_type": "execute_result"
    }
   ],
   "source": [
    "testESS[1]"
   ]
  },
  {
   "cell_type": "code",
   "execution_count": 22,
   "metadata": {},
   "outputs": [
    {
     "data": {
      "text/plain": [
       "tuple"
      ]
     },
     "execution_count": 22,
     "metadata": {},
     "output_type": "execute_result"
    }
   ],
   "source": [
    "type(np.nonzero((ESS['esr'][0]-ESS['esr'][0])!=0))"
   ]
  },
  {
   "cell_type": "code",
   "execution_count": 8,
   "metadata": {},
   "outputs": [
    {
     "data": {
      "text/plain": [
       "{'index': array([[[29, 28, 21, 7],\n",
       "         [None, 26, 23, 10],\n",
       "         [None, None, 17, 13],\n",
       "         [None, None, None, 1]],\n",
       " \n",
       "        [[None, 27, 22, 8],\n",
       "         [None, 25, 24, 11],\n",
       "         [None, None, 18, 14],\n",
       "         [None, None, None, 2]],\n",
       " \n",
       "        [[None, None, 19, 9],\n",
       "         [None, None, 20, 12],\n",
       "         [None, None, 16, 15],\n",
       "         [None, None, None, 3]],\n",
       " \n",
       "        [[None, None, None, 4],\n",
       "         [None, None, None, 5],\n",
       "         [None, None, None, 6],\n",
       "         [None, None, None, 0]]], dtype=object),\n",
       " 'esr': array([-1., -1., -1., -1., -1., -1., -1., -1., -1., -1., -1., -1., -1.,\n",
       "        -1., -1., -1., -1., -1., -1., -1., -1., -1., -1., -1., -1., -1.,\n",
       "        -1., -1., -1., -1.]),\n",
       " 'bases': array([[1, 1, 1, 1, 1, 1, 1, 1, 1, 1, 1, 0, 1, 1, 1, 1, 1, 1, 1, 1, 1, 1,\n",
       "         1, 1, 1, 1, 1, 1, 1, 1]])}"
      ]
     },
     "execution_count": 8,
     "metadata": {},
     "output_type": "execute_result"
    }
   ],
   "source": [
    "ESS"
   ]
  },
  {
   "cell_type": "code",
   "execution_count": null,
   "metadata": {},
   "outputs": [],
   "source": []
  }
 ],
 "metadata": {
  "interpreter": {
   "hash": "5ba1f6d498b622a33175926a1e2f90b1391313a70e628ffc805e7aeb04ddd433"
  },
  "kernelspec": {
   "display_name": "Python 3.8.9 64-bit",
   "language": "python",
   "name": "python3"
  },
  "language_info": {
   "codemirror_mode": {
    "name": "ipython",
    "version": 3
   },
   "file_extension": ".py",
   "mimetype": "text/x-python",
   "name": "python",
   "nbconvert_exporter": "python",
   "pygments_lexer": "ipython3",
   "version": "3.8.9"
  },
  "orig_nbformat": 4
 },
 "nbformat": 4,
 "nbformat_minor": 2
}
