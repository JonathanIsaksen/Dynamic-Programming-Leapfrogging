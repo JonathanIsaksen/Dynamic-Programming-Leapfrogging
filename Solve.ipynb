{
 "cells": [
  {
   "cell_type": "code",
   "execution_count": 1,
   "metadata": {},
   "outputs": [],
   "source": [
    "import numpy as np\n",
    "import matplotlib.pyplot as plt\n",
    "import numpy.matlib\n",
    "%matplotlib inline\n",
    "import quantecon as qe\n",
    "import scipy.optimize as optimize\n",
    "import scipy.sparse as sparse\n",
    "from quantecon import compute_fixed_point\n",
    "from quantecon.markov import DiscreteDP\n",
    "import copy\n",
    "import csv\n",
    "from scipy.stats import gaussian_kde # for the density plots\n",
    "from Leapfrogging import leapfrogging\n",
    "lf = leapfrogging()\n",
    "from RLS import rls_class\n",
    "import torch\n",
    "rls = rls_class()"
   ]
  },
  {
   "cell_type": "code",
   "execution_count": 2,
   "metadata": {},
   "outputs": [
    {
     "name": "stdout",
     "output_type": "stream",
     "text": [
      "ESR[0]['esr']  :\n",
      "[-1 -1 -1 -1 -1 -1 -1 -1 -1 -1 -1 -1 -1 -1 -1 -1 -1 -1 -1 -1 -1 -1 -1 -1\n",
      " -1 -1 -1 -1 -1 -1]\n",
      "ESR[0]['bases']:\n",
      "[0 0 0 0 0 0 0 0 0 0 0 0 0 0 0 0 0 0 0 0 0 0 0 0 0 0 0 0 0 0]\n",
      "ESR[1000]['esr']  :\n",
      "[-1 -1 -1 -1 -1 -1 -1 -1 -1 -1  0  0  1 -1  1  1 -1 -1 -1 -1 -1  0 -1 -1\n",
      " -1 -1 -1 -1 -1 -1]\n",
      "ESR[1000]['bases']:\n",
      "[0 0 0 0 0 0 0 2 2 2 2 2 2 2 2 2 0 0 0 0 0 2 0 0 0 0 0 0 0 0]\n",
      "ESR[2000]['esr']  :\n",
      "[-1 -1 -1 -1 -1 -1 -1 -1 -1  0 -1  1  0  0 -1  1 -1 -1 -1 -1 -1 -1 -1 -1\n",
      "  1 -1 -1 -1 -1 -1]\n",
      "ESR[2000]['bases']:\n",
      "[0 0 0 0 0 0 0 2 2 2 2 2 2 2 2 2 0 0 0 0 0 0 0 0 2 0 0 0 0 0]\n",
      "ESR[3000]['esr']  :\n",
      "[-1 -1 -1 -1 -1 -1 -1 -1 -1  1 -1  0 -1 -1 -1  1 -1 -1 -1 -1 -1 -1 -1 -1\n",
      " -1 -1 -1 -1  1 -1]\n",
      "ESR[3000]['bases']:\n",
      "[0 0 0 0 0 0 0 2 2 2 2 2 2 2 2 2 0 0 0 0 0 2 0 0 0 0 0 0 2 0]\n",
      "ESR[4000]['esr']  :\n",
      "[-1 -1 -1 -1 -1 -1 -1 -1 -1  1  1 -1 -1 -1  0  1 -1 -1 -1 -1 -1  1 -1 -1\n",
      " -1 -1 -1 -1  1 -1]\n",
      "ESR[4000]['bases']:\n",
      "[0 0 0 0 0 0 0 2 2 2 2 2 2 2 2 2 0 0 0 0 0 2 0 0 0 0 0 0 2 0]\n",
      "ESR[5000]['esr']  :\n",
      "[-1 -1 -1 -1 -1 -1 -1 -1  0 -1 -1  1  1  1  0  0 -1 -1 -1 -1 -1 -1 -1 -1\n",
      " -1 -1 -1 -1 -1 -1]\n",
      "ESR[5000]['bases']:\n",
      "[0 0 0 0 0 0 0 2 2 2 2 2 2 2 2 2 0 0 0 0 0 0 0 0 0 0 0 0 2 0]\n",
      "ESR[6000]['esr']  :\n",
      "[-1 -1 -1 -1 -1 -1 -1 -1  0  0 -1  0  0 -1  0  1 -1 -1 -1 -1 -1  1 -1 -1\n",
      " -1 -1 -1 -1 -1 -1]\n",
      "ESR[6000]['bases']:\n",
      "[0 0 0 0 0 0 0 2 2 2 2 2 2 2 2 2 0 0 0 0 0 2 0 0 0 0 0 0 0 0]\n",
      "ESR[7000]['esr']  :\n",
      "[-1 -1 -1 -1 -1 -1 -1 -1  0  0  1  1  0 -1 -1  1 -1 -1 -1 -1 -1  0 -1 -1\n",
      "  0 -1 -1 -1 -1 -1]\n",
      "ESR[7000]['bases']:\n",
      "[0 0 0 0 0 0 0 2 2 2 2 2 2 2 2 2 0 0 0 0 0 2 0 2 2 0 0 0 0 0]\n",
      "ESR[8000]['esr']  :\n",
      "[-1 -1 -1 -1 -1 -1 -1 -1  0  1  1 -1 -1  0  1  0 -1 -1 -1 -1 -1 -1 -1 -1\n",
      " -1 -1 -1 -1 -1 -1]\n",
      "ESR[8000]['bases']:\n",
      "[0 0 0 0 0 0 0 2 2 2 2 2 2 2 2 2 0 0 0 0 0 0 0 0 0 0 0 0 0 0]\n",
      "ESR[9000]['esr']  :\n",
      "[-1 -1 -1 -1 -1 -1 -1 -1  1 -1  0 -1  1  1  1 -1 -1 -1 -1 -1 -1 -1 -1 -1\n",
      " -1 -1 -1 -1 -1 -1]\n",
      "ESR[9000]['bases']:\n",
      "[0 0 0 0 0 0 0 2 2 2 2 2 2 2 2 2 0 0 0 0 0 0 0 0 0 0 0 0 0 0]\n",
      "ESR[10000]['esr']  :\n",
      "[-1 -1 -1 -1 -1 -1 -1 -1  1  0 -1  1 -1 -1  0 -1 -1 -1 -1 -1 -1 -1 -1 -1\n",
      " -1 -1 -1 -1  0 -1]\n",
      "ESR[10000]['bases']:\n",
      "[0 0 0 0 0 0 0 2 2 2 2 2 2 2 2 2 0 0 0 0 0 0 0 0 0 0 0 0 2 0]\n",
      "ESR[11000]['esr']  :\n",
      "[-1 -1 -1 -1 -1 -1 -1 -1  1  0  1  1  0 -1 -1  1 -1 -1 -1 -1 -1  0 -1  1\n",
      "  1 -1 -1 -1 -1 -1]\n",
      "ESR[11000]['bases']:\n",
      "[0 0 0 0 0 0 0 2 2 2 2 2 2 2 2 2 0 0 0 0 0 2 2 2 2 0 0 0 0 0]\n",
      "ESR[12000]['esr']  :\n",
      "[-1 -1 -1 -1 -1 -1 -1 -1  1  1  0  1  1  1  0  0 -1 -1 -1 -1 -1 -1 -1 -1\n",
      " -1 -1 -1 -1  1 -1]\n",
      "ESR[12000]['bases']:\n",
      "[0 0 0 0 0 0 0 2 2 2 2 2 2 2 2 2 0 0 0 0 0 0 0 0 0 0 0 0 2 0]\n",
      "ESR[13000]['esr']  :\n",
      "[-1 -1 -1 -1 -1 -1 -1  0 -1 -1  0  0  0  1  1 -1 -1 -1 -1 -1 -1 -1 -1 -1\n",
      " -1 -1 -1 -1  0 -1]\n",
      "ESR[13000]['bases']:\n",
      "[0 0 0 0 0 0 0 2 2 2 2 2 2 2 2 2 0 0 0 0 0 0 0 0 0 0 0 0 2 0]\n",
      "ESR[14000]['esr']  :\n",
      "[-1 -1 -1 -1 -1 -1 -1  0 -1  0 -1  1  1  0 -1  1 -1 -1 -1 -1 -1 -1 -1 -1\n",
      " -1 -1 -1 -1 -1 -1]\n",
      "ESR[14000]['bases']:\n",
      "[0 0 0 0 0 0 0 2 2 2 2 2 2 2 2 2 0 0 0 0 0 2 0 0 0 0 0 0 0 0]\n",
      "ESR[15000]['esr']  :\n",
      "[-1 -1 -1 -1 -1 -1 -1  0 -1  0  1  0  0  0  0  1 -1 -1 -1 -1 -1  0 -1 -1\n",
      " -1 -1 -1 -1 -1 -1]\n",
      "ESR[15000]['bases']:\n",
      "[0 0 0 0 0 0 0 2 2 2 2 2 2 2 2 2 0 0 0 0 0 2 0 0 0 0 0 0 0 0]\n",
      "ESR[16000]['esr']  :\n",
      "[-1 -1 -1 -1 -1 -1 -1  0 -1  1  0  1  0  1 -1 -1 -1 -1 -1 -1 -1 -1 -1 -1\n",
      " -1 -1 -1 -1 -1 -1]\n",
      "ESR[16000]['bases']:\n",
      "[0 0 0 0 0 0 0 2 2 2 2 2 2 2 2 2 0 0 0 0 0 0 0 0 0 0 0 0 2 0]\n",
      "ESR[17000]['esr']  :\n",
      "[-1 -1 -1 -1 -1 -1 -1  0  0 -1  0  1 -1  0  0  1 -1 -1 -1 -1 -1 -1 -1 -1\n",
      " -1 -1 -1 -1  1 -1]\n",
      "ESR[17000]['bases']:\n",
      "[0 0 0 0 0 0 0 2 2 2 2 2 2 2 2 2 0 0 0 0 0 0 0 0 0 0 0 0 2 0]\n",
      "ESR[18000]['esr']  :\n",
      "[-1 -1 -1 -1 -1 -1 -1  0  0  0 -1  1  1  0 -1  0 -1 -1 -1 -1 -1 -1 -1 -1\n",
      " -1 -1 -1 -1 -1 -1]\n",
      "ESR[18000]['bases']:\n",
      "[0 0 0 0 0 0 0 2 2 2 2 2 2 2 2 2 0 0 0 0 0 2 0 0 0 0 0 0 2 0]\n",
      "ESR[19000]['esr']  :\n",
      "[-1 -1 -1 -1 -1 -1 -1  0  0  0  1 -1  0 -1  1  1 -1 -1 -1 -1 -1  0 -1  1\n",
      " -1 -1 -1 -1 -1 -1]\n",
      "ESR[19000]['bases']:\n",
      "[0 0 0 0 0 0 0 2 2 2 2 2 2 2 2 2 0 0 0 0 0 2 0 2 0 0 0 0 0 0]\n",
      "ESR[20000]['esr']  :\n",
      "[-1 -1 -1 -1 -1 -1 -1  0  0  1  0 -1  1  0  1  0 -1 -1 -1 -1 -1 -1 -1 -1\n",
      " -1 -1 -1 -1 -1 -1]\n",
      "ESR[20000]['bases']:\n",
      "[0 0 0 0 0 0 0 2 2 2 2 2 2 2 2 2 0 0 0 0 0 0 0 0 0 0 0 0 0 0]\n",
      "ESR[21000]['esr']  :\n",
      "[-1 -1 -1 -1 -1 -1 -1  0  1 -1  0 -1  1 -1  0 -1 -1 -1 -1 -1 -1 -1 -1 -1\n",
      " -1 -1 -1 -1 -1 -1]\n",
      "ESR[21000]['bases']:\n",
      "[0 0 0 0 0 0 0 2 2 2 2 2 2 2 2 2 0 0 0 0 0 0 0 0 0 0 0 0 0 0]\n",
      "ESR[22000]['esr']  :\n",
      "[-1 -1 -1 -1 -1 -1 -1  0  1  0 -1  1 -1  0  1 -1 -1 -1 -1 -1 -1 -1 -1 -1\n",
      " -1 -1 -1 -1 -1 -1]\n",
      "ESR[22000]['bases']:\n",
      "[0 0 0 0 0 0 0 2 2 2 2 2 2 2 2 2 0 0 0 0 0 0 0 0 0 0 0 0 0 0]\n",
      "ESR[23000]['esr']  :\n",
      "[-1 -1 -1 -1 -1 -1 -1  0  1  0  0  1  0  1 -1  1 -1 -1 -1 -1 -1 -1  0 -1\n",
      "  1 -1 -1 -1 -1 -1]\n",
      "ESR[23000]['bases']:\n",
      "[0 0 0 0 0 0 0 2 2 2 2 2 2 2 2 2 0 0 0 0 0 2 2 0 2 0 0 0 2 0]\n",
      "ESR[24000]['esr']  :\n",
      "[-1 -1 -1 -1 -1 -1 -1  0  1  0  1  1  1  1  1  1 -1 -1 -1 -1 -1 -1 -1 -1\n",
      " -1 -1 -1 -1  0 -1]\n",
      "ESR[24000]['bases']:\n",
      "[0 0 0 0 0 0 0 2 2 2 2 2 2 2 2 2 0 0 0 0 0 2 0 0 0 0 0 0 2 0]\n",
      "ESR[25000]['esr']  :\n",
      "[-1 -1 -1 -1 -1 -1 -1  1 -1 -1 -1 -1 -1  0  1  1 -1 -1 -1 -1 -1  0 -1 -1\n",
      " -1 -1 -1 -1  0 -1]\n",
      "ESR[25000]['bases']:\n",
      "[0 0 0 0 0 0 0 2 2 2 2 2 2 2 2 2 0 0 0 0 0 2 0 0 0 0 0 0 2 0]\n",
      "ESR[26000]['esr']  :\n",
      "[-1 -1 -1 -1 -1 -1 -1  1 -1 -1 -1  1  1  0 -1  0 -1 -1 -1 -1 -1  0 -1 -1\n",
      " -1 -1 -1 -1  1 -1]\n",
      "ESR[26000]['bases']:\n",
      "[0 0 0 0 0 0 0 2 2 2 2 2 2 2 2 2 0 0 0 0 0 2 0 0 0 0 0 0 2 0]\n",
      "ESR[27000]['esr']  :\n",
      "[-1 -1 -1 -1 -1 -1 -1  1 -1 -1  0  1  0  0 -1 -1 -1 -1 -1 -1 -1  1 -1 -1\n",
      " -1 -1 -1 -1 -1 -1]\n",
      "ESR[27000]['bases']:\n",
      "[0 0 0 0 0 0 0 2 2 2 2 2 2 2 2 2 0 0 0 0 0 2 0 0 0 0 0 0 2 0]\n",
      "ESR[28000]['esr']  :\n",
      "[-1 -1 -1 -1 -1 -1 -1  1 -1 -1  1  1  0 -1 -1 -1 -1 -1 -1 -1 -1 -1 -1 -1\n",
      " -1 -1 -1 -1 -1 -1]\n",
      "ESR[28000]['bases']:\n",
      "[0 0 0 0 0 0 0 2 2 2 2 2 2 2 2 2 0 0 0 0 0 2 0 0 0 0 0 0 0 0]\n",
      "ESR[29000]['esr']  :\n",
      "[-1 -1 -1 -1 -1 -1 -1  1 -1  0  0 -1  1  0  1  1 -1 -1 -1 -1 -1  1 -1 -1\n",
      " -1 -1 -1 -1 -1 -1]\n",
      "ESR[29000]['bases']:\n",
      "[0 0 0 0 0 0 0 2 2 2 2 2 2 2 2 2 0 0 0 0 0 2 0 0 0 0 0 0 0 0]\n",
      "ESR[30000]['esr']  :\n",
      "[-1 -1 -1 -1 -1 -1 -1  1 -1  0  1  1  0 -1  0  1 -1 -1 -1 -1 -1  1 -1 -1\n",
      " -1 -1 -1 -1 -1 -1]\n",
      "ESR[30000]['bases']:\n",
      "[0 0 0 0 0 0 0 2 2 2 2 2 2 2 2 2 0 0 0 0 0 2 0 2 0 0 0 0 0 0]\n",
      "ESR[31000]['esr']  :\n",
      "[-1 -1 -1 -1 -1 -1 -1  1 -1  1  0 -1 -1 -1  0  0 -1 -1 -1 -1 -1 -1 -1 -1\n",
      " -1 -1 -1 -1  1 -1]\n",
      "ESR[31000]['bases']:\n",
      "[0 0 0 0 0 0 0 2 2 2 2 2 2 2 2 2 0 0 0 0 0 0 0 0 0 0 0 0 2 0]\n",
      "ESR[32000]['esr']  :\n",
      "[-1 -1 -1 -1 -1 -1 -1  1 -1  1  1 -1 -1 -1 -1  0 -1 -1 -1 -1 -1 -1 -1 -1\n",
      " -1 -1 -1 -1  1 -1]\n",
      "ESR[32000]['bases']:\n",
      "[0 0 0 0 0 0 0 2 2 2 2 2 2 2 2 2 0 0 0 0 0 0 0 0 0 0 0 0 2 0]\n",
      "ESR[33000]['esr']  :\n",
      "[-1 -1 -1 -1 -1 -1 -1  1  0 -1 -1 -1  1 -1  1 -1 -1 -1 -1 -1 -1  1 -1 -1\n",
      " -1 -1 -1 -1 -1 -1]\n",
      "ESR[33000]['bases']:\n",
      "[0 0 0 0 0 0 0 2 2 2 2 2 2 2 2 2 0 0 0 0 0 2 0 0 0 0 0 0 0 0]\n",
      "ESR[34000]['esr']  :\n",
      "[-1 -1 -1 -1 -1 -1 -1  1  0 -1  0  0 -1  0  1  0 -1 -1 -1 -1 -1  1 -1 -1\n",
      " -1 -1 -1 -1  1 -1]\n",
      "ESR[34000]['bases']:\n",
      "[0 0 0 0 0 0 0 2 2 2 2 2 2 2 2 2 0 0 0 0 0 2 0 0 0 0 0 0 2 0]\n",
      "ESR[35000]['esr']  :\n",
      "[-1 -1 -1 -1 -1 -1 -1  1  0 -1  1  0  0  1  0  0 -1 -1 -1 -1 -1 -1 -1 -1\n",
      " -1 -1 -1 -1 -1 -1]\n",
      "ESR[35000]['bases']:\n",
      "[0 0 0 0 0 0 0 2 2 2 2 2 2 2 2 2 0 0 0 0 0 0 0 0 0 0 0 0 0 0]\n",
      "ESR[36000]['esr']  :\n",
      "[-1 -1 -1 -1 -1 -1 -1  1  0  0 -1  1  1  0 -1  1 -1 -1 -1 -1 -1 -1 -1 -1\n",
      " -1 -1 -1 -1 -1 -1]\n",
      "ESR[36000]['bases']:\n",
      "[0 0 0 0 0 0 0 2 2 2 2 2 2 2 2 2 0 0 0 0 0 2 0 0 0 0 0 0 0 0]\n",
      "ESR[37000]['esr']  :\n",
      "[-1 -1 -1 -1 -1 -1 -1  1  0  0  1 -1  0 -1  1  1 -1 -1 -1 -1 -1 -1 -1 -1\n",
      " -1 -1 -1 -1 -1 -1]\n",
      "ESR[37000]['bases']:\n",
      "[0 0 0 0 0 0 0 2 2 2 2 2 2 2 2 2 0 0 0 0 0 2 0 2 0 0 0 0 0 0]\n",
      "ESR[38000]['esr']  :\n",
      "[-1 -1 -1 -1 -1 -1 -1  1  0  1 -1  1 -1  1  0  1 -1 -1 -1 -1 -1  0 -1 -1\n",
      " -1 -1 -1 -1  1 -1]\n",
      "ESR[38000]['bases']:\n",
      "[0 0 0 0 0 0 0 2 2 2 2 2 2 2 2 2 0 0 0 0 0 2 0 0 0 0 0 0 2 0]\n",
      "ESR[39000]['esr']  :\n",
      "[-1 -1 -1 -1 -1 -1 -1  1  0  1  0  1  1  0  0  0 -1 -1 -1 -1 -1 -1 -1 -1\n",
      " -1 -1 -1 -1 -1 -1]\n",
      "ESR[39000]['bases']:\n",
      "[0 0 0 0 0 0 0 2 2 2 2 2 2 2 2 2 0 0 0 0 0 2 0 0 0 0 0 0 2 0]\n",
      "ESR[40000]['esr']  :\n",
      "[-1 -1 -1 -1 -1 -1 -1  1  1 -1 -1  0 -1  0  1  1 -1 -1 -1 -1 -1  0 -1 -1\n",
      " -1 -1 -1 -1 -1 -1]\n",
      "ESR[40000]['bases']:\n",
      "[0 0 0 0 0 0 0 2 2 2 2 2 2 2 2 2 0 0 0 0 0 2 0 0 0 0 0 0 0 0]\n",
      "ESR[41000]['esr']  :\n",
      "[-1 -1 -1 -1 -1 -1 -1  1  1 -1  0  0  1 -1  0  1 -1 -1 -1 -1 -1 -1 -1 -1\n",
      " -1 -1 -1 -1 -1 -1]\n",
      "ESR[41000]['bases']:\n",
      "[0 0 0 0 0 0 0 2 2 2 2 2 2 2 2 2 0 0 0 0 0 2 0 0 0 0 0 0 0 0]\n",
      "ESR[42000]['esr']  :\n",
      "[-1 -1 -1 -1 -1 -1 -1  1  1 -1  1  1  0 -1 -1  1 -1 -1 -1 -1 -1  0 -1  0\n",
      " -1 -1 -1 -1 -1 -1]\n",
      "ESR[42000]['bases']:\n",
      "[0 0 0 0 0 0 0 2 2 2 2 2 2 2 2 2 0 0 0 0 0 2 0 2 2 0 0 0 0 0]\n",
      "ESR[43000]['esr']  :\n",
      "[-1 -1 -1 -1 -1 -1 -1  1  1  0  0 -1 -1  0 -1  1 -1 -1 -1 -1 -1 -1  1 -1\n",
      " -1 -1 -1 -1 -1 -1]\n",
      "ESR[43000]['bases']:\n",
      "[0 0 0 0 0 0 0 2 2 2 2 2 2 2 2 2 0 0 0 0 0 2 2 0 0 0 0 0 0 0]\n",
      "ESR[44000]['esr']  :\n",
      "[-1 -1 -1 -1 -1 -1 -1  1  1  0  1 -1  0 -1  1  1 -1 -1 -1 -1 -1  1 -1  0\n",
      " -1 -1 -1 -1 -1 -1]\n",
      "ESR[44000]['bases']:\n",
      "[0 0 0 0 0 0 0 2 2 2 2 2 2 2 2 2 0 0 0 0 0 2 0 2 0 0 0 0 0 0]\n",
      "ESR[45000]['esr']  :\n",
      "[-1 -1 -1 -1 -1 -1 -1  1  1  1 -1  0  0  1  1  0 -1 -1 -1 -1 -1 -1 -1 -1\n",
      " -1 -1 -1 -1 -1 -1]\n",
      "ESR[45000]['bases']:\n",
      "[0 0 0 0 0 0 0 2 2 2 2 2 2 2 2 2 0 0 0 0 0 0 0 0 0 0 0 0 0 0]\n",
      "ESR[46000]['esr']  :\n",
      "[-1 -1 -1 -1 -1 -1 -1  1  1  1  0  1  1 -1  1  1 -1 -1 -1 -1 -1  1 -1 -1\n",
      " -1 -1 -1 -1 -1 -1]\n",
      "ESR[46000]['bases']:\n",
      "[0 0 0 0 0 0 0 2 2 2 2 2 2 2 2 2 0 0 0 0 0 2 0 0 0 0 0 0 2 0]\n",
      "No more equilibria to check.\n",
      "goodbye\n"
     ]
    }
   ],
   "source": [
    "ss1 = lf.cSS(lf.nC)\n",
    "ESS1 = lf.cESS(lf.nC)\n",
    "Gtau= lambda ss, ESS, tau: lf.state_recursion(ss,ESS, tau)  \n",
    "ESS, TAU, out=rls.solve(Gtau,ss1.copy(),ESS1.copy(),lf.stage_index)\n"
   ]
  },
  {
   "cell_type": "code",
   "execution_count": 5,
   "metadata": {},
   "outputs": [],
   "source": [
    "# save results to csv\n",
    "\n",
    "to_csv = out\n",
    "\n",
    "keys = to_csv[0].keys()\n",
    "\n",
    "with open('output_1.csv', 'w', newline='') as output_file:\n",
    "    dict_writer = csv.DictWriter(output_file, keys)\n",
    "    dict_writer.writeheader()\n",
    "    dict_writer.writerows(to_csv)"
   ]
  },
  {
   "cell_type": "code",
   "execution_count": 12,
   "metadata": {},
   "outputs": [],
   "source": [
    "# open the results\n",
    "output1 = []\n",
    "with open('output_1.csv') as csvfile:\n",
    "    reader = csv.DictReader(csvfile)\n",
    "    for row in reader:\n",
    "        output1.append(row)"
   ]
  },
  {
   "cell_type": "code",
   "execution_count": 7,
   "metadata": {},
   "outputs": [
    {
     "name": "stdout",
     "output_type": "stream",
     "text": [
      "number of equilibria game (1): 46707\n"
     ]
    }
   ],
   "source": [
    "number_of_equilibria1=np.size(out)\n",
    "T1=torch.numel(torch.tensor(lf.stage_index))\n",
    "\n",
    "y1 = np.zeros(T1)\n",
    "for i in range(T1):\n",
    "    y1[i] = sum(TAU==i)\n",
    "V1 = np.zeros((number_of_equilibria1,2))\n",
    "MPEesr1 = np.empty(number_of_equilibria1,dtype='object')\n",
    "for iEQ in range(number_of_equilibria1):\n",
    "    V1[iEQ,0]=out[iEQ]['V1']\n",
    "    V1[iEQ,1]=out[iEQ]['V2']\n",
    "    MPEesr1[iEQ]=out[iEQ]['MPEesr']\n",
    "print(f'number of equilibria game (1): {number_of_equilibria1}')"
   ]
  },
  {
   "cell_type": "code",
   "execution_count": 8,
   "metadata": {},
   "outputs": [
    {
     "data": {
      "image/png": "[encoded data removed]",
      "text/plain": [
       "<Figure size 432x288 with 1 Axes>"
      ]
     },
     "metadata": {
      "needs_background": "light"
     },
     "output_type": "display_data"
    }
   ],
   "source": [
    "plt.bar(range(T1),y1)\n",
    "fig1 = plt.gca()\n",
    "fig1.set_ylabel('Equilibria')\n",
    "fig1.set_xlabel('Stage')\n",
    "fig1.set_xticks(np.arange(0, 11, 1))\n",
    "plt.show()"
   ]
  },
  {
   "cell_type": "code",
   "execution_count": 10,
   "metadata": {},
   "outputs": [
    {
     "data": {
      "image/png": "[encoded data removed]",
      "text/plain": [
       "<Figure size 432x288 with 1 Axes>"
      ]
     },
     "metadata": {
      "needs_background": "light"
     },
     "output_type": "display_data"
    }
   ],
   "source": [
    "plt.scatter(V1[:,0],V1[:,1])\n",
    "fig2 = plt.gca()\n",
    "fig2.set_ylabel('Expected discounted payoff firm 2')\n",
    "fig2.set_xlabel('Expected discounted payoff firm 1')\n",
    "fig2.grid(True)\n",
    "plt.show()"
   ]
  },
  {
   "cell_type": "code",
   "execution_count": 11,
   "metadata": {},
   "outputs": [
    {
     "name": "stdout",
     "output_type": "stream",
     "text": [
      "ESR[0]['esr']  :\n",
      "[-1 -1 -1 -1 -1 -1 -1 -1 -1 -1 -1 -1 -1 -1 -1 -1 -1 -1 -1 -1 -1 -1 -1 -1\n",
      " -1 -1 -1 -1 -1 -1]\n",
      "ESR[0]['bases']:\n",
      "[0 0 0 0 0 0 0 0 0 0 0 0 0 0 0 0 0 0 0 0 0 0 0 0 0 0 0 0 0 0]\n",
      "ESR[1000]['esr']  :\n",
      "[-1 -1 -1 -1 -1 -1 -1 -1 -1  0 -1  1 -1  0  1  0 -1 -1 -1 -1 -1 -1 -1 -1\n",
      " -1 -1 -1 -1 -1 -1]\n",
      "ESR[1000]['bases']:\n",
      "[0 0 0 0 0 0 0 2 2 2 2 2 2 2 2 2 0 0 0 0 0 0 0 0 0 0 0 0 0 0]\n",
      "ESR[2000]['esr']  :\n",
      "[-1 -1 -1 -1 -1 -1 -1 -1 -1  1 -1  1  0 -1  1  1 -1 -1 -1 -1 -1 -1 -1 -1\n",
      " -1 -1 -1 -1 -1 -1]\n",
      "ESR[2000]['bases']:\n",
      "[0 0 0 0 0 0 0 2 2 2 2 2 2 2 2 2 0 0 0 0 0 0 0 0 0 0 0 0 0 0]\n",
      "ESR[3000]['esr']  :\n",
      "[-1 -1 -1 -1 -1 -1 -1 -1  0 -1  0  0 -1  0  1  0 -1 -1 -1 -1 -1 -1 -1 -1\n",
      " -1 -1 -1 -1 -1 -1]\n",
      "ESR[3000]['bases']:\n",
      "[0 0 0 0 0 0 0 2 2 2 2 2 2 2 2 2 0 0 0 0 0 0 0 0 0 0 0 0 0 0]\n",
      "ESR[4000]['esr']  :\n",
      "[-1 -1 -1 -1 -1 -1 -1 -1  0  0  0  0  0  0  0 -1 -1 -1 -1 -1 -1 -1 -1 -1\n",
      " -1 -1 -1 -1 -1 -1]\n",
      "ESR[4000]['bases']:\n",
      "[0 0 0 0 0 0 0 2 2 2 2 2 2 2 2 2 0 0 0 0 0 0 0 0 0 0 0 0 0 0]\n",
      "ESR[5000]['esr']  :\n",
      "[-1 -1 -1 -1 -1 -1 -1 -1  0  1 -1  1  1  1  1 -1 -1 -1 -1 -1 -1 -1 -1 -1\n",
      " -1 -1 -1 -1 -1 -1]\n",
      "ESR[5000]['bases']:\n",
      "[0 0 0 0 0 0 0 2 2 2 2 2 2 2 2 2 0 0 0 0 0 0 0 0 0 0 0 0 2 0]\n",
      "ESR[6000]['esr']  :\n",
      "[-1 -1 -1 -1 -1 -1 -1 -1  1 -1  0  1  0  1  0 -1 -1 -1 -1 -1 -1 -1 -1 -1\n",
      " -1 -1 -1 -1 -1 -1]\n",
      "ESR[6000]['bases']:\n",
      "[0 0 0 0 0 0 0 2 2 2 2 2 2 2 2 2 0 0 0 0 0 0 0 0 0 0 0 0 0 0]\n",
      "ESR[7000]['esr']  :\n",
      "[-1 -1 -1 -1 -1 -1 -1 -1  1  0  0  0  1  1 -1  1 -1 -1 -1 -1 -1 -1  1 -1\n",
      " -1 -1 -1 -1 -1 -1]\n",
      "ESR[7000]['bases']:\n",
      "[0 0 0 0 0 0 0 2 2 2 2 2 2 2 2 2 0 0 0 0 0 0 2 0 0 0 0 0 0 0]\n",
      "ESR[8000]['esr']  :\n",
      "[-1 -1 -1 -1 -1 -1 -1 -1  1  1  0 -1 -1  1 -1 -1 -1 -1 -1 -1 -1 -1 -1 -1\n",
      " -1 -1 -1 -1 -1 -1]\n",
      "ESR[8000]['bases']:\n",
      "[0 0 0 0 0 0 0 2 2 2 2 2 2 2 2 2 0 0 0 0 0 0 0 0 0 0 0 0 0 0]\n",
      "ESR[9000]['esr']  :\n",
      "[-1 -1 -1 -1 -1 -1 -1  0 -1 -1  0  1  1  0  1 -1 -1 -1 -1 -1 -1 -1 -1 -1\n",
      " -1 -1 -1 -1 -1 -1]\n",
      "ESR[9000]['bases']:\n",
      "[0 0 0 0 0 0 0 2 2 2 2 2 2 2 2 2 0 0 0 0 0 0 0 0 0 0 0 0 0 0]\n",
      "ESR[10000]['esr']  :\n",
      "[-1 -1 -1 -1 -1 -1 -1  0 -1  0  0  1  1  1  1  0 -1 -1 -1 -1 -1 -1 -1 -1\n",
      " -1 -1 -1 -1  0 -1]\n",
      "ESR[10000]['bases']:\n",
      "[0 0 0 0 0 0 0 2 2 2 2 2 2 2 2 2 0 0 0 0 0 0 0 0 0 0 0 0 2 0]\n",
      "ESR[11000]['esr']  :\n",
      "[-1 -1 -1 -1 -1 -1 -1  0 -1  1  1  1 -1 -1  1  1 -1 -1 -1 -1 -1 -1 -1 -1\n",
      " -1 -1 -1 -1 -1 -1]\n",
      "ESR[11000]['bases']:\n",
      "[0 0 0 0 0 0 0 2 2 2 2 2 2 2 2 2 0 0 0 0 0 0 0 0 0 0 0 0 0 0]\n",
      "ESR[12000]['esr']  :\n",
      "[-1 -1 -1 -1 -1 -1 -1  0  0 -1  1  1 -1 -1 -1  0 -1 -1 -1 -1 -1 -1 -1 -1\n",
      " -1 -1 -1 -1 -1 -1]\n",
      "ESR[12000]['bases']:\n",
      "[0 0 0 0 0 0 0 2 2 2 2 2 2 2 2 2 0 0 0 0 0 0 0 0 0 0 0 0 0 0]\n",
      "ESR[13000]['esr']  :\n",
      "[-1 -1 -1 -1 -1 -1 -1  0  0  0  1  0 -1  0 -1  1 -1 -1 -1 -1 -1 -1 -1 -1\n",
      " -1 -1 -1 -1 -1 -1]\n",
      "ESR[13000]['bases']:\n",
      "[0 0 0 0 0 0 0 2 2 2 2 2 2 2 2 2 0 0 0 0 0 0 0 0 0 0 0 0 0 0]\n",
      "ESR[14000]['esr']  :\n",
      "[-1 -1 -1 -1 -1 -1 -1  0  0  1  1 -1  0 -1 -1 -1 -1 -1 -1 -1 -1 -1 -1 -1\n",
      " -1 -1 -1 -1 -1 -1]\n",
      "ESR[14000]['bases']:\n",
      "[0 0 0 0 0 0 0 2 2 2 2 2 2 2 2 2 0 0 0 0 0 0 0 0 0 0 0 0 0 0]\n",
      "ESR[15000]['esr']  :\n",
      "[-1 -1 -1 -1 -1 -1 -1  0  1 -1  1  1 -1  1 -1  1 -1 -1 -1 -1 -1 -1 -1 -1\n",
      " -1 -1 -1 -1 -1 -1]\n",
      "ESR[15000]['bases']:\n",
      "[0 0 0 0 0 0 0 2 2 2 2 2 2 2 2 2 0 0 0 0 0 0 0 0 0 0 0 0 0 0]\n",
      "ESR[16000]['esr']  :\n",
      "[-1 -1 -1 -1 -1 -1 -1  0  1  0  1 -1  0  1  0  0 -1 -1 -1 -1 -1 -1 -1 -1\n",
      " -1 -1 -1 -1 -1 -1]\n",
      "ESR[16000]['bases']:\n",
      "[0 0 0 0 0 0 0 2 2 2 2 2 2 2 2 2 0 0 0 0 0 0 0 0 0 0 0 0 0 0]\n",
      "ESR[17000]['esr']  :\n",
      "[-1 -1 -1 -1 -1 -1 -1  0  1  1  1  0  1  1 -1  0 -1 -1 -1 -1 -1 -1 -1 -1\n",
      " -1 -1 -1 -1 -1 -1]\n",
      "ESR[17000]['bases']:\n",
      "[0 0 0 0 0 0 0 2 2 2 2 2 2 2 2 2 0 0 0 0 0 0 0 0 0 0 0 0 0 0]\n",
      "ESR[18000]['esr']  :\n",
      "[-1 -1 -1 -1 -1 -1 -1  1 -1  0 -1 -1  1  0  0  0 -1 -1 -1 -1 -1  0 -1 -1\n",
      " -1 -1 -1 -1 -1 -1]\n",
      "ESR[18000]['bases']:\n",
      "[0 0 0 0 0 0 0 2 2 2 2 2 2 2 2 2 0 0 0 0 0 2 0 0 0 0 0 0 0 0]\n",
      "ESR[19000]['esr']  :\n",
      "[-1 -1 -1 -1 -1 -1 -1  1 -1  0  0  1  0  0  0  1 -1 -1 -1 -1 -1  1 -1 -1\n",
      " -1 -1 -1 -1  1 -1]\n",
      "ESR[19000]['bases']:\n",
      "[0 0 0 0 0 0 0 2 2 2 2 2 2 2 2 2 0 0 0 0 0 2 0 0 0 0 0 0 2 0]\n",
      "ESR[20000]['esr']  :\n",
      "[-1 -1 -1 -1 -1 -1 -1  1 -1  1  0 -1 -1 -1 -1  1 -1 -1 -1 -1 -1 -1 -1 -1\n",
      " -1 -1 -1 -1 -1 -1]\n",
      "ESR[20000]['bases']:\n",
      "[0 0 0 0 0 0 0 2 2 2 2 2 2 2 2 2 0 0 0 0 0 0 0 0 0 0 0 0 0 0]\n",
      "ESR[21000]['esr']  :\n",
      "[-1 -1 -1 -1 -1 -1 -1  1  0 -1  0  0 -1  1  1  0 -1 -1 -1 -1 -1 -1 -1 -1\n",
      " -1 -1 -1 -1  0 -1]\n",
      "ESR[21000]['bases']:\n",
      "[0 0 0 0 0 0 0 2 2 2 2 2 2 2 2 2 0 0 0 0 0 0 0 0 0 0 0 0 2 0]\n",
      "ESR[22000]['esr']  :\n",
      "[-1 -1 -1 -1 -1 -1 -1  1  0  0 -1  1 -1  1  0 -1 -1 -1 -1 -1 -1 -1 -1 -1\n",
      " -1 -1 -1 -1 -1 -1]\n",
      "ESR[22000]['bases']:\n",
      "[0 0 0 0 0 0 0 2 2 2 2 2 2 2 2 2 0 0 0 0 0 0 0 0 0 0 0 0 2 0]\n",
      "ESR[23000]['esr']  :\n",
      "[-1 -1 -1 -1 -1 -1 -1  1  0  0  0  1  1  0  0  0 -1 -1 -1 -1 -1 -1 -1 -1\n",
      " -1 -1 -1 -1  0 -1]\n",
      "ESR[23000]['bases']:\n",
      "[0 0 0 0 0 0 0 2 2 2 2 2 2 2 2 2 0 0 0 0 0 2 0 0 0 0 0 0 2 0]\n",
      "ESR[24000]['esr']  :\n",
      "[-1 -1 -1 -1 -1 -1 -1  1  0  1 -1  1  0  1  0  1 -1 -1 -1 -1 -1 -1 -1 -1\n",
      " -1 -1 -1 -1 -1 -1]\n",
      "ESR[24000]['bases']:\n",
      "[0 0 0 0 0 0 0 2 2 2 2 2 2 2 2 2 0 0 0 0 0 0 0 0 0 0 0 0 0 0]\n",
      "ESR[25000]['esr']  :\n",
      "[-1 -1 -1 -1 -1 -1 -1  1  1 -1 -1  1 -1  0 -1 -1 -1 -1 -1 -1 -1 -1 -1 -1\n",
      " -1 -1 -1 -1 -1 -1]\n",
      "ESR[25000]['bases']:\n",
      "[0 0 0 0 0 0 0 2 2 2 2 2 2 2 2 2 0 0 0 0 0 0 0 0 0 0 0 0 0 0]\n",
      "ESR[26000]['esr']  :\n",
      "[-1 -1 -1 -1 -1 -1 -1  1  1  0 -1  0  1  1 -1  1 -1 -1 -1 -1 -1  0 -1 -1\n",
      " -1 -1 -1 -1 -1 -1]\n",
      "ESR[26000]['bases']:\n",
      "[0 0 0 0 0 0 0 2 2 2 2 2 2 2 2 2 0 0 0 0 0 2 2 0 0 0 0 0 0 0]\n",
      "ESR[27000]['esr']  :\n",
      "[-1 -1 -1 -1 -1 -1 -1  1  1  0  0  1  0 -1 -1  1 -1 -1 -1 -1 -1  0 -1 -1\n",
      "  0 -1 -1 -1 -1 -1]\n",
      "ESR[27000]['bases']:\n",
      "[0 0 0 0 0 0 0 2 2 2 2 2 2 2 2 2 0 0 0 0 0 2 2 0 2 0 0 0 0 0]\n",
      "ESR[28000]['esr']  :\n",
      "[-1 -1 -1 -1 -1 -1 -1  1  1  0  1  1  0  1 -1  1 -1 -1 -1 -1 -1  0 -1 -1\n",
      "  1 -1 -1 -1 -1 -1]\n",
      "ESR[28000]['bases']:\n",
      "[0 0 0 0 0 0 0 2 2 2 2 2 2 2 2 2 0 0 0 0 0 2 2 0 2 0 0 0 0 0]\n",
      "No more equilibria to check.\n",
      "goodbye\n"
     ]
    }
   ],
   "source": [
    "# game 2:\n",
    "lf2 = leapfrogging(r1 = lambda x1,x2: np.maximum(x2-x1+x1/10,x1/10))\n",
    "ss1 = lf2.cSS(lf.nC)\n",
    "ESS1 = lf2.cESS(lf.nC)\n",
    "Gtau= lambda ss, ESS, tau: lf2.state_recursion(ss,ESS, tau)  \n",
    "ESS2, TAU2, out2=rls.solve(Gtau,ss1.copy(),ESS1.copy(),lf2.stage_index)"
   ]
  },
  {
   "cell_type": "code",
   "execution_count": 12,
   "metadata": {},
   "outputs": [],
   "source": [
    "# save results to csv\n",
    "\n",
    "to_csv = out2\n",
    "\n",
    "keys = to_csv[0].keys()\n",
    "\n",
    "with open('output_2.csv', 'w', newline='') as output_file:\n",
    "    dict_writer = csv.DictWriter(output_file, keys)\n",
    "    dict_writer.writeheader()\n",
    "    dict_writer.writerows(to_csv)"
   ]
  },
  {
   "cell_type": "code",
   "execution_count": 35,
   "metadata": {},
   "outputs": [
    {
     "name": "stdout",
     "output_type": "stream",
     "text": [
      "number of equilibria game (2): 28903\n"
     ]
    }
   ],
   "source": [
    "# find total number of equilibria:\n",
    "number_of_equilibria2=np.size(out2)\n",
    "T2=torch.numel(torch.tensor(lf.stage_index))\n",
    "\n",
    "# save the expected discounted payoffs and esr in MPE\n",
    "y2 = np.zeros(T2)\n",
    "for i in range(T2):\n",
    "    y2[i] = sum(TAU2==i)\n",
    "V2 = np.zeros((number_of_equilibria2,2))\n",
    "MPEesr2 = np.empty(number_of_equilibria1,dtype='object')\n",
    "for iEQ in range(number_of_equilibria2):\n",
    "    V2[iEQ,0]=out2[iEQ]['V1']\n",
    "    V2[iEQ,1]=out2[iEQ]['V2']\n",
    "    MPEesr2[iEQ]=out2[iEQ]['MPEesr']\n",
    "print(f'number of equilibria game (2): {number_of_equilibria2}')"
   ]
  },
  {
   "cell_type": "code",
   "execution_count": 36,
   "metadata": {},
   "outputs": [
    {
     "data": {
      "image/png": "[encoded data removed]",
      "text/plain": [
       "<Figure size 432x288 with 1 Axes>"
      ]
     },
     "metadata": {
      "needs_background": "light"
     },
     "output_type": "display_data"
    }
   ],
   "source": [
    "# plot the total number of equilibria\n",
    "plt.bar(range(T2),y2)\n",
    "fig1 = plt.gca()\n",
    "fig1.set_ylabel('Equilibria')\n",
    "fig1.set_xlabel('Stage')\n",
    "fig1.set_xticks(np.arange(0, 11, 1))\n",
    "plt.show()"
   ]
  },
  {
   "cell_type": "code",
   "execution_count": 37,
   "metadata": {},
   "outputs": [
    {
     "data": {
      "image/png": "[encoded data removed]",
      "text/plain": [
       "<Figure size 432x288 with 1 Axes>"
      ]
     },
     "metadata": {
      "needs_background": "light"
     },
     "output_type": "display_data"
    }
   ],
   "source": [
    "# plot all the discounted payoffs\n",
    "plt.scatter(V2[:,0],V2[:,1])\n",
    "fig2 = plt.gca()\n",
    "fig2.set_ylabel('Expected discounted payoff firm 2')\n",
    "fig2.set_xlabel('Expected discounted payoff firm 1')\n",
    "fig2.grid(True)\n",
    "plt.show()"
   ]
  },
  {
   "cell_type": "code",
   "execution_count": 41,
   "metadata": {},
   "outputs": [
    {
     "data": {
      "image/png": "[encoded data removed]",
      "text/plain": [
       "<Figure size 432x288 with 1 Axes>"
      ]
     },
     "metadata": {
      "needs_background": "light"
     },
     "output_type": "display_data"
    }
   ],
   "source": [
    "# add a density plot for the payoffs from the two games\n",
    "\n",
    "# Calculate the point density game 1\n",
    "xy = np.vstack([V1[:,0],V1[:,1]])\n",
    "z = gaussian_kde(xy)(xy)\n",
    "\n",
    "fig, ax = plt.subplots()\n",
    "ax.scatter(V1[:,0], V1[:,1], c=z, s=100)\n",
    "ax.set_ylabel('Expected discounted payoff firm 2')\n",
    "ax.set_xlabel('Expected discounted payoff firm 1')\n",
    "plt.show()"
   ]
  },
  {
   "cell_type": "code",
   "execution_count": 40,
   "metadata": {},
   "outputs": [
    {
     "data": {
      "image/png": "[encoded data removed]",
      "text/plain": [
       "<Figure size 432x288 with 1 Axes>"
      ]
     },
     "metadata": {
      "needs_background": "light"
     },
     "output_type": "display_data"
    }
   ],
   "source": [
    "\n",
    "# Calculate the point density game 2\n",
    "xy = np.vstack([V2[:,0],V2[:,1]])\n",
    "z = gaussian_kde(xy)(xy)\n",
    "\n",
    "fig, ax = plt.subplots()\n",
    "ax.scatter(V2[:,0], V2[:,1], c=z, s=100)\n",
    "ax.set_ylabel('Expected discounted payoff firm 2')\n",
    "ax.set_xlabel('Expected discounted payoff firm 1')\n",
    "plt.show()"
   ]
  }
 ],
 "metadata": {
  "interpreter": {
   "hash": "5ba1f6d498b622a33175926a1e2f90b1391313a70e628ffc805e7aeb04ddd433"
  },
  "kernelspec": {
   "display_name": "Python 3.8.9 64-bit",
   "language": "python",
   "name": "python3"
  },
  "language_info": {
   "codemirror_mode": {
    "name": "ipython",
    "version": 3
   },
   "file_extension": ".py",
   "mimetype": "text/x-python",
   "name": "python",
   "nbconvert_exporter": "python",
   "pygments_lexer": "ipython3",
   "version": "3.8.9"
  },
  "orig_nbformat": 4
 },
 "nbformat": 4,
 "nbformat_minor": 2
}
