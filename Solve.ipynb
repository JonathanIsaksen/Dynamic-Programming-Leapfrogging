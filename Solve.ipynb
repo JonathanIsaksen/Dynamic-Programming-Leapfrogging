{
 "cells": [
  {
   "cell_type": "code",
   "execution_count": 1,
   "metadata": {},
   "outputs": [],
   "source": [
    "import numpy as np\n",
    "import matplotlib.pyplot as plt\n",
    "import numpy.matlib\n",
    "%matplotlib inline\n",
    "import quantecon as qe\n",
    "import scipy.optimize as optimize\n",
    "import scipy.sparse as sparse\n",
    "from quantecon import compute_fixed_point\n",
    "from quantecon.markov import DiscreteDP\n",
    "import copy\n",
    "from Leapfrogging import leapfrogging\n",
    "lf = leapfrogging()\n",
    "from RLS import rls_class\n",
    "rls = rls_class()"
   ]
  },
  {
   "cell_type": "code",
   "execution_count": 2,
   "metadata": {},
   "outputs": [
    {
     "name": "stdout",
     "output_type": "stream",
     "text": [
      "tau in state_recursion: 10\n",
      "in T\n",
      "after:\n",
      "[0 0 0 0 0 0 0 0 0 0 0 0 0 0 0 0 0 0 0 0 0 0 0 0 0 0 0 0 0 0]\n",
      "in T-1\n",
      "after:\n",
      "[0 0 0 0 0 0 0 0 0 0 0 0 0 0 0 0 0 0 0 0 0 0 0 0 0 0 0 0 0 0]\n",
      "in T-2\n",
      "after:\n",
      "[0 0 0 0 0 0 0 2 2 2 2 2 2 2 2 2 0 0 0 0 0 0 0 0 0 0 0 0 0 0]\n",
      "in mod==1\n",
      "after:\n",
      "[0 0 0 0 0 0 0 2 2 2 2 2 2 2 2 2 0 0 0 0 0 0 0 0 0 0 0 0 0 0]\n",
      "in mod==0\n",
      "after:\n",
      "[0 0 0 0 0 0 0 2 2 2 2 2 2 2 2 2 0 0 0 0 0 0 0 0 0 0 0 0 0 0]\n",
      "in mod==2\n",
      "after:\n",
      "[0 0 0 0 0 0 0 2 2 2 2 2 2 2 2 2 0 0 0 0 0 1 0 0 0 0 0 0 0 0]\n",
      "in mod==1\n",
      "after:\n",
      "[0 0 0 0 0 0 0 2 2 2 2 2 2 2 2 2 0 0 0 0 0 1 0 0 0 0 0 0 0 0]\n",
      "in mod==0\n",
      "after:\n",
      "[0 0 0 0 0 0 0 2 2 2 2 2 2 2 2 2 0 0 0 0 0 1 0 0 0 0 0 0 0 0]\n",
      "in mod==2\n",
      "after:\n",
      "[0 0 0 0 0 0 0 2 2 2 2 2 2 2 2 2 0 0 0 0 0 1 0 0 0 0 0 0 1 0]\n",
      "in mod==1\n",
      "ESR[0]['esr']  :\n",
      "[-1 -1 -1 -1 -1 -1 -1 -1 -1 -1 -1 -1 -1 -1 -1 -1 -1 -1 -1 -1 -1 -1 -1 -1\n",
      " -1 -1 -1 -1 -1 -1]\n",
      "ESR[0]['bases']:\n",
      "[0 0 0 0 0 0 0 0 0 0 0 0 0 0 0 0 0 0 0 0 0 0 0 0 0 0 0 0 0 0]\n",
      "esr: -1\n",
      "bases: 0\n",
      "R: 1.0 \n",
      "esr: -1\n",
      "bases: 1\n",
      "R: 0.0 \n",
      "esr: -1\n",
      "bases: 0\n",
      "R: 0.0 \n",
      "esr: -1\n",
      "bases: 0\n",
      "R: 0.0 \n",
      "esr: -1\n",
      "bases: 0\n",
      "R: 0.0 \n",
      "esr: -1\n",
      "bases: 0\n",
      "R: 0.0 \n",
      "esr: -1\n",
      "bases: 0\n",
      "R: 0.0 \n",
      "esr: -1\n",
      "bases: 0\n",
      "R: 0.0 \n",
      "esr: -1\n",
      "bases: 1\n",
      "R: 0.0 \n",
      "esr: -1\n",
      "bases: 0\n",
      "R: 0.0 \n",
      "esr: -1\n",
      "bases: 0\n",
      "R: 0.0 \n",
      "esr: -1\n",
      "bases: 0\n",
      "R: 0.0 \n",
      "esr: -1\n",
      "bases: 0\n",
      "R: 0.0 \n",
      "esr: -1\n",
      "bases: 0\n",
      "R: 0.0 \n",
      "esr: -1\n",
      "bases: 2\n",
      "R: 0.0 \n",
      "esr: -1\n",
      "bases: 2\n",
      "R: 0.0 \n",
      "esr: -1\n",
      "bases: 2\n",
      "R: 0.0 \n",
      "esr: -1\n",
      "bases: 2\n",
      "R: 0.0 \n",
      "esr: -1\n",
      "bases: 2\n",
      "R: 0.0 \n",
      "esr: -1\n",
      "bases: 2\n",
      "R: 0.0 \n",
      "esr: -1\n",
      "bases: 2\n",
      "R: 0.0 \n",
      "esr: -1\n",
      "bases: 2\n",
      "R: 0.0 \n",
      "esr: -1\n",
      "bases: 2\n",
      "R: 0.0 \n",
      "esr: -1\n",
      "bases: 0\n",
      "R: 0.0 \n",
      "esr: -1\n",
      "bases: 0\n",
      "R: 0.0 \n",
      "esr: -1\n",
      "bases: 0\n",
      "R: 0.0 \n",
      "esr: -1\n",
      "bases: 0\n",
      "R: 0.0 \n",
      "esr: -1\n",
      "bases: 0\n",
      "R: 0.0 \n",
      "esr: -1\n",
      "bases: 0\n",
      "R: 0.0 \n",
      "esr: -1\n",
      "bases: 0\n",
      "R: 0.0 \n",
      "tau in state_recursion: 8\n",
      "in T-2\n",
      "after:\n",
      "[0 0 0 0 0 0 0 2 2 2 2 2 2 2 2 2 0 0 0 0 0 1 0 0 0 0 0 0 1 0]\n",
      "in mod==1\n",
      "after:\n",
      "[0 0 0 0 0 0 0 2 2 2 2 2 2 2 2 2 0 0 0 0 0 1 0 0 0 0 0 0 1 0]\n",
      "in mod==0\n",
      "after:\n",
      "[0 0 0 0 0 0 0 2 2 2 2 2 2 2 2 2 0 0 0 0 0 1 0 0 0 0 0 0 1 0]\n",
      "in mod==2\n",
      "after:\n",
      "[0 0 0 0 0 0 0 2 2 2 2 2 2 2 2 2 0 0 0 0 0 1 0 0 0 0 0 0 1 0]\n",
      "in mod==1\n",
      "after:\n",
      "[0 0 0 0 0 0 0 2 2 2 2 2 2 2 2 2 0 0 0 0 0 1 0 0 0 0 0 0 1 0]\n",
      "in mod==0\n",
      "after:\n",
      "[0 0 0 0 0 0 0 2 2 2 2 2 2 2 2 2 0 0 0 0 0 1 0 0 0 0 0 0 1 0]\n",
      "in mod==2\n",
      "after:\n",
      "[0 0 0 0 0 0 0 2 2 2 2 2 2 2 2 2 0 0 0 0 0 1 0 0 0 0 0 0 1 0]\n",
      "in mod==1\n",
      "esr: -1\n",
      "bases: 0\n",
      "R: 1.0 \n",
      "esr: -1\n",
      "bases: 1\n",
      "R: 0.0 \n",
      "esr: -1\n",
      "bases: 0\n",
      "R: 0.0 \n",
      "esr: -1\n",
      "bases: 0\n",
      "R: 0.0 \n",
      "esr: -1\n",
      "bases: 0\n",
      "R: 0.0 \n",
      "esr: -1\n",
      "bases: 0\n",
      "R: 0.0 \n",
      "esr: -1\n",
      "bases: 0\n",
      "R: 0.0 \n",
      "esr: -1\n",
      "bases: 0\n",
      "R: 0.0 \n",
      "esr: -1\n",
      "bases: 1\n",
      "R: 0.0 \n",
      "esr: -1\n",
      "bases: 0\n",
      "R: 0.0 \n",
      "esr: -1\n",
      "bases: 0\n",
      "R: 0.0 \n",
      "esr: -1\n",
      "bases: 0\n",
      "R: 0.0 \n",
      "esr: -1\n",
      "bases: 0\n",
      "R: 0.0 \n",
      "esr: -1\n",
      "bases: 0\n",
      "R: 0.0 \n",
      "esr: 0\n",
      "bases: 2\n",
      "R: 0.0 \n",
      "esr: 0\n",
      "bases: 2\n",
      "R: 0.0 \n",
      "esr: 0\n",
      "bases: 2\n",
      "R: 0.0 \n",
      "esr: 0\n",
      "bases: 2\n",
      "R: 0.0 \n",
      "esr: 0\n",
      "bases: 2\n",
      "R: 0.0 \n",
      "esr: 0\n",
      "bases: 2\n",
      "R: 0.0 \n",
      "esr: 0\n",
      "bases: 2\n",
      "R: 0.0 \n",
      "esr: 0\n",
      "bases: 2\n",
      "R: 0.0 \n",
      "esr: 0\n",
      "bases: 2\n",
      "R: 0.0 \n",
      "esr: -1\n",
      "bases: 0\n",
      "R: 0.0 \n",
      "esr: -1\n",
      "bases: 0\n",
      "R: 0.0 \n",
      "esr: -1\n",
      "bases: 0\n",
      "R: 0.0 \n",
      "esr: -1\n",
      "bases: 0\n",
      "R: 0.0 \n",
      "esr: -1\n",
      "bases: 0\n",
      "R: 0.0 \n",
      "esr: -1\n",
      "bases: 0\n",
      "R: 0.0 \n",
      "esr: -1\n",
      "bases: 0\n",
      "R: 0.0 \n"
     ]
    },
    {
     "name": "stderr",
     "output_type": "stream",
     "text": [
      "c:\\Users\\Jonat\\Documents\\Polit\\Dynamic programing\\Term paper\\Github\\Dynamic-Programming-Leapfrogging\\RLS.py:81: RuntimeWarning: divide by zero encountered in remainder\n",
      "  temp_xi = np.mod(addESS['esr'][i] + R,addESS['bases'][i])\n",
      "c:\\Users\\Jonat\\Documents\\Polit\\Dynamic programing\\Term paper\\Github\\Dynamic-Programming-Leapfrogging\\RLS.py:81: RuntimeWarning: invalid value encountered in remainder\n",
      "  temp_xi = np.mod(addESS['esr'][i] + R,addESS['bases'][i])\n"
     ]
    }
   ],
   "source": [
    "ss1 = lf.cSS(lf.nC)\n",
    "ESS1 = lf.cESS(lf.nC)\n",
    "Gtau= lambda ss, ESS, tau: lf.state_recursion(ss,ESS, tau)  \n",
    "ESS, TAU, out=rls.solve(Gtau,ss1.copy(),ESS1.copy(),lf.stage_index)\n"
   ]
  },
  {
   "cell_type": "code",
   "execution_count": 4,
   "metadata": {},
   "outputs": [
    {
     "name": "stdout",
     "output_type": "stream",
     "text": [
      "0\n",
      "1\n",
      "2\n",
      "3\n",
      "4\n"
     ]
    }
   ],
   "source": [
    "\n",
    "for i in range(5):\n",
    "    print(i)"
   ]
  },
  {
   "cell_type": "code",
   "execution_count": 4,
   "metadata": {},
   "outputs": [
    {
     "data": {
      "text/plain": [
       "1.0"
      ]
     },
     "execution_count": 4,
     "metadata": {},
     "output_type": "execute_result"
    }
   ],
   "source": [
    "np.floor(1/1)"
   ]
  },
  {
   "cell_type": "code",
   "execution_count": 9,
   "metadata": {},
   "outputs": [],
   "source": [
    "tau[0] = {}\n",
    "tau[0]['EQs'] = EQs"
   ]
  },
  {
   "cell_type": "code",
   "execution_count": 10,
   "metadata": {},
   "outputs": [
    {
     "data": {
      "text/plain": [
       "array([{'EQs': array([[[None, None, None, None, None, None],\n",
       "        [None, None, None, None, None, None],\n",
       "        [None, None, None, None, None, None],\n",
       "        [None, None, None, None, None, None],\n",
       "        [None, None, None, None, None, None]],\n",
       "\n",
       "       [[None, None, None, None, None, None],\n",
       "        [None, None, None, None, None, None],\n",
       "        [None, None, None, None, None, None],\n",
       "        [None, None, None, None, None, None],\n",
       "        [None, None, None, None, None, None]],\n",
       "\n",
       "       [[None, None, None, None, None, None],\n",
       "        [None, None, None, None, None, None],\n",
       "        [None, None, None, None, None, None],\n",
       "        [None, None, None, None, None, None],\n",
       "        [None, None, None, None, None, None]],\n",
       "\n",
       "       [[None, None, None, None, None, None],\n",
       "        [None, None, None, None, None, None],\n",
       "        [None, None, None, None, None, None],\n",
       "        [None, None, None, None, None, None],\n",
       "        [None, None, None, None, None, None]],\n",
       "\n",
       "       [[None, None, None, None, None, None],\n",
       "        [None, None, None, None, None, None],\n",
       "        [None, None, None, None, None, None],\n",
       "        [None, None, None, None, None, None],\n",
       "        [None, None, None, None, None, None]]], dtype=object)},\n",
       "       None, None, None, None], dtype=object)"
      ]
     },
     "execution_count": 10,
     "metadata": {},
     "output_type": "execute_result"
    }
   ],
   "source": [
    "tau"
   ]
  },
  {
   "cell_type": "code",
   "execution_count": 12,
   "metadata": {},
   "outputs": [
    {
     "name": "stdout",
     "output_type": "stream",
     "text": [
      "[1]\n"
     ]
    },
    {
     "ename": "SyntaxError",
     "evalue": "cannot assign to literal (<string>, line 1)",
     "output_type": "error",
     "traceback": [
      "Traceback \u001b[1;36m(most recent call last)\u001b[0m:\n",
      "  File \u001b[0;32mc:\\Users\\Jonat\\AppData\\Local\\Programs\\Python\\Python38\\lib\\site-packages\\IPython\\core\\interactiveshell.py:3397\u001b[0m in \u001b[0;35mrun_code\u001b[0m\n    exec(code_obj, self.user_global_ns, self.user_ns)\n",
      "\u001b[1;36m  Input \u001b[1;32mIn [12]\u001b[1;36m in \u001b[1;35m<cell line: 3>\u001b[1;36m\u001b[0m\n\u001b[1;33m    exec(f'{v} = {v[0]}')\u001b[0m\n",
      "\u001b[1;36m  File \u001b[1;32m<string>:1\u001b[1;36m\u001b[0m\n\u001b[1;31mSyntaxError\u001b[0m\u001b[1;31m:\u001b[0m cannot assign to literal\n"
     ]
    }
   ],
   "source": [
    "P1,vN1,vI1,P2,vN2,vI2 = [1], 2, [3], 4, 5, 6\n",
    "\n",
    "for v in [P1,vN1,vI1,P2,vN2,vI2]:\n",
    "    if isinstance(v,list):\n",
    "        print(v)\n",
    "        exec(f'{v} = {v[0]}')\n",
    "        print(v)\n",
    "eq = {'P1':P1, 'vN1':vN1, 'vI1':vI1, 'P2':P2, 'vN2':vN2, 'vI2':vI2}\n",
    "print(eq)"
   ]
  },
  {
   "cell_type": "code",
   "execution_count": 9,
   "metadata": {},
   "outputs": [
    {
     "data": {
      "text/plain": [
       "array([0, 0, 0, 0, 0, 0, 0, 0, 0, 0, 0, 0, 0, 0, 0, 0, 0, 0, 0, 0, 0, 0,\n",
       "       0, 0, 0, 0, 0, 0, 0, 0, 0, 0, 0, 0, 0, 0, 0, 0, 0, 0, 0, 0, 0, 0,\n",
       "       0, 0, 0, 0, 0, 0, 0, 0, 0, 0, 0])"
      ]
     },
     "execution_count": 9,
     "metadata": {},
     "output_type": "execute_result"
    }
   ],
   "source": [
    "np.zeros(int(N*(N+1)*(2*N+1)/6),dtype=int)"
   ]
  },
  {
   "cell_type": "code",
   "execution_count": 10,
   "metadata": {},
   "outputs": [
    {
     "data": {
      "text/plain": [
       "array([0, 0, 0, 0, 0, 0, 0, 0, 0, 0, 0, 0, 0, 0, 0, 0, 0, 0, 0, 0, 0, 0,\n",
       "       0, 0, 0, 0, 0, 0, 0, 0])"
      ]
     },
     "execution_count": 10,
     "metadata": {},
     "output_type": "execute_result"
    }
   ],
   "source": [
    "np.full((2, 5), -1.)"
   ]
  },
  {
   "cell_type": "code",
   "execution_count": 10,
   "metadata": {},
   "outputs": [
    {
     "data": {
      "text/plain": [
       "[0, 0, 0, 0, 0, 1]"
      ]
     },
     "execution_count": 10,
     "metadata": {},
     "output_type": "execute_result"
    }
   ],
   "source": [
    "testESS[1]"
   ]
  },
  {
   "cell_type": "code",
   "execution_count": 22,
   "metadata": {},
   "outputs": [
    {
     "data": {
      "text/plain": [
       "tuple"
      ]
     },
     "execution_count": 22,
     "metadata": {},
     "output_type": "execute_result"
    }
   ],
   "source": [
    "type(np.nonzero((ESS['esr'][0]-ESS['esr'][0])!=0))"
   ]
  },
  {
   "cell_type": "code",
   "execution_count": 8,
   "metadata": {},
   "outputs": [
    {
     "data": {
      "text/plain": [
       "{'index': array([[[29, 28, 21, 7],\n",
       "         [None, 26, 23, 10],\n",
       "         [None, None, 17, 13],\n",
       "         [None, None, None, 1]],\n",
       " \n",
       "        [[None, 27, 22, 8],\n",
       "         [None, 25, 24, 11],\n",
       "         [None, None, 18, 14],\n",
       "         [None, None, None, 2]],\n",
       " \n",
       "        [[None, None, 19, 9],\n",
       "         [None, None, 20, 12],\n",
       "         [None, None, 16, 15],\n",
       "         [None, None, None, 3]],\n",
       " \n",
       "        [[None, None, None, 4],\n",
       "         [None, None, None, 5],\n",
       "         [None, None, None, 6],\n",
       "         [None, None, None, 0]]], dtype=object),\n",
       " 'esr': array([-1., -1., -1., -1., -1., -1., -1., -1., -1., -1., -1., -1., -1.,\n",
       "        -1., -1., -1., -1., -1., -1., -1., -1., -1., -1., -1., -1., -1.,\n",
       "        -1., -1., -1., -1.]),\n",
       " 'bases': array([[1, 1, 1, 1, 1, 1, 1, 1, 1, 1, 1, 0, 1, 1, 1, 1, 1, 1, 1, 1, 1, 1,\n",
       "         1, 1, 1, 1, 1, 1, 1, 1]])}"
      ]
     },
     "execution_count": 8,
     "metadata": {},
     "output_type": "execute_result"
    }
   ],
   "source": [
    "ESS"
   ]
  },
  {
   "cell_type": "code",
   "execution_count": null,
   "metadata": {},
   "outputs": [],
   "source": []
  }
 ],
 "metadata": {
  "interpreter": {
   "hash": "5ba1f6d498b622a33175926a1e2f90b1391313a70e628ffc805e7aeb04ddd433"
  },
  "kernelspec": {
   "display_name": "Python 3.8.9 64-bit",
   "language": "python",
   "name": "python3"
  },
  "language_info": {
   "codemirror_mode": {
    "name": "ipython",
    "version": 3
   },
   "file_extension": ".py",
   "mimetype": "text/x-python",
   "name": "python",
   "nbconvert_exporter": "python",
   "pygments_lexer": "ipython3",
   "version": "3.8.9"
  },
  "orig_nbformat": 4
 },
 "nbformat": 4,
 "nbformat_minor": 2
}
