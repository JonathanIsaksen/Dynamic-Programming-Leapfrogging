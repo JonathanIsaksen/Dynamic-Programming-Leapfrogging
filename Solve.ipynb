{
 "cells": [
  {
   "cell_type": "code",
   "execution_count": 1,
   "metadata": {},
   "outputs": [
    {
     "ename": "SyntaxError",
     "evalue": "invalid syntax (Leapfrogging.py, line 590)",
     "output_type": "error",
     "traceback": [
      "Traceback \u001b[1;36m(most recent call last)\u001b[0m:\n",
      "  File \u001b[0;32mc:\\Users\\Jonat\\AppData\\Local\\Programs\\Python\\Python38\\lib\\site-packages\\IPython\\core\\interactiveshell.py:3397\u001b[0m in \u001b[0;35mrun_code\u001b[0m\n    exec(code_obj, self.user_global_ns, self.user_ns)\n",
      "\u001b[1;36m  Input \u001b[1;32mIn [1]\u001b[1;36m in \u001b[1;35m<cell line: 11>\u001b[1;36m\u001b[0m\n\u001b[1;33m    from Leapfrogging import leapfrogging\u001b[0m\n",
      "\u001b[1;36m  File \u001b[1;32mc:\\Users\\Jonat\\Documents\\Polit\\Dynamic programing\\Term paper\\Github\\Dynamic-Programming-Leapfrogging\\Leapfrogging.py:590\u001b[1;36m\u001b[0m\n\u001b[1;33m    \"\"\"\u001b[0m\n\u001b[1;37m    ^\u001b[0m\n\u001b[1;31mSyntaxError\u001b[0m\u001b[1;31m:\u001b[0m invalid syntax\n"
     ]
    }
   ],
   "source": [
    "import numpy as np\n",
    "import matplotlib.pyplot as plt\n",
    "import numpy.matlib\n",
    "%matplotlib inline\n",
    "import quantecon as qe\n",
    "import scipy.optimize as optimize\n",
    "import scipy.sparse as sparse\n",
    "from quantecon import compute_fixed_point\n",
    "from quantecon.markov import DiscreteDP\n",
    "import copy\n",
    "from Leapfrogging import leapfrogging\n",
    "lf = leapfrogging()\n",
    "from RLS import rls_class\n",
    "rls = rls_class()"
   ]
  },
  {
   "cell_type": "code",
   "execution_count": null,
   "metadata": {},
   "outputs": [
    {
     "name": "stdout",
     "output_type": "stream",
     "text": [
      "tau in state_recursion: 10\n",
      "bases in state_recusion: [1 1 1 1 1 1 1 1 1 1 1 1 1 1 1 1 1 1 1 1 1 1 1 1 1 1 1 1 1 1]\n",
      "bases after T,-1,-2: [1 1 1 1 1 1 1 3 3 3 3 3 3 3 3 3 1 1 1 1 1 1 1 1 1 1 1 1 1 1]\n",
      "in mod==2\n"
     ]
    },
    {
     "ename": "AttributeError",
     "evalue": "'dict' object has no attribute 'esr'",
     "output_type": "error",
     "traceback": [
      "\u001b[1;31m---------------------------------------------------------------------------\u001b[0m",
      "\u001b[1;31mAttributeError\u001b[0m                            Traceback (most recent call last)",
      "\u001b[1;32mc:\\Users\\Jonat\\Documents\\Polit\\Dynamic programing\\Term paper\\Github\\Dynamic-Programming-Leapfrogging\\Solve.ipynb Cell 2'\u001b[0m in \u001b[0;36m<cell line: 4>\u001b[1;34m()\u001b[0m\n\u001b[0;32m      <a href='vscode-notebook-cell:/c%3A/Users/Jonat/Documents/Polit/Dynamic%20programing/Term%20paper/Github/Dynamic-Programming-Leapfrogging/Solve.ipynb#ch0000001?line=1'>2</a>\u001b[0m ESS \u001b[39m=\u001b[39m lf\u001b[39m.\u001b[39mcESS(lf\u001b[39m.\u001b[39mnC)\n\u001b[0;32m      <a href='vscode-notebook-cell:/c%3A/Users/Jonat/Documents/Polit/Dynamic%20programing/Term%20paper/Github/Dynamic-Programming-Leapfrogging/Solve.ipynb#ch0000001?line=2'>3</a>\u001b[0m Gtau\u001b[39m=\u001b[39m \u001b[39mlambda\u001b[39;00m ss, ESS, tau: lf\u001b[39m.\u001b[39mstate_recursion(ss,ESS, tau)  \n\u001b[1;32m----> <a href='vscode-notebook-cell:/c%3A/Users/Jonat/Documents/Polit/Dynamic%20programing/Term%20paper/Github/Dynamic-Programming-Leapfrogging/Solve.ipynb#ch0000001?line=3'>4</a>\u001b[0m ESS, TAU, out\u001b[39m=\u001b[39mrls\u001b[39m.\u001b[39;49msolve(Gtau,ss\u001b[39m.\u001b[39;49mcopy(),ESS\u001b[39m.\u001b[39;49mcopy(),lf\u001b[39m.\u001b[39;49mstage_index)\n",
      "File \u001b[1;32mc:\\Users\\Jonat\\Documents\\Polit\\Dynamic programing\\Term paper\\Github\\Dynamic-Programming-Leapfrogging\\RLS.py:34\u001b[0m, in \u001b[0;36mrls_class.solve\u001b[1;34m(self, G, ss, ESS0, stage_index)\u001b[0m\n\u001b[0;32m     <a href='file:///c%3A/Users/Jonat/Documents/Polit/Dynamic%20programing/Term%20paper/Github/Dynamic-Programming-Leapfrogging/RLS.py?line=31'>32</a>\u001b[0m \u001b[39mwhile\u001b[39;00m iEQ \u001b[39m<\u001b[39m rlsp[\u001b[39m'\u001b[39m\u001b[39mmaxEQ\u001b[39m\u001b[39m'\u001b[39m]:\n\u001b[0;32m     <a href='file:///c%3A/Users/Jonat/Documents/Polit/Dynamic%20programing/Term%20paper/Github/Dynamic-Programming-Leapfrogging/RLS.py?line=32'>33</a>\u001b[0m     TAU[iEQ] \u001b[39m=\u001b[39m tau\n\u001b[1;32m---> <a href='file:///c%3A/Users/Jonat/Documents/Polit/Dynamic%20programing/Term%20paper/Github/Dynamic-Programming-Leapfrogging/RLS.py?line=33'>34</a>\u001b[0m     ss, ESS[iEQ] \u001b[39m=\u001b[39m G(copy\u001b[39m.\u001b[39;49mdeepcopy(ss),copy\u001b[39m.\u001b[39;49mdeepcopy(ESS[iEQ]), tau)\n\u001b[0;32m     <a href='file:///c%3A/Users/Jonat/Documents/Polit/Dynamic%20programing/Term%20paper/Github/Dynamic-Programming-Leapfrogging/RLS.py?line=35'>36</a>\u001b[0m     \u001b[39mif\u001b[39;00m (np\u001b[39m.\u001b[39mmod(iEQ,rlsp[\u001b[39m'\u001b[39m\u001b[39mprint\u001b[39m\u001b[39m'\u001b[39m])\u001b[39m==\u001b[39m\u001b[39m0\u001b[39m):\n\u001b[0;32m     <a href='file:///c%3A/Users/Jonat/Documents/Polit/Dynamic%20programing/Term%20paper/Github/Dynamic-Programming-Leapfrogging/RLS.py?line=36'>37</a>\u001b[0m         \u001b[39mprint\u001b[39m(\u001b[39mf\u001b[39m\u001b[39m'\u001b[39m\u001b[39mESR[\u001b[39m\u001b[39m{\u001b[39;00miEQ\u001b[39m}\u001b[39;00m\u001b[39m][\u001b[39m\u001b[39m\\'\u001b[39;00m\u001b[39mesr\u001b[39m\u001b[39m\\'\u001b[39;00m\u001b[39m]  :\u001b[39m\u001b[39m'\u001b[39m)\n",
      "\u001b[1;32mc:\\Users\\Jonat\\Documents\\Polit\\Dynamic programing\\Term paper\\Github\\Dynamic-Programming-Leapfrogging\\Solve.ipynb Cell 2'\u001b[0m in \u001b[0;36m<lambda>\u001b[1;34m(ss, ESS, tau)\u001b[0m\n\u001b[0;32m      <a href='vscode-notebook-cell:/c%3A/Users/Jonat/Documents/Polit/Dynamic%20programing/Term%20paper/Github/Dynamic-Programming-Leapfrogging/Solve.ipynb#ch0000001?line=0'>1</a>\u001b[0m ss \u001b[39m=\u001b[39m lf\u001b[39m.\u001b[39mcSS(lf\u001b[39m.\u001b[39mnC)\n\u001b[0;32m      <a href='vscode-notebook-cell:/c%3A/Users/Jonat/Documents/Polit/Dynamic%20programing/Term%20paper/Github/Dynamic-Programming-Leapfrogging/Solve.ipynb#ch0000001?line=1'>2</a>\u001b[0m ESS \u001b[39m=\u001b[39m lf\u001b[39m.\u001b[39mcESS(lf\u001b[39m.\u001b[39mnC)\n\u001b[1;32m----> <a href='vscode-notebook-cell:/c%3A/Users/Jonat/Documents/Polit/Dynamic%20programing/Term%20paper/Github/Dynamic-Programming-Leapfrogging/Solve.ipynb#ch0000001?line=2'>3</a>\u001b[0m Gtau\u001b[39m=\u001b[39m \u001b[39mlambda\u001b[39;00m ss, ESS, tau: lf\u001b[39m.\u001b[39;49mstate_recursion(ss,ESS, tau)  \n\u001b[0;32m      <a href='vscode-notebook-cell:/c%3A/Users/Jonat/Documents/Polit/Dynamic%20programing/Term%20paper/Github/Dynamic-Programming-Leapfrogging/Solve.ipynb#ch0000001?line=3'>4</a>\u001b[0m ESS, TAU, out\u001b[39m=\u001b[39mrls\u001b[39m.\u001b[39msolve(Gtau,ss\u001b[39m.\u001b[39mcopy(),ESS\u001b[39m.\u001b[39mcopy(),lf\u001b[39m.\u001b[39mstage_index)\n",
      "File \u001b[1;32mc:\\Users\\Jonat\\Documents\\Polit\\Dynamic programing\\Term paper\\Github\\Dynamic-Programming-Leapfrogging\\Leapfrogging.py:99\u001b[0m, in \u001b[0;36mleapfrogging.state_recursion\u001b[1;34m(self, ss, ESS, tau)\u001b[0m\n\u001b[0;32m     <a href='file:///c%3A/Users/Jonat/Documents/Polit/Dynamic%20programing/Term%20paper/Github/Dynamic-Programming-Leapfrogging/Leapfrogging.py?line=96'>97</a>\u001b[0m         \u001b[39mprint\u001b[39m(\u001b[39m'\u001b[39m\u001b[39min mod==2\u001b[39m\u001b[39m'\u001b[39m)\n\u001b[0;32m     <a href='file:///c%3A/Users/Jonat/Documents/Polit/Dynamic%20programing/Term%20paper/Github/Dynamic-Programming-Leapfrogging/Leapfrogging.py?line=97'>98</a>\u001b[0m         ic \u001b[39m=\u001b[39m \u001b[39mint\u001b[39m(np\u001b[39m.\u001b[39mceil((tau\u001b[39m+\u001b[39m\u001b[39m2\u001b[39m)\u001b[39m/\u001b[39m\u001b[39m3\u001b[39m)) \u001b[39m-\u001b[39m \u001b[39m1\u001b[39m \u001b[39m# python starts at 0\u001b[39;00m\n\u001b[1;32m---> <a href='file:///c%3A/Users/Jonat/Documents/Polit/Dynamic%20programing/Term%20paper/Github/Dynamic-Programming-Leapfrogging/Leapfrogging.py?line=98'>99</a>\u001b[0m         ss, ESS \u001b[39m=\u001b[39m \u001b[39mself\u001b[39;49m\u001b[39m.\u001b[39;49msolve_interior(ss\u001b[39m.\u001b[39;49mcopy(),ic,ESS\u001b[39m.\u001b[39;49mcopy())\n\u001b[0;32m    <a href='file:///c%3A/Users/Jonat/Documents/Polit/Dynamic%20programing/Term%20paper/Github/Dynamic-Programming-Leapfrogging/Leapfrogging.py?line=99'>100</a>\u001b[0m         tau \u001b[39m-\u001b[39m\u001b[39m=\u001b[39m \u001b[39m1\u001b[39m\n\u001b[0;32m    <a href='file:///c%3A/Users/Jonat/Documents/Polit/Dynamic%20programing/Term%20paper/Github/Dynamic-Programming-Leapfrogging/Leapfrogging.py?line=100'>101</a>\u001b[0m \u001b[39m# end of the scary while loop\u001b[39;00m\n",
      "File \u001b[1;32mc:\\Users\\Jonat\\Documents\\Polit\\Dynamic programing\\Term paper\\Github\\Dynamic-Programming-Leapfrogging\\Leapfrogging.py:561\u001b[0m, in \u001b[0;36mleapfrogging.solve_interior\u001b[1;34m(self, ss, ic, ESS)\u001b[0m\n\u001b[0;32m    <a href='file:///c%3A/Users/Jonat/Documents/Polit/Dynamic%20programing/Term%20paper/Github/Dynamic-Programming-Leapfrogging/Leapfrogging.py?line=558'>559</a>\u001b[0m \u001b[39mfor\u001b[39;00m ic1 \u001b[39min\u001b[39;00m \u001b[39mrange\u001b[39m(ic):\n\u001b[0;32m    <a href='file:///c%3A/Users/Jonat/Documents/Polit/Dynamic%20programing/Term%20paper/Github/Dynamic-Programming-Leapfrogging/Leapfrogging.py?line=559'>560</a>\u001b[0m     \u001b[39mfor\u001b[39;00m ic2 \u001b[39min\u001b[39;00m \u001b[39mrange\u001b[39m(ic):\n\u001b[1;32m--> <a href='file:///c%3A/Users/Jonat/Documents/Polit/Dynamic%20programing/Term%20paper/Github/Dynamic-Programming-Leapfrogging/Leapfrogging.py?line=560'>561</a>\u001b[0m         ss,ESS \u001b[39m=\u001b[39m \u001b[39mself\u001b[39;49m\u001b[39m.\u001b[39;49mfind_interior(ss,ic1,ic2,ic,c,ESS)\n\u001b[0;32m    <a href='file:///c%3A/Users/Jonat/Documents/Polit/Dynamic%20programing/Term%20paper/Github/Dynamic-Programming-Leapfrogging/Leapfrogging.py?line=561'>562</a>\u001b[0m \u001b[39mreturn\u001b[39;00m ss, ESS\n",
      "File \u001b[1;32mc:\\Users\\Jonat\\Documents\\Polit\\Dynamic programing\\Term paper\\Github\\Dynamic-Programming-Leapfrogging\\Leapfrogging.py:581\u001b[0m, in \u001b[0;36mleapfrogging.find_interior\u001b[1;34m(self, ss, ic1, ic2, ic, c, ESS)\u001b[0m\n\u001b[0;32m    <a href='file:///c%3A/Users/Jonat/Documents/Polit/Dynamic%20programing/Term%20paper/Github/Dynamic-Programming-Leapfrogging/Leapfrogging.py?line=576'>577</a>\u001b[0m q \u001b[39m=\u001b[39m \u001b[39m1\u001b[39m\u001b[39m-\u001b[39mp\n\u001b[0;32m    <a href='file:///c%3A/Users/Jonat/Documents/Polit/Dynamic%20programing/Term%20paper/Github/Dynamic-Programming-Leapfrogging/Leapfrogging.py?line=578'>579</a>\u001b[0m \u001b[39m# % h is used for selected equilibrium in state realized when technology\u001b[39;00m\n\u001b[0;32m    <a href='file:///c%3A/Users/Jonat/Documents/Polit/Dynamic%20programing/Term%20paper/Github/Dynamic-Programming-Leapfrogging/Leapfrogging.py?line=579'>580</a>\u001b[0m \u001b[39m# % develops hence ic+1 in ESS.index(ic1,ic2,ic+1)\u001b[39;00m\n\u001b[1;32m--> <a href='file:///c%3A/Users/Jonat/Documents/Polit/Dynamic%20programing/Term%20paper/Github/Dynamic-Programming-Leapfrogging/Leapfrogging.py?line=580'>581</a>\u001b[0m h \u001b[39m=\u001b[39m ESS\u001b[39m.\u001b[39;49mesr(ESS\u001b[39m.\u001b[39mindex(ic1,ic2,ic\u001b[39m+\u001b[39m\u001b[39m1\u001b[39m))\u001b[39m+\u001b[39m\u001b[39m1\u001b[39m\n\u001b[0;32m    <a href='file:///c%3A/Users/Jonat/Documents/Polit/Dynamic%20programing/Term%20paper/Github/Dynamic-Programming-Leapfrogging/Leapfrogging.py?line=584'>585</a>\u001b[0m \u001b[39m# % H1(iC1, iC2, iC) = (1-pi)*?(?[iC+1].EQs[iC1, iC2, ESS[iC1,iC2,iC+1]].vN1,?[iC+1].EQs[iC1, iC2, ESS[iC1,iC2,iC+1]].vI1) + pi*?(?[iC].EQs[iC1, iC2, ESS[iC1,iC2,iC]].vN1,?[iC].EQs[iC1, iC2, ESS[iC1,iC2,iC]].vI1)\u001b[39;00m\n\u001b[0;32m    <a href='file:///c%3A/Users/Jonat/Documents/Polit/Dynamic%20programing/Term%20paper/Github/Dynamic-Programming-Leapfrogging/Leapfrogging.py?line=585'>586</a>\u001b[0m \u001b[39m# % H2(iC1, iC2, iC) = (1-pi)*?(?[iC+1].EQs[iC1, iC2, ESS[iC1,iC2,iC+1]].vN2,?[iC+1].EQs[iC1, iC2, ESS[iC1,iC2,iC+1]].vI2) + pi*?(?[iC].EQs[iC1, iC2, ESS[iC1,iC2,iC]].vN2,?[iC].EQs[iC1, iC2, ESS[iC1,iC2,iC]].vI2)\u001b[39;00m\n\u001b[0;32m    <a href='file:///c%3A/Users/Jonat/Documents/Polit/Dynamic%20programing/Term%20paper/Github/Dynamic-Programming-Leapfrogging/Leapfrogging.py?line=587'>588</a>\u001b[0m \u001b[39m\"\"\"\u001b[39;00m\n\u001b[0;32m    <a href='file:///c%3A/Users/Jonat/Documents/Polit/Dynamic%20programing/Term%20paper/Github/Dynamic-Programming-Leapfrogging/Leapfrogging.py?line=588'>589</a>\u001b[0m \u001b[39mThese probably need to be fixed...\u001b[39;00m\n\u001b[0;32m    <a href='file:///c%3A/Users/Jonat/Documents/Polit/Dynamic%20programing/Term%20paper/Github/Dynamic-Programming-Leapfrogging/Leapfrogging.py?line=589'>590</a>\u001b[0m \u001b[39m\"\"\"\u001b[39;00m\n",
      "\u001b[1;31mAttributeError\u001b[0m: 'dict' object has no attribute 'esr'"
     ]
    }
   ],
   "source": [
    "ss = lf.cSS(lf.nC)\n",
    "ESS = lf.cESS(lf.nC)\n",
    "Gtau= lambda ss, ESS, tau: lf.state_recursion(ss,ESS, tau)  \n",
    "ESS, TAU, out=rls.solve(Gtau,ss.copy(),ESS.copy(),lf.stage_index)"
   ]
  },
  {
   "cell_type": "code",
   "execution_count": null,
   "metadata": {},
   "outputs": [],
   "source": []
  },
  {
   "cell_type": "code",
   "execution_count": 7,
   "metadata": {},
   "outputs": [
    {
     "data": {
      "text/plain": [
       "0"
      ]
     },
     "execution_count": 7,
     "metadata": {},
     "output_type": "execute_result"
    }
   ],
   "source": [
    "0"
   ]
  },
  {
   "cell_type": "code",
   "execution_count": 12,
   "metadata": {},
   "outputs": [
    {
     "name": "stdout",
     "output_type": "stream",
     "text": [
      "[1]\n"
     ]
    },
    {
     "ename": "SyntaxError",
     "evalue": "cannot assign to literal (<string>, line 1)",
     "output_type": "error",
     "traceback": [
      "Traceback \u001b[1;36m(most recent call last)\u001b[0m:\n",
      "  File \u001b[0;32mc:\\Users\\Jonat\\AppData\\Local\\Programs\\Python\\Python38\\lib\\site-packages\\IPython\\core\\interactiveshell.py:3397\u001b[0m in \u001b[0;35mrun_code\u001b[0m\n    exec(code_obj, self.user_global_ns, self.user_ns)\n",
      "\u001b[1;36m  Input \u001b[1;32mIn [12]\u001b[1;36m in \u001b[1;35m<cell line: 3>\u001b[1;36m\u001b[0m\n\u001b[1;33m    exec(f'{v} = {v[0]}')\u001b[0m\n",
      "\u001b[1;36m  File \u001b[1;32m<string>:1\u001b[1;36m\u001b[0m\n\u001b[1;31mSyntaxError\u001b[0m\u001b[1;31m:\u001b[0m cannot assign to literal\n"
     ]
    }
   ],
   "source": [
    "P1,vN1,vI1,P2,vN2,vI2 = [1], 2, [3], 4, 5, 6\n",
    "\n",
    "for v in [P1,vN1,vI1,P2,vN2,vI2]:\n",
    "    if isinstance(v,list):\n",
    "        print(v)\n",
    "        exec(f'{v} = {v[0]}')\n",
    "        print(v)\n",
    "eq = {'P1':P1, 'vN1':vN1, 'vI1':vI1, 'P2':P2, 'vN2':vN2, 'vI2':vI2}\n",
    "print(eq)"
   ]
  },
  {
   "cell_type": "code",
   "execution_count": 9,
   "metadata": {},
   "outputs": [
    {
     "data": {
      "text/plain": [
       "array([0, 0, 0, 0, 0, 0, 0, 0, 0, 0, 0, 0, 0, 0, 0, 0, 0, 0, 0, 0, 0, 0,\n",
       "       0, 0, 0, 0, 0, 0, 0, 0, 0, 0, 0, 0, 0, 0, 0, 0, 0, 0, 0, 0, 0, 0,\n",
       "       0, 0, 0, 0, 0, 0, 0, 0, 0, 0, 0])"
      ]
     },
     "execution_count": 9,
     "metadata": {},
     "output_type": "execute_result"
    }
   ],
   "source": [
    "np.zeros(int(N*(N+1)*(2*N+1)/6),dtype=int)"
   ]
  },
  {
   "cell_type": "code",
   "execution_count": 10,
   "metadata": {},
   "outputs": [
    {
     "data": {
      "text/plain": [
       "array([[0, 0, 0, 0, 0, 0, 0, 0, 0, 0, 0, 0, 0, 0, 0, 0, 0, 0, 0, 0, 0, 0,\n",
       "        0, 0, 0, 0, 0, 0, 0, 0, 0, 0, 0, 0, 0, 0, 0, 0, 0, 0, 0, 0, 0, 0,\n",
       "        0, 0, 0, 0, 0, 0, 0, 0, 0, 0, 0]])"
      ]
     },
     "execution_count": 10,
     "metadata": {},
     "output_type": "execute_result"
    }
   ],
   "source": [
    "np.zeros((1,int(N*(N+1)*(2*N+1)/6)),dtype=int)"
   ]
  },
  {
   "cell_type": "code",
   "execution_count": 10,
   "metadata": {},
   "outputs": [
    {
     "data": {
      "text/plain": [
       "[0, 0, 0, 0, 0, 1]"
      ]
     },
     "execution_count": 10,
     "metadata": {},
     "output_type": "execute_result"
    }
   ],
   "source": [
    "testESS[1]"
   ]
  },
  {
   "cell_type": "code",
   "execution_count": 22,
   "metadata": {},
   "outputs": [
    {
     "data": {
      "text/plain": [
       "tuple"
      ]
     },
     "execution_count": 22,
     "metadata": {},
     "output_type": "execute_result"
    }
   ],
   "source": [
    "type(np.nonzero((ESS['esr'][0]-ESS['esr'][0])!=0))"
   ]
  },
  {
   "cell_type": "code",
   "execution_count": 8,
   "metadata": {},
   "outputs": [
    {
     "data": {
      "text/plain": [
       "{'index': array([[[29, 28, 21, 7],\n",
       "         [None, 26, 23, 10],\n",
       "         [None, None, 17, 13],\n",
       "         [None, None, None, 1]],\n",
       " \n",
       "        [[None, 27, 22, 8],\n",
       "         [None, 25, 24, 11],\n",
       "         [None, None, 18, 14],\n",
       "         [None, None, None, 2]],\n",
       " \n",
       "        [[None, None, 19, 9],\n",
       "         [None, None, 20, 12],\n",
       "         [None, None, 16, 15],\n",
       "         [None, None, None, 3]],\n",
       " \n",
       "        [[None, None, None, 4],\n",
       "         [None, None, None, 5],\n",
       "         [None, None, None, 6],\n",
       "         [None, None, None, 0]]], dtype=object),\n",
       " 'esr': array([-1., -1., -1., -1., -1., -1., -1., -1., -1., -1., -1., -1., -1.,\n",
       "        -1., -1., -1., -1., -1., -1., -1., -1., -1., -1., -1., -1., -1.,\n",
       "        -1., -1., -1., -1.]),\n",
       " 'bases': array([[1, 1, 1, 1, 1, 1, 1, 1, 1, 1, 1, 0, 1, 1, 1, 1, 1, 1, 1, 1, 1, 1,\n",
       "         1, 1, 1, 1, 1, 1, 1, 1]])}"
      ]
     },
     "execution_count": 8,
     "metadata": {},
     "output_type": "execute_result"
    }
   ],
   "source": [
    "ESS"
   ]
  },
  {
   "cell_type": "code",
   "execution_count": null,
   "metadata": {},
   "outputs": [],
   "source": []
  }
 ],
 "metadata": {
  "interpreter": {
   "hash": "5ba1f6d498b622a33175926a1e2f90b1391313a70e628ffc805e7aeb04ddd433"
  },
  "kernelspec": {
   "display_name": "Python 3.8.9 64-bit",
   "language": "python",
   "name": "python3"
  },
  "language_info": {
   "codemirror_mode": {
    "name": "ipython",
    "version": 3
   },
   "file_extension": ".py",
   "mimetype": "text/x-python",
   "name": "python",
   "nbconvert_exporter": "python",
   "pygments_lexer": "ipython3",
   "version": "3.8.9"
  },
  "orig_nbformat": 4
 },
 "nbformat": 4,
 "nbformat_minor": 2
}
