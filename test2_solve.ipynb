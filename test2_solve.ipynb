{
 "cells": [
  {
   "cell_type": "code",
   "execution_count": 1,
   "metadata": {},
   "outputs": [
    {
     "ename": "SyntaxError",
     "evalue": "invalid syntax (RLS.py, line 45)",
     "output_type": "error",
     "traceback": [
      "Traceback \u001b[1;36m(most recent call last)\u001b[0m:\n",
      "  File \u001b[0;32mc:\\Users\\Jonat\\AppData\\Local\\Programs\\Python\\Python38\\lib\\site-packages\\IPython\\core\\interactiveshell.py:3397\u001b[0m in \u001b[0;35mrun_code\u001b[0m\n    exec(code_obj, self.user_global_ns, self.user_ns)\n",
      "\u001b[1;36m  Input \u001b[1;32mIn [1]\u001b[1;36m in \u001b[1;35m<cell line: 12>\u001b[1;36m\u001b[0m\n\u001b[1;33m    from RLS import rls_class\u001b[0m\n",
      "\u001b[1;36m  File \u001b[1;32mc:\\Users\\Jonat\\Documents\\Polit\\Dynamic programing\\Term paper\\Github\\Dynamic-Programming-Leapfrogging\\RLS.py:45\u001b[1;36m\u001b[0m\n\u001b[1;33m    changeindex = min(find((ESS(iEQ+1).esr-ESS(iEQ).esr)~=0))\u001b[0m\n\u001b[1;37m                                                        ^\u001b[0m\n\u001b[1;31mSyntaxError\u001b[0m\u001b[1;31m:\u001b[0m invalid syntax\n"
     ]
    }
   ],
   "source": [
    "import numpy as np\n",
    "import matplotlib.pyplot as plt\n",
    "import numpy.matlib\n",
    "%matplotlib inline\n",
    "import quantecon as qe\n",
    "import scipy.optimize as optimize\n",
    "import scipy.sparse as sparse\n",
    "from quantecon import compute_fixed_point\n",
    "from quantecon.markov import DiscreteDP\n",
    "from Leapfrogging import leapfrogging\n",
    "lf = leapfrogging()\n",
    "from RLS import rls_class\n",
    "rls = rls_class()"
   ]
  },
  {
   "cell_type": "code",
   "execution_count": null,
   "metadata": {},
   "outputs": [],
   "source": [
    "ss = lf.cSS(lf.nC)\n",
    "ESS = lf.cESS(lf.nC)\n",
    "Gtau= lambda ss, ESS, tau: lf.state_recursion(ss,ESS, tau)  "
   ]
  },
  {
   "cell_type": "code",
   "execution_count": null,
   "metadata": {},
   "outputs": [
    {
     "name": "stderr",
     "output_type": "stream",
     "text": [
      "c:\\Users\\Jonat\\Documents\\Polit\\Dynamic programing\\Term paper\\Github\\Dynamic-Programming-Leapfrogging\\Leapfrogging.py:54: RuntimeWarning: divide by zero encountered in double_scalars\n",
      "  self.K = lambda c: self.k0+self.k1/(1+self.k2*c) # investment cost of state of the art production cost c\n",
      "c:\\Users\\Jonat\\Documents\\Polit\\Dynamic programing\\Term paper\\Github\\Dynamic-Programming-Leapfrogging\\Leapfrogging.py:198: RuntimeWarning: invalid value encountered in double_scalars\n",
      "  d = b**2 - 4*a*c\n",
      "c:\\Users\\Jonat\\Documents\\Polit\\Dynamic programing\\Term paper\\Github\\Dynamic-Programming-Leapfrogging\\Leapfrogging.py:201: RuntimeWarning: invalid value encountered in double_scalars\n",
      "  pstar = [0, 1, -c/b] # xxx no idea what happens here\n"
     ]
    },
    {
     "ename": "TypeError",
     "evalue": "cannot unpack non-iterable NoneType object",
     "output_type": "error",
     "traceback": [
      "\u001b[1;31m---------------------------------------------------------------------------\u001b[0m",
      "\u001b[1;31mTypeError\u001b[0m                                 Traceback (most recent call last)",
      "\u001b[1;32mc:\\Users\\Jonat\\Documents\\Polit\\Dynamic programing\\Term paper\\Github\\Dynamic-Programming-Leapfrogging\\test2_solve.ipynb Cell 3'\u001b[0m in \u001b[0;36m<cell line: 1>\u001b[1;34m()\u001b[0m\n\u001b[1;32m----> <a href='vscode-notebook-cell:/c%3A/Users/Jonat/Documents/Polit/Dynamic%20programing/Term%20paper/Github/Dynamic-Programming-Leapfrogging/test2_solve.ipynb#ch0000054?line=0'>1</a>\u001b[0m ESS, TAU, out\u001b[39m=\u001b[39mrls\u001b[39m.\u001b[39msolve(Gtau,ss,ESS,lf\u001b[39m.\u001b[39mstage_index)\n",
      "\u001b[1;31mTypeError\u001b[0m: cannot unpack non-iterable NoneType object"
     ]
    }
   ],
   "source": [
    "ESS, TAU, out=rls.solve(Gtau,ss,ESS,lf.stage_index)"
   ]
  },
  {
   "cell_type": "code",
   "execution_count": null,
   "metadata": {},
   "outputs": [],
   "source": [
    "# below here runs without too many errors"
   ]
  },
  {
   "cell_type": "code",
   "execution_count": null,
   "metadata": {},
   "outputs": [],
   "source": [
    "# Data containers\n",
    "# These work fine\n",
    "ss = lf.cSS(lf.nC)\n",
    "ESS = lf.cESS(lf.nC)\n",
    "Gtau= lambda ss, ESS, tau: lf.state_recursion(ss,ESS, tau)  \n",
    "\n",
    "# broken:\n",
    "\n",
    "# ESS, TAU, out=rls.solve(Gtau,ss,ESS,mp.stage_index)\n",
    "\n"
   ]
  },
  {
   "cell_type": "code",
   "execution_count": null,
   "metadata": {},
   "outputs": [],
   "source": []
  }
 ],
 "metadata": {
  "interpreter": {
   "hash": "5ba1f6d498b622a33175926a1e2f90b1391313a70e628ffc805e7aeb04ddd433"
  },
  "kernelspec": {
   "display_name": "Python 3.8.9 64-bit",
   "language": "python",
   "name": "python3"
  },
  "language_info": {
   "codemirror_mode": {
    "name": "ipython",
    "version": 3
   },
   "file_extension": ".py",
   "mimetype": "text/x-python",
   "name": "python",
   "nbconvert_exporter": "python",
   "pygments_lexer": "ipython3",
   "version": "3.8.9"
  },
  "orig_nbformat": 4
 },
 "nbformat": 4,
 "nbformat_minor": 2
}
