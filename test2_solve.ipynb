{
 "cells": [
  {
   "cell_type": "code",
   "execution_count": 1,
   "metadata": {},
   "outputs": [],
   "source": [
    "import numpy as np\n",
    "import matplotlib.pyplot as plt\n",
    "import numpy.matlib\n",
    "%matplotlib inline\n",
    "import quantecon as qe\n",
    "import scipy.optimize as optimize\n",
    "import scipy.sparse as sparse\n",
    "from quantecon import compute_fixed_point\n",
    "from quantecon.markov import DiscreteDP\n",
    "from Leapfrogging import leapfrogging\n",
    "lf = leapfrogging()"
   ]
  },
  {
   "cell_type": "code",
   "execution_count": 2,
   "metadata": {},
   "outputs": [
    {
     "name": "stdout",
     "output_type": "stream",
     "text": [
      "ic1i = 1, ic2i = 1, ici = 1\n",
      "ic1i = 1, ic2i = 1, ici = 2\n",
      "ic1i = 1, ic2i = 2, ici = 2\n",
      "ic1i = 2, ic2i = 1, ici = 2\n",
      "ic1i = 2, ic2i = 2, ici = 2\n",
      "ic1i = 1, ic2i = 1, ici = 3\n",
      "ic1i = 1, ic2i = 2, ici = 3\n",
      "ic1i = 1, ic2i = 3, ici = 3\n",
      "ic1i = 2, ic2i = 1, ici = 3\n",
      "ic1i = 2, ic2i = 2, ici = 3\n",
      "ic1i = 2, ic2i = 3, ici = 3\n",
      "ic1i = 3, ic2i = 1, ici = 3\n",
      "ic1i = 3, ic2i = 2, ici = 3\n",
      "ic1i = 3, ic2i = 3, ici = 3\n",
      "ic1i = 1, ic2i = 1, ici = 4\n",
      "ic1i = 1, ic2i = 2, ici = 4\n",
      "ic1i = 1, ic2i = 3, ici = 4\n",
      "ic1i = 1, ic2i = 4, ici = 4\n",
      "ic1i = 2, ic2i = 1, ici = 4\n",
      "ic1i = 2, ic2i = 2, ici = 4\n",
      "ic1i = 2, ic2i = 3, ici = 4\n",
      "ic1i = 2, ic2i = 4, ici = 4\n",
      "ic1i = 3, ic2i = 1, ici = 4\n",
      "ic1i = 3, ic2i = 2, ici = 4\n",
      "ic1i = 3, ic2i = 3, ici = 4\n",
      "ic1i = 3, ic2i = 4, ici = 4\n",
      "ic1i = 4, ic2i = 1, ici = 4\n",
      "ic1i = 4, ic2i = 2, ici = 4\n",
      "ic1i = 4, ic2i = 3, ici = 4\n",
      "ic1i = 4, ic2i = 4, ici = 4\n"
     ]
    }
   ],
   "source": [
    "# Data containers\n",
    "\n",
    "ss = lf.cSS(lf.nC)\n",
    "ESS = lf.cESS(lf.nC)\n"
   ]
  },
  {
   "cell_type": "code",
   "execution_count": 3,
   "metadata": {},
   "outputs": [
    {
     "name": "stdout",
     "output_type": "stream",
     "text": [
      "(4, 4, 4)\n"
     ]
    }
   ],
   "source": [
    "print(np.shape(ESS['index']))"
   ]
  },
  {
   "cell_type": "code",
   "execution_count": 12,
   "metadata": {},
   "outputs": [
    {
     "name": "stdout",
     "output_type": "stream",
     "text": [
      "[[[30.0 29.0 22.0 8.0]\n",
      "  [None 27.0 24.0 11.0]\n",
      "  [None None 18.0 14.0]\n",
      "  [None None None 2.0]]\n",
      "\n",
      " [[None 28.0 23.0 9.0]\n",
      "  [None 26.0 25.0 12.0]\n",
      "  [None None 19.0 15.0]\n",
      "  [None None None 3.0]]\n",
      "\n",
      " [[None None 20.0 10.0]\n",
      "  [None None 21.0 13.0]\n",
      "  [None None 17.0 16.0]\n",
      "  [None None None 4.0]]\n",
      "\n",
      " [[None None None 5.0]\n",
      "  [None None None 6.0]\n",
      "  [None None None 7.0]\n",
      "  [None None None 1.0]]]\n"
     ]
    }
   ],
   "source": [
    "print(ESS['index'])"
   ]
  },
  {
   "cell_type": "code",
   "execution_count": 20,
   "metadata": {},
   "outputs": [],
   "source": [
    "x = 4\n",
    "ic1 = 0\n",
    "ic2 = 0\n",
    "ic = 1"
   ]
  },
  {
   "cell_type": "code",
   "execution_count": 21,
   "metadata": {},
   "outputs": [
    {
     "name": "stdout",
     "output_type": "stream",
     "text": [
      "31.0\n",
      "1.0\n",
      "30.0\n"
     ]
    }
   ],
   "source": [
    "a = 1 + lf.div(x*(x+1)*(2*x+1),6)\n",
    "b = lf.div(ic*(ic+1)*(2*ic+1),6)\n",
    "print(a)\n",
    "print(b)\n",
    "print(a-b)"
   ]
  },
  {
   "cell_type": "code",
   "execution_count": 44,
   "metadata": {},
   "outputs": [
    {
     "name": "stdout",
     "output_type": "stream",
     "text": [
      "30.0\n",
      "3.0\n",
      "27.0\n"
     ]
    }
   ],
   "source": [
    "a = lf.div(x*(x+1)*(2*x+1),6)\n",
    "b = lf.div((ic+1)*(ic+1)*(2*ic+1),6) + ic1+1\n",
    "print(a)\n",
    "print(b)\n",
    "print(a-b)"
   ]
  },
  {
   "cell_type": "code",
   "execution_count": 56,
   "metadata": {},
   "outputs": [
    {
     "name": "stdout",
     "output_type": "stream",
     "text": [
      "30.0\n",
      "4.0\n",
      "26.0\n"
     ]
    }
   ],
   "source": [
    "a = lf.div(x*(x+1)*(2*x+1),6)\n",
    "b = lf.div((ic+1)*(ic+1)*(2*(ic+1)),6) + (ic+1) - 1 + (ic2+1)\n",
    "print(a)\n",
    "print(b)\n",
    "print(a-b)"
   ]
  },
  {
   "cell_type": "code",
   "execution_count": 8,
   "metadata": {},
   "outputs": [
    {
     "data": {
      "text/plain": [
       "True"
      ]
     },
     "execution_count": 8,
     "metadata": {},
     "output_type": "execute_result"
    }
   ],
   "source": [
    "set([ic1,ic2]) == set([ic,ic])"
   ]
  },
  {
   "cell_type": "code",
   "execution_count": 47,
   "metadata": {},
   "outputs": [
    {
     "name": "stdout",
     "output_type": "stream",
     "text": [
      "here3\n",
      "30.0\n"
     ]
    }
   ],
   "source": [
    "    def essindex(self,x,ic1,ic2,ic):\n",
    "\n",
    "        # % INPUT: x is count of technological levels\n",
    "        # % OUTPUT: ess index number for point (m,n,h) i state space\n",
    "        if set([ic1,ic2]) == set([ic,ic]):\n",
    "            index = self.div(x*(x+1)*(2*x+1),6) - self.div(ic*(ic)*(2*ic),6)\n",
    "        elif ic2 == ic:\n",
    "            index = self.div(x*(x+1)*(2*x+1),6) - self.div((ic+1)*(ic+1)*(2*ic+1),6) + (ic1+1)\n",
    "        elif ic1 == ic:\n",
    "            index = self.div(x*(x+1)*(2*x+1),6) - self.div(ic*(ic+1)*(2*ic+1),6) + ic - 1 + ic2\n",
    "        else:\n",
    "            index = self.div(x*(x+1)*(2*x+1),6) - self.div(ic*(ic+1)*(2*ic+1),6) + 2*(ic - 1) + self.sub2ind([ic-1,ic-1],ic1,ic2) # xxx sub2ind might be a bit wonky\n",
    "        return index"
   ]
  },
  {
   "cell_type": "code",
   "execution_count": null,
   "metadata": {},
   "outputs": [],
   "source": []
  }
 ],
 "metadata": {
  "interpreter": {
   "hash": "5ba1f6d498b622a33175926a1e2f90b1391313a70e628ffc805e7aeb04ddd433"
  },
  "kernelspec": {
   "display_name": "Python 3.8.9 64-bit",
   "language": "python",
   "name": "python3"
  },
  "language_info": {
   "codemirror_mode": {
    "name": "ipython",
    "version": 3
   },
   "file_extension": ".py",
   "mimetype": "text/x-python",
   "name": "python",
   "nbconvert_exporter": "python",
   "pygments_lexer": "ipython3",
   "version": "3.8.9"
  },
  "orig_nbformat": 4
 },
 "nbformat": 4,
 "nbformat_minor": 2
}
