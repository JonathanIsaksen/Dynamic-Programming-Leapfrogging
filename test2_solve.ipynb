{
 "cells": [
  {
   "cell_type": "code",
   "execution_count": 1,
   "metadata": {},
   "outputs": [],
   "source": [
    "import numpy as np\n",
    "import matplotlib.pyplot as plt\n",
    "import numpy.matlib\n",
    "%matplotlib inline\n",
    "import quantecon as qe\n",
    "import scipy.optimize as optimize\n",
    "import scipy.sparse as sparse\n",
    "from quantecon import compute_fixed_point\n",
    "from quantecon.markov import DiscreteDP\n",
    "from Leapfrogging import leapfrogging\n",
    "lf = leapfrogging()\n",
    "from RLS import rls_class\n",
    "rls = rls_class()"
   ]
  },
  {
   "cell_type": "code",
   "execution_count": 2,
   "metadata": {},
   "outputs": [],
   "source": [
    "ss = lf.cSS(lf.nC)\n",
    "ESS = lf.cESS(lf.nC)\n",
    "Gtau= lambda ss, ESS, tau: lf.state_recursion(ss,ESS, tau)  "
   ]
  },
  {
   "cell_type": "code",
   "execution_count": 3,
   "metadata": {},
   "outputs": [
    {
     "name": "stderr",
     "output_type": "stream",
     "text": [
      "c:\\Users\\Jonat\\Documents\\Polit\\Dynamic programing\\Term paper\\Github\\Dynamic-Programming-Leapfrogging\\Leapfrogging.py:54: RuntimeWarning: divide by zero encountered in double_scalars\n",
      "  self.K = lambda c: self.k0+self.k1/(1+self.k2*c) # investment cost of state of the art production cost c\n",
      "c:\\Users\\Jonat\\Documents\\Polit\\Dynamic programing\\Term paper\\Github\\Dynamic-Programming-Leapfrogging\\Leapfrogging.py:198: RuntimeWarning: invalid value encountered in double_scalars\n",
      "  d = b**2 - 4*a*c\n",
      "c:\\Users\\Jonat\\Documents\\Polit\\Dynamic programing\\Term paper\\Github\\Dynamic-Programming-Leapfrogging\\Leapfrogging.py:201: RuntimeWarning: invalid value encountered in double_scalars\n",
      "  pstar = [0, 1, -c/b] # xxx no idea what happens here\n"
     ]
    },
    {
     "name": "stdout",
     "output_type": "stream",
     "text": [
      "ESR[10000]['esr']  :\n",
      "[[0 0 0 0 0 0 0 0 0 0 0 0 0 0 0 0 0 0 0 0 0 0 0 0 0 0 0 0 0 0]]\n",
      "ESR[10000]['bases']:\n",
      "[[1 1 1 1 1 1 1 1 1 1 1 0 1 1 1 1 1 1 1 1 1 1 1 1 1 1 1 1 1 1]]\n",
      "ESR[20000]['esr']  :\n",
      "[[0 0 0 0 0 0 0 0 0 0 0 0 0 0 0 0 0 0 0 0 0 0 0 0 0 0 0 0 0 0]]\n",
      "ESR[20000]['bases']:\n",
      "[[1 1 1 1 1 1 1 1 1 1 1 0 1 1 1 1 1 1 1 1 1 1 1 1 1 1 1 1 1 1]]\n",
      "ESR[30000]['esr']  :\n",
      "[[0 0 0 0 0 0 0 0 0 0 0 0 0 0 0 0 0 0 0 0 0 0 0 0 0 0 0 0 0 0]]\n",
      "ESR[30000]['bases']:\n",
      "[[1 1 1 1 1 1 1 1 1 1 1 0 1 1 1 1 1 1 1 1 1 1 1 1 1 1 1 1 1 1]]\n",
      "ESR[40000]['esr']  :\n",
      "[[0 0 0 0 0 0 0 0 0 0 0 0 0 0 0 0 0 0 0 0 0 0 0 0 0 0 0 0 0 0]]\n",
      "ESR[40000]['bases']:\n",
      "[[1 1 1 1 1 1 1 1 1 1 1 0 1 1 1 1 1 1 1 1 1 1 1 1 1 1 1 1 1 1]]\n",
      "ESR[50000]['esr']  :\n",
      "[[0 0 0 0 0 0 0 0 0 0 0 0 0 0 0 0 0 0 0 0 0 0 0 0 0 0 0 0 0 0]]\n",
      "ESR[50000]['bases']:\n",
      "[[1 1 1 1 1 1 1 1 1 1 1 0 1 1 1 1 1 1 1 1 1 1 1 1 1 1 1 1 1 1]]\n"
     ]
    }
   ],
   "source": [
    "ESS, TAU, out=rls.solve(Gtau,ss,ESS,lf.stage_index)"
   ]
  },
  {
   "cell_type": "code",
   "execution_count": null,
   "metadata": {},
   "outputs": [],
   "source": [
    "# below here runs without too many errors"
   ]
  },
  {
   "cell_type": "code",
   "execution_count": null,
   "metadata": {},
   "outputs": [],
   "source": []
  },
  {
   "cell_type": "code",
   "execution_count": null,
   "metadata": {},
   "outputs": [],
   "source": [
    "# Data containers\n",
    "# These work fine\n",
    "ss = lf.cSS(lf.nC)\n",
    "ESS = lf.cESS(lf.nC)\n",
    "Gtau= lambda ss, ESS, tau: lf.state_recursion(ss,ESS, tau)  \n",
    "\n",
    "# broken:\n",
    "\n",
    "# ESS, TAU, out=rls.solve(Gtau,ss,ESS,mp.stage_index)\n",
    "\n"
   ]
  },
  {
   "cell_type": "code",
   "execution_count": 31,
   "metadata": {},
   "outputs": [
    {
     "data": {
      "text/plain": [
       "array([nan, nan, nan, nan])"
      ]
     },
     "execution_count": 31,
     "metadata": {},
     "output_type": "execute_result"
    }
   ],
   "source": [
    "out = np.empty(4)\n",
    "out[:] = np.NaN\n",
    "out"
   ]
  },
  {
   "cell_type": "code",
   "execution_count": 38,
   "metadata": {},
   "outputs": [
    {
     "ename": "IndexError",
     "evalue": "index 5 is out of bounds for axis 0 with size 4",
     "output_type": "error",
     "traceback": [
      "\u001b[1;31m---------------------------------------------------------------------------\u001b[0m",
      "\u001b[1;31mIndexError\u001b[0m                                Traceback (most recent call last)",
      "\u001b[1;32mc:\\Users\\Jonat\\Documents\\Polit\\Dynamic programing\\Term paper\\Github\\Dynamic-Programming-Leapfrogging\\test2_solve.ipynb Cell 8'\u001b[0m in \u001b[0;36m<cell line: 1>\u001b[1;34m()\u001b[0m\n\u001b[1;32m----> <a href='vscode-notebook-cell:/c%3A/Users/Jonat/Documents/Polit/Dynamic%20programing/Term%20paper/Github/Dynamic-Programming-Leapfrogging/test2_solve.ipynb#ch0000076?line=0'>1</a>\u001b[0m np\u001b[39m.\u001b[39;49minsert(out,\u001b[39m5\u001b[39;49m,\u001b[39m5\u001b[39;49m)\n",
      "File \u001b[1;32m<__array_function__ internals>:5\u001b[0m, in \u001b[0;36minsert\u001b[1;34m(*args, **kwargs)\u001b[0m\n",
      "File \u001b[1;32mc:\\Users\\Jonat\\AppData\\Local\\Programs\\Python\\Python38\\lib\\site-packages\\numpy\\lib\\function_base.py:4558\u001b[0m, in \u001b[0;36minsert\u001b[1;34m(arr, obj, values, axis)\u001b[0m\n\u001b[0;32m   <a href='file:///c%3A/Users/Jonat/AppData/Local/Programs/Python/Python38/lib/site-packages/numpy/lib/function_base.py?line=4555'>4556</a>\u001b[0m index \u001b[39m=\u001b[39m indices\u001b[39m.\u001b[39mitem()\n\u001b[0;32m   <a href='file:///c%3A/Users/Jonat/AppData/Local/Programs/Python/Python38/lib/site-packages/numpy/lib/function_base.py?line=4556'>4557</a>\u001b[0m \u001b[39mif\u001b[39;00m index \u001b[39m<\u001b[39m \u001b[39m-\u001b[39mN \u001b[39mor\u001b[39;00m index \u001b[39m>\u001b[39m N:\n\u001b[1;32m-> <a href='file:///c%3A/Users/Jonat/AppData/Local/Programs/Python/Python38/lib/site-packages/numpy/lib/function_base.py?line=4557'>4558</a>\u001b[0m     \u001b[39mraise\u001b[39;00m \u001b[39mIndexError\u001b[39;00m(\n\u001b[0;32m   <a href='file:///c%3A/Users/Jonat/AppData/Local/Programs/Python/Python38/lib/site-packages/numpy/lib/function_base.py?line=4558'>4559</a>\u001b[0m         \u001b[39m\"\u001b[39m\u001b[39mindex \u001b[39m\u001b[39m%i\u001b[39;00m\u001b[39m is out of bounds for axis \u001b[39m\u001b[39m%i\u001b[39;00m\u001b[39m with \u001b[39m\u001b[39m\"\u001b[39m\n\u001b[0;32m   <a href='file:///c%3A/Users/Jonat/AppData/Local/Programs/Python/Python38/lib/site-packages/numpy/lib/function_base.py?line=4559'>4560</a>\u001b[0m         \u001b[39m\"\u001b[39m\u001b[39msize \u001b[39m\u001b[39m%i\u001b[39;00m\u001b[39m\"\u001b[39m \u001b[39m%\u001b[39m (obj, axis, N))\n\u001b[0;32m   <a href='file:///c%3A/Users/Jonat/AppData/Local/Programs/Python/Python38/lib/site-packages/numpy/lib/function_base.py?line=4560'>4561</a>\u001b[0m \u001b[39mif\u001b[39;00m (index \u001b[39m<\u001b[39m \u001b[39m0\u001b[39m):\n\u001b[0;32m   <a href='file:///c%3A/Users/Jonat/AppData/Local/Programs/Python/Python38/lib/site-packages/numpy/lib/function_base.py?line=4561'>4562</a>\u001b[0m     index \u001b[39m+\u001b[39m\u001b[39m=\u001b[39m N\n",
      "\u001b[1;31mIndexError\u001b[0m: index 5 is out of bounds for axis 0 with size 4"
     ]
    }
   ],
   "source": []
  },
  {
   "cell_type": "code",
   "execution_count": 35,
   "metadata": {},
   "outputs": [
    {
     "data": {
      "text/plain": [
       "array([nan,  4., nan, nan])"
      ]
     },
     "execution_count": 35,
     "metadata": {},
     "output_type": "execute_result"
    }
   ],
   "source": [
    "out"
   ]
  },
  {
   "cell_type": "code",
   "execution_count": 26,
   "metadata": {},
   "outputs": [
    {
     "data": {
      "text/plain": [
       "[4, 4, 4]"
      ]
     },
     "execution_count": 26,
     "metadata": {},
     "output_type": "execute_result"
    }
   ],
   "source": [
    "out[:]"
   ]
  },
  {
   "cell_type": "code",
   "execution_count": null,
   "metadata": {},
   "outputs": [],
   "source": []
  }
 ],
 "metadata": {
  "interpreter": {
   "hash": "5ba1f6d498b622a33175926a1e2f90b1391313a70e628ffc805e7aeb04ddd433"
  },
  "kernelspec": {
   "display_name": "Python 3.8.9 64-bit",
   "language": "python",
   "name": "python3"
  },
  "language_info": {
   "codemirror_mode": {
    "name": "ipython",
    "version": 3
   },
   "file_extension": ".py",
   "mimetype": "text/x-python",
   "name": "python",
   "nbconvert_exporter": "python",
   "pygments_lexer": "ipython3",
   "version": "3.8.9"
  },
  "orig_nbformat": 4
 },
 "nbformat": 4,
 "nbformat_minor": 2
}
