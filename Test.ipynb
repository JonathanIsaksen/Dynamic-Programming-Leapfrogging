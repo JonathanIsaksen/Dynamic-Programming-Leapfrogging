{
 "cells": [
  {
   "cell_type": "markdown",
   "metadata": {},
   "source": [
    "Standard dp problem"
   ]
  },
  {
   "cell_type": "code",
   "execution_count": 97,
   "metadata": {},
   "outputs": [],
   "source": [
    "import numpy as np\n",
    "import matplotlib.pyplot as plt\n",
    "import numpy.matlib\n",
    "%matplotlib inline\n",
    "import quantecon as qe\n",
    "import scipy.sparse as sparse\n",
    "from quantecon import compute_fixed_point\n",
    "from quantecon.markov import DiscreteDP"
   ]
  },
  {
   "cell_type": "code",
   "execution_count": 41,
   "metadata": {},
   "outputs": [],
   "source": [
    "# Define a random model I found on the internet\n",
    "class model:\n",
    "\n",
    "    def __init__(self, B=10, M=5, α=0.5, β=0.9):\n",
    "        \"\"\"\n",
    "        R = reward array (n x m)\n",
    "        Q = trnasition probability array (n x m x n)\n",
    "        β = discount factor [0,1)\n",
    "        α = quanticy to store and the action\n",
    "        c = consume (s - α)\n",
    "        M = global bound of storage\n",
    "        u(c) = flow utility (c^α)\n",
    "        s' = next periods stock (a + U)\n",
    "        U = output, uniform distribution {0,...,B}\n",
    "        B = maximum output\n",
    "        S = state space {0,...,M+B}\n",
    "        n = number of states (M + B + 1) since 0 to M + B\n",
    "        A(s) = set of feasible actions {0,...,min{s,M}}\n",
    "        r(s,α) = reward function (u(s - α))\n",
    "        Q(s,α,s') = transition probability (equation 4.3)\n",
    "        \"\"\"\n",
    "\n",
    "        self.B, self.M, self.α, self.β  = B, M, α, β\n",
    "        self.n = B + M + 1\n",
    "        self.m = M + 1\n",
    "\n",
    "        self.R = np.empty((self.n, self.m))\n",
    "        self.Q = np.zeros((self.n, self.m, self.n))\n",
    "\n",
    "        self.populate_Q() \n",
    "        self.populate_R()\n",
    "\n",
    "    def u(self, c):\n",
    "        return c**self.α\n",
    "\n",
    "    def populate_R(self):\n",
    "        \"\"\"\n",
    "        Populate the R matrix, with R[s, a] = -np.inf for infeasible\n",
    "        state-action pairs.\n",
    "        \"\"\"\n",
    "        for s in range(self.n):\n",
    "            for a in range(self.m):\n",
    "                self.R[s, a] = self.u(s - a) if a <= s else -np.inf\n",
    "\n",
    "    def populate_Q(self):\n",
    "        \"\"\"\n",
    "        Populate the Q matrix by setting\n",
    "\n",
    "            Q[s, a, s'] = 1 / (1 + B) if a <= s' <= a + B\n",
    "\n",
    "        and zero otherwise.\n",
    "        \"\"\"\n",
    "\n",
    "        for a in range(self.m):\n",
    "            self.Q[:, a, a:(a + self.B + 1)] = 1.0 / (self.B + 1)"
   ]
  },
  {
   "cell_type": "code",
   "execution_count": 522,
   "metadata": {},
   "outputs": [],
   "source": [
    "# Define the leapfrogging model\n",
    "class lf:\n",
    "\n",
    "    def __init__(self, Cmax = 5, Cmin = 0, nC = 4, pf = 1, k0 = 0, k1 = 8.3, k2 = 1, R = 0.05, Dt = 1):\n",
    "        \"\"\"\n",
    "        Descibe the variables here :(\n",
    "        all the standard fixed parameters\n",
    "        \"\"\"\n",
    "\n",
    "        self.Cmax, self.Cmin, self.nC, self.pf, self.k0, self.k1, self.k2, self.R, self.Dt  = Cmax, Cmin, nC, pf, k0, k1, k2, R, Dt\n",
    "        \"\"\"\n",
    "        Define the Model parameters\n",
    "        \"\"\"\n",
    "        \n",
    "        self.p = np.ones(self.nC) # transition probability \n",
    "        self.populate_p() # ppupalate with the probabilities\n",
    "        self.q = 1 - self.p\n",
    "        self.C = np.linspace(self.Cmax,self.Cmin,self.nC)\n",
    "        self.beta = np.exp(-self.R*self.Dt)\n",
    "        self.T = (self.nC-1)*3 + 1\n",
    "        self.nESS = self.nC * (self.nC + 1) * (2*self.nC+1)/6\n",
    "\n",
    "        self.firm1 = np.empty((self.nC,self.nC,self.nC)) # initialize the two firms with empty values \n",
    "        self.firm1[:] = np.nan\n",
    "        self.firm2 = self.firm1.copy()\n",
    "        self.populate_firms()\n",
    "        \n",
    "        self.stage_index = self.rlsindex(self.nC)\n",
    "        print(self.stage_index)\n",
    "\n",
    "        # Functional forms\n",
    "        \"\"\"\n",
    "        Lambda functions to be defined:\n",
    "        K\n",
    "        Payoff\n",
    "        r1\n",
    "        r2\n",
    "        Phi\n",
    "        \"\"\"\n",
    "        self.K = @(c) mp.k0+mp.k1/(1+mp.k2*c)\n",
    "\n",
    "    def rlsindex(self, nC):\n",
    "        Ns = 0\n",
    "        for i in range(0,nC+1):\n",
    "            Ns = Ns + i**2\n",
    "        T = 1 + 3 * (nC-1)\n",
    "        Ns_in_stages = np.ones((1,T))\n",
    "        j = 0\n",
    "        l = nC\n",
    "        while l>1:\n",
    "            Ns_in_stages[0,j] = 1\n",
    "            j += 1\n",
    "            Ns_in_stages[0,j] = 2*(l-1)\n",
    "            j += 1\n",
    "            Ns_in_stages[0,j] = (l-1)**2\n",
    "            j += 1\n",
    "            l -= 1\n",
    "        return np.cumsum(Ns_in_stages)\n",
    "\n",
    "    def populate_p(self):\n",
    "        \"\"\"\n",
    "        Simple list with 0 as last value\n",
    "        \"\"\"\n",
    "\n",
    "        for a in range(0,self.nC):\n",
    "            if a < self.nC - 1:\n",
    "                self.p[a] = self.p[a]*self.pf\n",
    "            else:\n",
    "                self.p[a] = 0\n",
    "\n",
    "    def populate_firms(self):\n",
    "        for i in range(0,self.nC):\n",
    "            self.firm2[i,:i+1,:i+1] = np.matlib.repmat(C[:i+1],i+1,1)\n",
    "            self.firm1[i] = self.firm2[i].transpose().copy()\n",
    "        "
   ]
  },
  {
   "cell_type": "code",
   "execution_count": 523,
   "metadata": {},
   "outputs": [
    {
     "name": "stdout",
     "output_type": "stream",
     "text": [
      "[ 1.  7. 16. 17. 21. 25. 26. 28. 29. 30.]\n"
     ]
    }
   ],
   "source": [
    "testlf = lf()"
   ]
  },
  {
   "cell_type": "code",
   "execution_count": 510,
   "metadata": {},
   "outputs": [],
   "source": [
    "test = np.ones((1,10))"
   ]
  },
  {
   "cell_type": "code",
   "execution_count": 516,
   "metadata": {},
   "outputs": [
    {
     "data": {
      "text/plain": [
       "1.0"
      ]
     },
     "execution_count": 516,
     "metadata": {},
     "output_type": "execute_result"
    }
   ],
   "source": [
    "test[0,0]"
   ]
  },
  {
   "cell_type": "code",
   "execution_count": null,
   "metadata": {},
   "outputs": [],
   "source": []
  }
 ],
 "metadata": {
  "interpreter": {
   "hash": "5ba1f6d498b622a33175926a1e2f90b1391313a70e628ffc805e7aeb04ddd433"
  },
  "kernelspec": {
   "display_name": "Python 3.8.9 64-bit",
   "language": "python",
   "name": "python3"
  },
  "language_info": {
   "codemirror_mode": {
    "name": "ipython",
    "version": 3
   },
   "file_extension": ".py",
   "mimetype": "text/x-python",
   "name": "python",
   "nbconvert_exporter": "python",
   "pygments_lexer": "ipython3",
   "version": "3.8.9"
  },
  "orig_nbformat": 4
 },
 "nbformat": 4,
 "nbformat_minor": 2
}
